{
  "cells": [
    {
      "cell_type": "markdown",
      "metadata": {},
      "source": [
        "\n",
        "# PSX Stock Price Prediction, Candlesticks, and Investment Simulation\n",
        "\n",
        "**Models:** LSTM (DL) + RandomForestRegressor (ML baseline)  \n",
        "**Dataset schema:** `Date, Symbol, Open, High, Low, Close`  \n",
        "\n"
      ]
    },
    {
      "cell_type": "code",
      "execution_count": 80,
      "metadata": {},
      "outputs": [],
      "source": [
        "CSV_PATH = \"./psx_data_20211210_to_20241210.csv\"  \n",
        "SYMBOL = \"OGDC\"  # e.g., \"WTL\", \"UBL\", \"TRG\", etc.\n",
        "DATE_COL = \"Date\"\n",
        "CLOSE_COL = \"Close\"\n",
        "OHLC_COLS = [\"Open\", \"High\", \"Low\", \"Close\"]\n",
        "\n",
        "# Forecast target dates \n",
        "FORECAST_DATES_STR = [\"2025-06-01\", \"2025-09-01\", \"2025-12-01\", \"2026-06-01\"]\n",
        "\n",
        "# Investment simulation\n",
        "INVEST_DATE_STR = \"2025-06-01\"\n",
        "INVEST_AMOUNT = 10000\n",
        "\n",
        "# Sliding window\n",
        "WINDOW_SIZE = 552  # previous days to use as features\n",
        "TEST_SIZE_RATIO = 0.2  #\n",
        "\n",
        "RANDOM_STATE = 42\n",
        "\n",
        "# Create output folders\n",
        "import os\n",
        "for d in [\"models\", \"figures\", \"metrics\", \"forecasts\"]:\n",
        "    os.makedirs(d, exist_ok=True)\n"
      ]
    },
    {
      "cell_type": "code",
      "execution_count": 3,
      "id": "d8b93d6c",
      "metadata": {},
      "outputs": [
        {
          "name": "stdout",
          "output_type": "stream",
          "text": [
            "Collecting mplfinance\n",
            "  Downloading mplfinance-0.12.10b0-py3-none-any.whl.metadata (19 kB)\n",
            "Requirement already satisfied: matplotlib in c:\\users\\ameer abdullah\\appdata\\local\\programs\\python\\python312\\lib\\site-packages (from mplfinance) (3.10.3)\n",
            "Requirement already satisfied: pandas in c:\\users\\ameer abdullah\\appdata\\local\\programs\\python\\python312\\lib\\site-packages (from mplfinance) (2.3.1)\n",
            "Requirement already satisfied: contourpy>=1.0.1 in c:\\users\\ameer abdullah\\appdata\\local\\programs\\python\\python312\\lib\\site-packages (from matplotlib->mplfinance) (1.3.3)\n",
            "Requirement already satisfied: cycler>=0.10 in c:\\users\\ameer abdullah\\appdata\\local\\programs\\python\\python312\\lib\\site-packages (from matplotlib->mplfinance) (0.12.1)\n",
            "Requirement already satisfied: fonttools>=4.22.0 in c:\\users\\ameer abdullah\\appdata\\local\\programs\\python\\python312\\lib\\site-packages (from matplotlib->mplfinance) (4.59.0)\n",
            "Requirement already satisfied: kiwisolver>=1.3.1 in c:\\users\\ameer abdullah\\appdata\\local\\programs\\python\\python312\\lib\\site-packages (from matplotlib->mplfinance) (1.4.8)\n",
            "Requirement already satisfied: numpy>=1.23 in c:\\users\\ameer abdullah\\appdata\\local\\programs\\python\\python312\\lib\\site-packages (from matplotlib->mplfinance) (2.1.3)\n",
            "Requirement already satisfied: packaging>=20.0 in c:\\users\\ameer abdullah\\appdata\\local\\programs\\python\\python312\\lib\\site-packages (from matplotlib->mplfinance) (25.0)\n",
            "Requirement already satisfied: pillow>=8 in c:\\users\\ameer abdullah\\appdata\\local\\programs\\python\\python312\\lib\\site-packages (from matplotlib->mplfinance) (11.3.0)\n",
            "Requirement already satisfied: pyparsing>=2.3.1 in c:\\users\\ameer abdullah\\appdata\\local\\programs\\python\\python312\\lib\\site-packages (from matplotlib->mplfinance) (3.2.3)\n",
            "Requirement already satisfied: python-dateutil>=2.7 in c:\\users\\ameer abdullah\\appdata\\local\\programs\\python\\python312\\lib\\site-packages (from matplotlib->mplfinance) (2.9.0.post0)\n",
            "Requirement already satisfied: six>=1.5 in c:\\users\\ameer abdullah\\appdata\\local\\programs\\python\\python312\\lib\\site-packages (from python-dateutil>=2.7->matplotlib->mplfinance) (1.17.0)\n",
            "Requirement already satisfied: pytz>=2020.1 in c:\\users\\ameer abdullah\\appdata\\local\\programs\\python\\python312\\lib\\site-packages (from pandas->mplfinance) (2025.2)\n",
            "Requirement already satisfied: tzdata>=2022.7 in c:\\users\\ameer abdullah\\appdata\\local\\programs\\python\\python312\\lib\\site-packages (from pandas->mplfinance) (2025.2)\n",
            "Downloading mplfinance-0.12.10b0-py3-none-any.whl (75 kB)\n",
            "Installing collected packages: mplfinance\n",
            "Successfully installed mplfinance-0.12.10b0\n"
          ]
        }
      ],
      "source": [
        "!pip install mplfinance"
      ]
    },
    {
      "cell_type": "code",
      "execution_count": 4,
      "metadata": {},
      "outputs": [
        {
          "data": {
            "text/html": [
              "        <script type=\"text/javascript\">\n",
              "        window.PlotlyConfig = {MathJaxConfig: 'local'};\n",
              "        if (window.MathJax && window.MathJax.Hub && window.MathJax.Hub.Config) {window.MathJax.Hub.Config({SVG: {font: \"STIX-Web\"}});}\n",
              "        </script>\n",
              "        <script type=\"module\">import \"https://cdn.plot.ly/plotly-3.0.1.min\"</script>\n",
              "        "
            ]
          },
          "metadata": {},
          "output_type": "display_data"
        }
      ],
      "source": [
        "import numpy as np\n",
        "import pandas as pd\n",
        "import matplotlib.pyplot as plt\n",
        "from datetime import datetime, timedelta\n",
        "import warnings\n",
        "warnings.filterwarnings(\"ignore\")\n",
        "\n",
        "# ML\n",
        "from sklearn.ensemble import RandomForestRegressor\n",
        "from sklearn.metrics import mean_absolute_error, mean_squared_error, r2_score\n",
        "from sklearn.model_selection import train_test_split\n",
        "from joblib import dump, load\n",
        "\n",
        "# DL\n",
        "import tensorflow as tf\n",
        "from tensorflow.keras.models import Sequential\n",
        "from tensorflow.keras.layers import LSTM, Dense, Dropout\n",
        "from tensorflow.keras.callbacks import EarlyStopping, ModelCheckpoint\n",
        "\n",
        "# Visualization\n",
        "import mplfinance as mpf\n",
        "import plotly.graph_objs as go\n",
        "from plotly.offline import iplot, init_notebook_mode\n",
        "init_notebook_mode(connected=True)\n"
      ]
    },
    {
      "cell_type": "markdown",
      "metadata": {},
      "source": [
        "## 1) Load & Clean Data"
      ]
    },
    {
      "cell_type": "code",
      "execution_count": 81,
      "metadata": {},
      "outputs": [
        {
          "data": {
            "text/html": [
              "<div>\n",
              "<style scoped>\n",
              "    .dataframe tbody tr th:only-of-type {\n",
              "        vertical-align: middle;\n",
              "    }\n",
              "\n",
              "    .dataframe tbody tr th {\n",
              "        vertical-align: top;\n",
              "    }\n",
              "\n",
              "    .dataframe thead th {\n",
              "        text-align: right;\n",
              "    }\n",
              "</style>\n",
              "<table border=\"1\" class=\"dataframe\">\n",
              "  <thead>\n",
              "    <tr style=\"text-align: right;\">\n",
              "      <th></th>\n",
              "      <th>Date</th>\n",
              "      <th>Symbol</th>\n",
              "      <th>Open</th>\n",
              "      <th>High</th>\n",
              "      <th>Low</th>\n",
              "      <th>Close</th>\n",
              "    </tr>\n",
              "  </thead>\n",
              "  <tbody>\n",
              "    <tr>\n",
              "      <th>0</th>\n",
              "      <td>2021-12-01</td>\n",
              "      <td>OGDC</td>\n",
              "      <td>84.89</td>\n",
              "      <td>84.89</td>\n",
              "      <td>83.45</td>\n",
              "      <td>83.83</td>\n",
              "    </tr>\n",
              "    <tr>\n",
              "      <th>1</th>\n",
              "      <td>2021-12-02</td>\n",
              "      <td>OGDC</td>\n",
              "      <td>83.83</td>\n",
              "      <td>83.83</td>\n",
              "      <td>78.76</td>\n",
              "      <td>79.59</td>\n",
              "    </tr>\n",
              "    <tr>\n",
              "      <th>2</th>\n",
              "      <td>2021-12-03</td>\n",
              "      <td>OGDC</td>\n",
              "      <td>79.70</td>\n",
              "      <td>80.84</td>\n",
              "      <td>78.60</td>\n",
              "      <td>79.76</td>\n",
              "    </tr>\n",
              "    <tr>\n",
              "      <th>3</th>\n",
              "      <td>2021-12-06</td>\n",
              "      <td>OGDC</td>\n",
              "      <td>80.00</td>\n",
              "      <td>81.48</td>\n",
              "      <td>78.75</td>\n",
              "      <td>81.05</td>\n",
              "    </tr>\n",
              "    <tr>\n",
              "      <th>4</th>\n",
              "      <td>2021-12-07</td>\n",
              "      <td>OGDC</td>\n",
              "      <td>81.35</td>\n",
              "      <td>86.96</td>\n",
              "      <td>81.35</td>\n",
              "      <td>84.49</td>\n",
              "    </tr>\n",
              "  </tbody>\n",
              "</table>\n",
              "</div>"
            ],
            "text/plain": [
              "        Date Symbol   Open   High    Low  Close\n",
              "0 2021-12-01   OGDC  84.89  84.89  83.45  83.83\n",
              "1 2021-12-02   OGDC  83.83  83.83  78.76  79.59\n",
              "2 2021-12-03   OGDC  79.70  80.84  78.60  79.76\n",
              "3 2021-12-06   OGDC  80.00  81.48  78.75  81.05\n",
              "4 2021-12-07   OGDC  81.35  86.96  81.35  84.49"
            ]
          },
          "metadata": {},
          "output_type": "display_data"
        },
        {
          "name": "stdout",
          "output_type": "stream",
          "text": [
            "Rows: 722 | Date range: 2021-12-01 to 2024-11-29\n"
          ]
        }
      ],
      "source": [
        "# Load CSV\n",
        "df = pd.read_csv(CSV_PATH)\n",
        "\n",
        "# Basic cleanup\n",
        "df = df.drop_duplicates()\n",
        "# Ensure columns exist\n",
        "required_cols = [\"Date\", \"Symbol\", \"Open\", \"High\", \"Low\", \"Close\"]\n",
        "missing = [c for c in required_cols if c not in df.columns]\n",
        "if missing:\n",
        "    raise ValueError(f\"Missing columns in CSV: {missing}\")\n",
        "\n",
        "# Convert Date\n",
        "df[DATE_COL] = pd.to_datetime(df[DATE_COL], errors=\"coerce\")\n",
        "df = df.dropna(subset=[DATE_COL])\n",
        "\n",
        "# Filter one symbol\n",
        "df = df[df[\"Symbol\"] == SYMBOL].copy()\n",
        "if df.empty:\n",
        "    raise ValueError(f\"No rows found for symbol '{SYMBOL}'. Check the CSV file.\")\n",
        "\n",
        "# Sort by date\n",
        "df = df.sort_values(DATE_COL).reset_index(drop=True)\n",
        "\n",
        "# Remove rows with any nulls in OHLC\n",
        "df = df.dropna(subset=OHLC_COLS)\n",
        "\n",
        "display(df.head())\n",
        "print(\"Rows:\", len(df), \"| Date range:\", df[DATE_COL].min().date(), \"to\", df[DATE_COL].max().date())\n"
      ]
    },
    {
      "cell_type": "markdown",
      "metadata": {},
      "source": [
        "## 2) Exploratory Visualizations"
      ]
    },
    {
      "cell_type": "code",
      "execution_count": 82,
      "metadata": {},
      "outputs": [
        {
          "data": {
            "image/png": "[encoded data removed]",
            "text/plain": [
              "<Figure size 1200x500 with 1 Axes>"
            ]
          },
          "metadata": {},
          "output_type": "display_data"
        },
        {
          "data": {
            "image/png": "[encoded data removed]",
            "text/plain": [
              "<Figure size 1200x300 with 1 Axes>"
            ]
          },
          "metadata": {},
          "output_type": "display_data"
        }
      ],
      "source": [
        "# Moving averages & volatility\n",
        "df[\"MA7\"] = df[CLOSE_COL].rolling(7).mean()\n",
        "df[\"MA30\"] = df[CLOSE_COL].rolling(30).mean()\n",
        "df[\"Volatility\"] = df[CLOSE_COL].rolling(30).std()\n",
        "\n",
        "fig, ax = plt.subplots(figsize=(12,5))\n",
        "ax.plot(df[DATE_COL], df[CLOSE_COL], label=\"Close\")\n",
        "ax.plot(df[DATE_COL], df[\"MA7\"], label=\"MA 7\")\n",
        "ax.plot(df[DATE_COL], df[\"MA30\"], label=\"MA 30\")\n",
        "ax.set_title(f\"{SYMBOL} Close & Moving Averages\")\n",
        "ax.set_xlabel(\"Date\"); ax.set_ylabel(\"Price\")\n",
        "ax.legend(); plt.tight_layout()\n",
        "plt.show()\n",
        "\n",
        "fig, ax = plt.subplots(figsize=(12,3))\n",
        "ax.plot(df[DATE_COL], df[\"Volatility\"], label=\"30D Rolling Std\")\n",
        "ax.set_title(f\"{SYMBOL} Volatility (30D Std of Close)\")\n",
        "ax.set_xlabel(\"Date\"); ax.set_ylabel(\"Std Dev\")\n",
        "ax.legend(); plt.tight_layout()\n",
        "plt.show()\n"
      ]
    },
    {
      "cell_type": "markdown",
      "metadata": {},
      "source": [
        "### 2.1 Candlestick Charts (mplfinance & plotly)"
      ]
    },
    {
      "cell_type": "code",
      "execution_count": 83,
      "metadata": {},
      "outputs": [
        {
          "data": {
            "application/vnd.plotly.v1+json": {
              "config": {
                "linkText": "Export to plot.ly",
                "plotlyServerURL": "https://plot.ly",
                "showLink": false
              },
              "data": [
                {
                  "close": {
                    "bdata": "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",
                    "dtype": "f8"
                  },
                  "high": {
                    "bdata": "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",
                    "dtype": "f8"
                  },
                  "low": {
                    "bdata": "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",
                    "dtype": "f8"
                  },
                  "open": {
                    "bdata": "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",
                    "dtype": "f8"
                  },
                  "type": "candlestick",
                  "x": [
                    "2021-12-01T00:00:00.000000000",
                    "2021-12-02T00:00:00.000000000",
                    "2021-12-03T00:00:00.000000000",
                    "2021-12-06T00:00:00.000000000",
                    "2021-12-07T00:00:00.000000000",
                    "2021-12-08T00:00:00.000000000",
                    "2021-12-09T00:00:00.000000000",
                    "2021-12-10T00:00:00.000000000",
                    "2021-12-13T00:00:00.000000000",
                    "2021-12-14T00:00:00.000000000",
                    "2021-12-15T00:00:00.000000000",
                    "2021-12-16T00:00:00.000000000",
                    "2021-12-17T00:00:00.000000000",
                    "2021-12-20T00:00:00.000000000",
                    "2021-12-21T00:00:00.000000000",
                    "2021-12-22T00:00:00.000000000",
                    "2021-12-23T00:00:00.000000000",
                    "2021-12-24T00:00:00.000000000",
                    "2021-12-27T00:00:00.000000000",
                    "2021-12-28T00:00:00.000000000",
                    "2021-12-29T00:00:00.000000000",
                    "2021-12-30T00:00:00.000000000",
                    "2021-12-31T00:00:00.000000000",
                    "2022-01-03T00:00:00.000000000",
                    "2022-01-04T00:00:00.000000000",
                    "2022-01-05T00:00:00.000000000",
                    "2022-01-06T00:00:00.000000000",
                    "2022-01-07T00:00:00.000000000",
                    "2022-01-10T00:00:00.000000000",
                    "2022-01-11T00:00:00.000000000",
                    "2022-01-12T00:00:00.000000000",
                    "2022-01-13T00:00:00.000000000",
                    "2022-01-14T00:00:00.000000000",
                    "2022-01-17T00:00:00.000000000",
                    "2022-01-18T00:00:00.000000000",
                    "2022-01-19T00:00:00.000000000",
                    "2022-01-20T00:00:00.000000000",
                    "2022-01-21T00:00:00.000000000",
                    "2022-01-24T00:00:00.000000000",
                    "2022-01-25T00:00:00.000000000",
                    "2022-01-26T00:00:00.000000000",
                    "2022-01-27T00:00:00.000000000",
                    "2022-01-28T00:00:00.000000000",
                    "2022-01-31T00:00:00.000000000",
                    "2022-03-01T00:00:00.000000000",
                    "2022-03-02T00:00:00.000000000",
                    "2022-03-03T00:00:00.000000000",
                    "2022-03-04T00:00:00.000000000",
                    "2022-03-07T00:00:00.000000000",
                    "2022-03-08T00:00:00.000000000",
                    "2022-03-09T00:00:00.000000000",
                    "2022-03-10T00:00:00.000000000",
                    "2022-03-11T00:00:00.000000000",
                    "2022-03-14T00:00:00.000000000",
                    "2022-03-15T00:00:00.000000000",
                    "2022-03-16T00:00:00.000000000",
                    "2022-03-17T00:00:00.000000000",
                    "2022-03-18T00:00:00.000000000",
                    "2022-03-21T00:00:00.000000000",
                    "2022-03-22T00:00:00.000000000",
                    "2022-03-24T00:00:00.000000000",
                    "2022-03-25T00:00:00.000000000",
                    "2022-03-28T00:00:00.000000000",
                    "2022-03-29T00:00:00.000000000",
                    "2022-03-30T00:00:00.000000000",
                    "2022-03-31T00:00:00.000000000",
                    "2022-04-01T00:00:00.000000000",
                    "2022-04-04T00:00:00.000000000",
                    "2022-04-05T00:00:00.000000000",
                    "2022-04-06T00:00:00.000000000",
                    "2022-04-07T00:00:00.000000000",
                    "2022-04-08T00:00:00.000000000",
                    "2022-04-11T00:00:00.000000000",
                    "2022-04-12T00:00:00.000000000",
                    "2022-04-13T00:00:00.000000000",
                    "2022-04-14T00:00:00.000000000",
                    "2022-04-15T00:00:00.000000000",
                    "2022-04-18T00:00:00.000000000",
                    "2022-04-19T00:00:00.000000000",
                    "2022-04-20T00:00:00.000000000",
                    "2022-04-21T00:00:00.000000000",
                    "2022-04-22T00:00:00.000000000",
                    "2022-04-25T00:00:00.000000000",
                    "2022-04-26T00:00:00.000000000",
                    "2022-04-27T00:00:00.000000000",
                    "2022-04-28T00:00:00.000000000",
                    "2022-05-06T00:00:00.000000000",
                    "2022-05-09T00:00:00.000000000",
                    "2022-05-10T00:00:00.000000000",
                    "2022-05-11T00:00:00.000000000",
                    "2022-05-12T00:00:00.000000000",
                    "2022-05-13T00:00:00.000000000",
                    "2022-05-16T00:00:00.000000000",
                    "2022-05-17T00:00:00.000000000",
                    "2022-05-18T00:00:00.000000000",
                    "2022-05-19T00:00:00.000000000",
                    "2022-05-20T00:00:00.000000000",
                    "2022-05-23T00:00:00.000000000",
                    "2022-05-24T00:00:00.000000000",
                    "2022-05-25T00:00:00.000000000",
                    "2022-05-26T00:00:00.000000000",
                    "2022-05-27T00:00:00.000000000",
                    "2022-05-30T00:00:00.000000000",
                    "2022-05-31T00:00:00.000000000",
                    "2022-06-01T00:00:00.000000000",
                    "2022-06-02T00:00:00.000000000",
                    "2022-06-03T00:00:00.000000000",
                    "2022-06-06T00:00:00.000000000",
                    "2022-06-07T00:00:00.000000000",
                    "2022-06-08T00:00:00.000000000",
                    "2022-06-09T00:00:00.000000000",
                    "2022-06-10T00:00:00.000000000",
                    "2022-06-13T00:00:00.000000000",
                    "2022-06-14T00:00:00.000000000",
                    "2022-06-15T00:00:00.000000000",
                    "2022-06-16T00:00:00.000000000",
                    "2022-06-17T00:00:00.000000000",
                    "2022-06-20T00:00:00.000000000",
                    "2022-06-21T00:00:00.000000000",
                    "2022-06-22T00:00:00.000000000",
                    "2022-06-23T00:00:00.000000000",
                    "2022-06-24T00:00:00.000000000",
                    "2022-06-27T00:00:00.000000000",
                    "2022-06-28T00:00:00.000000000",
                    "2022-06-29T00:00:00.000000000",
                    "2022-06-30T00:00:00.000000000",
                    "2022-07-01T00:00:00.000000000",
                    "2022-07-04T00:00:00.000000000",
                    "2022-07-05T00:00:00.000000000",
                    "2022-07-06T00:00:00.000000000",
                    "2022-07-07T00:00:00.000000000",
                    "2022-07-13T00:00:00.000000000",
                    "2022-07-14T00:00:00.000000000",
                    "2022-07-15T00:00:00.000000000",
                    "2022-07-18T00:00:00.000000000",
                    "2022-07-19T00:00:00.000000000",
                    "2022-07-20T00:00:00.000000000",
                    "2022-07-21T00:00:00.000000000",
                    "2022-07-22T00:00:00.000000000",
                    "2022-07-25T00:00:00.000000000",
                    "2022-07-26T00:00:00.000000000",
                    "2022-07-27T00:00:00.000000000",
                    "2022-07-28T00:00:00.000000000",
                    "2022-07-29T00:00:00.000000000",
                    "2022-08-01T00:00:00.000000000",
                    "2022-08-02T00:00:00.000000000",
                    "2022-08-03T00:00:00.000000000",
                    "2022-08-04T00:00:00.000000000",
                    "2022-08-05T00:00:00.000000000",
                    "2022-08-10T00:00:00.000000000",
                    "2022-08-11T00:00:00.000000000",
                    "2022-08-12T00:00:00.000000000",
                    "2022-08-15T00:00:00.000000000",
                    "2022-08-16T00:00:00.000000000",
                    "2022-08-17T00:00:00.000000000",
                    "2022-08-18T00:00:00.000000000",
                    "2022-08-19T00:00:00.000000000",
                    "2022-08-22T00:00:00.000000000",
                    "2022-08-23T00:00:00.000000000",
                    "2022-08-24T00:00:00.000000000",
                    "2022-08-25T00:00:00.000000000",
                    "2022-08-26T00:00:00.000000000",
                    "2022-08-29T00:00:00.000000000",
                    "2022-08-30T00:00:00.000000000",
                    "2022-08-31T00:00:00.000000000",
                    "2022-09-01T00:00:00.000000000",
                    "2022-09-02T00:00:00.000000000",
                    "2022-09-05T00:00:00.000000000",
                    "2022-09-06T00:00:00.000000000",
                    "2022-09-07T00:00:00.000000000",
                    "2022-09-08T00:00:00.000000000",
                    "2022-09-09T00:00:00.000000000",
                    "2022-09-12T00:00:00.000000000",
                    "2022-09-13T00:00:00.000000000",
                    "2022-09-14T00:00:00.000000000",
                    "2022-09-15T00:00:00.000000000",
                    "2022-09-16T00:00:00.000000000",
                    "2022-09-19T00:00:00.000000000",
                    "2022-09-20T00:00:00.000000000",
                    "2022-09-21T00:00:00.000000000",
                    "2022-09-22T00:00:00.000000000",
                    "2022-09-23T00:00:00.000000000",
                    "2022-09-26T00:00:00.000000000",
                    "2022-09-27T00:00:00.000000000",
                    "2022-09-28T00:00:00.000000000",
                    "2022-09-29T00:00:00.000000000",
                    "2022-09-30T00:00:00.000000000",
                    "2022-10-03T00:00:00.000000000",
                    "2022-10-04T00:00:00.000000000",
                    "2022-10-05T00:00:00.000000000",
                    "2022-10-06T00:00:00.000000000",
                    "2022-10-07T00:00:00.000000000",
                    "2022-10-10T00:00:00.000000000",
                    "2022-10-11T00:00:00.000000000",
                    "2022-10-12T00:00:00.000000000",
                    "2022-10-13T00:00:00.000000000",
                    "2022-10-14T00:00:00.000000000",
                    "2022-10-17T00:00:00.000000000",
                    "2022-10-18T00:00:00.000000000",
                    "2022-10-19T00:00:00.000000000",
                    "2022-10-20T00:00:00.000000000",
                    "2022-10-21T00:00:00.000000000",
                    "2022-10-24T00:00:00.000000000",
                    "2022-10-25T00:00:00.000000000",
                    "2022-10-26T00:00:00.000000000",
                    "2022-10-27T00:00:00.000000000",
                    "2022-10-28T00:00:00.000000000",
                    "2022-10-31T00:00:00.000000000",
                    "2022-11-01T00:00:00.000000000",
                    "2022-11-02T00:00:00.000000000",
                    "2022-11-03T00:00:00.000000000",
                    "2022-11-04T00:00:00.000000000",
                    "2022-11-07T00:00:00.000000000",
                    "2022-11-08T00:00:00.000000000",
                    "2022-11-10T00:00:00.000000000",
                    "2022-11-11T00:00:00.000000000",
                    "2022-11-14T00:00:00.000000000",
                    "2022-11-15T00:00:00.000000000",
                    "2022-11-16T00:00:00.000000000",
                    "2022-11-17T00:00:00.000000000",
                    "2022-11-18T00:00:00.000000000",
                    "2022-11-21T00:00:00.000000000",
                    "2022-11-22T00:00:00.000000000",
                    "2022-11-23T00:00:00.000000000",
                    "2022-11-24T00:00:00.000000000",
                    "2022-11-25T00:00:00.000000000",
                    "2022-11-28T00:00:00.000000000",
                    "2022-11-29T00:00:00.000000000",
                    "2022-11-30T00:00:00.000000000",
                    "2022-12-01T00:00:00.000000000",
                    "2022-12-02T00:00:00.000000000",
                    "2022-12-05T00:00:00.000000000",
                    "2022-12-06T00:00:00.000000000",
                    "2022-12-07T00:00:00.000000000",
                    "2022-12-08T00:00:00.000000000",
                    "2022-12-09T00:00:00.000000000",
                    "2022-12-12T00:00:00.000000000",
                    "2022-12-13T00:00:00.000000000",
                    "2022-12-14T00:00:00.000000000",
                    "2022-12-15T00:00:00.000000000",
                    "2022-12-16T00:00:00.000000000",
                    "2022-12-19T00:00:00.000000000",
                    "2022-12-20T00:00:00.000000000",
                    "2022-12-21T00:00:00.000000000",
                    "2022-12-22T00:00:00.000000000",
                    "2022-12-23T00:00:00.000000000",
                    "2022-12-26T00:00:00.000000000",
                    "2022-12-27T00:00:00.000000000",
                    "2022-12-28T00:00:00.000000000",
                    "2022-12-29T00:00:00.000000000",
                    "2022-12-30T00:00:00.000000000",
                    "2023-01-02T00:00:00.000000000",
                    "2023-01-03T00:00:00.000000000",
                    "2023-01-04T00:00:00.000000000",
                    "2023-01-05T00:00:00.000000000",
                    "2023-01-06T00:00:00.000000000",
                    "2023-01-09T00:00:00.000000000",
                    "2023-01-10T00:00:00.000000000",
                    "2023-01-11T00:00:00.000000000",
                    "2023-01-12T00:00:00.000000000",
                    "2023-01-13T00:00:00.000000000",
                    "2023-01-16T00:00:00.000000000",
                    "2023-01-17T00:00:00.000000000",
                    "2023-01-18T00:00:00.000000000",
                    "2023-01-19T00:00:00.000000000",
                    "2023-01-20T00:00:00.000000000",
                    "2023-01-23T00:00:00.000000000",
                    "2023-01-24T00:00:00.000000000",
                    "2023-01-25T00:00:00.000000000",
                    "2023-01-26T00:00:00.000000000",
                    "2023-01-27T00:00:00.000000000",
                    "2023-01-30T00:00:00.000000000",
                    "2023-01-31T00:00:00.000000000",
                    "2023-02-01T00:00:00.000000000",
                    "2023-02-02T00:00:00.000000000",
                    "2023-02-03T00:00:00.000000000",
                    "2023-02-06T00:00:00.000000000",
                    "2023-02-07T00:00:00.000000000",
                    "2023-02-08T00:00:00.000000000",
                    "2023-02-09T00:00:00.000000000",
                    "2023-02-10T00:00:00.000000000",
                    "2023-02-13T00:00:00.000000000",
                    "2023-02-14T00:00:00.000000000",
                    "2023-02-15T00:00:00.000000000",
                    "2023-02-16T00:00:00.000000000",
                    "2023-02-17T00:00:00.000000000",
                    "2023-02-20T00:00:00.000000000",
                    "2023-02-21T00:00:00.000000000",
                    "2023-02-22T00:00:00.000000000",
                    "2023-02-23T00:00:00.000000000",
                    "2023-02-24T00:00:00.000000000",
                    "2023-02-27T00:00:00.000000000",
                    "2023-02-28T00:00:00.000000000",
                    "2023-03-01T00:00:00.000000000",
                    "2023-03-02T00:00:00.000000000",
                    "2023-03-03T00:00:00.000000000",
                    "2023-03-06T00:00:00.000000000",
                    "2023-03-07T00:00:00.000000000",
                    "2023-03-08T00:00:00.000000000",
                    "2023-03-09T00:00:00.000000000",
                    "2023-03-10T00:00:00.000000000",
                    "2023-03-13T00:00:00.000000000",
                    "2023-03-14T00:00:00.000000000",
                    "2023-03-15T00:00:00.000000000",
                    "2023-03-16T00:00:00.000000000",
                    "2023-03-17T00:00:00.000000000",
                    "2023-03-20T00:00:00.000000000",
                    "2023-03-21T00:00:00.000000000",
                    "2023-03-22T00:00:00.000000000",
                    "2023-03-24T00:00:00.000000000",
                    "2023-03-27T00:00:00.000000000",
                    "2023-03-28T00:00:00.000000000",
                    "2023-03-29T00:00:00.000000000",
                    "2023-03-30T00:00:00.000000000",
                    "2023-03-31T00:00:00.000000000",
                    "2023-04-03T00:00:00.000000000",
                    "2023-04-04T00:00:00.000000000",
                    "2023-04-05T00:00:00.000000000",
                    "2023-04-06T00:00:00.000000000",
                    "2023-04-07T00:00:00.000000000",
                    "2023-04-10T00:00:00.000000000",
                    "2023-04-11T00:00:00.000000000",
                    "2023-04-12T00:00:00.000000000",
                    "2023-04-13T00:00:00.000000000",
                    "2023-04-17T00:00:00.000000000",
                    "2023-04-18T00:00:00.000000000",
                    "2023-04-19T00:00:00.000000000",
                    "2023-04-20T00:00:00.000000000",
                    "2023-04-26T00:00:00.000000000",
                    "2023-04-27T00:00:00.000000000",
                    "2023-04-28T00:00:00.000000000",
                    "2023-05-02T00:00:00.000000000",
                    "2023-05-03T00:00:00.000000000",
                    "2023-05-04T00:00:00.000000000",
                    "2023-05-05T00:00:00.000000000",
                    "2023-05-08T00:00:00.000000000",
                    "2023-05-09T00:00:00.000000000",
                    "2023-05-10T00:00:00.000000000",
                    "2023-05-11T00:00:00.000000000",
                    "2023-05-12T00:00:00.000000000",
                    "2023-05-15T00:00:00.000000000",
                    "2023-05-16T00:00:00.000000000",
                    "2023-05-17T00:00:00.000000000",
                    "2023-05-18T00:00:00.000000000",
                    "2023-05-19T00:00:00.000000000",
                    "2023-05-22T00:00:00.000000000",
                    "2023-05-23T00:00:00.000000000",
                    "2023-05-24T00:00:00.000000000",
                    "2023-05-25T00:00:00.000000000",
                    "2023-05-26T00:00:00.000000000",
                    "2023-05-29T00:00:00.000000000",
                    "2023-05-30T00:00:00.000000000",
                    "2023-05-31T00:00:00.000000000",
                    "2023-06-01T00:00:00.000000000",
                    "2023-06-02T00:00:00.000000000",
                    "2023-06-05T00:00:00.000000000",
                    "2023-06-06T00:00:00.000000000",
                    "2023-06-07T00:00:00.000000000",
                    "2023-06-08T00:00:00.000000000",
                    "2023-06-09T00:00:00.000000000",
                    "2023-06-12T00:00:00.000000000",
                    "2023-06-13T00:00:00.000000000",
                    "2023-06-14T00:00:00.000000000",
                    "2023-06-15T00:00:00.000000000",
                    "2023-06-16T00:00:00.000000000",
                    "2023-06-19T00:00:00.000000000",
                    "2023-06-20T00:00:00.000000000",
                    "2023-06-21T00:00:00.000000000",
                    "2023-06-22T00:00:00.000000000",
                    "2023-06-23T00:00:00.000000000",
                    "2023-06-26T00:00:00.000000000",
                    "2023-06-27T00:00:00.000000000",
                    "2023-07-03T00:00:00.000000000",
                    "2023-07-04T00:00:00.000000000",
                    "2023-07-05T00:00:00.000000000",
                    "2023-07-06T00:00:00.000000000",
                    "2023-07-07T00:00:00.000000000",
                    "2023-07-10T00:00:00.000000000",
                    "2023-07-11T00:00:00.000000000",
                    "2023-07-12T00:00:00.000000000",
                    "2023-07-13T00:00:00.000000000",
                    "2023-07-14T00:00:00.000000000",
                    "2023-07-17T00:00:00.000000000",
                    "2023-07-18T00:00:00.000000000",
                    "2023-07-19T00:00:00.000000000",
                    "2023-07-20T00:00:00.000000000",
                    "2023-07-21T00:00:00.000000000",
                    "2023-07-24T00:00:00.000000000",
                    "2023-07-25T00:00:00.000000000",
                    "2023-07-26T00:00:00.000000000",
                    "2023-07-27T00:00:00.000000000",
                    "2023-07-31T00:00:00.000000000",
                    "2023-08-01T00:00:00.000000000",
                    "2023-08-02T00:00:00.000000000",
                    "2023-08-03T00:00:00.000000000",
                    "2023-08-04T00:00:00.000000000",
                    "2023-08-07T00:00:00.000000000",
                    "2023-08-08T00:00:00.000000000",
                    "2023-08-09T00:00:00.000000000",
                    "2023-08-10T00:00:00.000000000",
                    "2023-08-11T00:00:00.000000000",
                    "2023-08-15T00:00:00.000000000",
                    "2023-08-16T00:00:00.000000000",
                    "2023-08-17T00:00:00.000000000",
                    "2023-08-18T00:00:00.000000000",
                    "2023-08-21T00:00:00.000000000",
                    "2023-08-22T00:00:00.000000000",
                    "2023-08-23T00:00:00.000000000",
                    "2023-08-24T00:00:00.000000000",
                    "2023-08-25T00:00:00.000000000",
                    "2023-08-28T00:00:00.000000000",
                    "2023-08-29T00:00:00.000000000",
                    "2023-08-30T00:00:00.000000000",
                    "2023-08-31T00:00:00.000000000",
                    "2023-09-01T00:00:00.000000000",
                    "2023-09-04T00:00:00.000000000",
                    "2023-09-05T00:00:00.000000000",
                    "2023-09-06T00:00:00.000000000",
                    "2023-09-07T00:00:00.000000000",
                    "2023-09-08T00:00:00.000000000",
                    "2023-09-11T00:00:00.000000000",
                    "2023-09-12T00:00:00.000000000",
                    "2023-09-13T00:00:00.000000000",
                    "2023-09-14T00:00:00.000000000",
                    "2023-09-15T00:00:00.000000000",
                    "2023-09-18T00:00:00.000000000",
                    "2023-09-19T00:00:00.000000000",
                    "2023-09-20T00:00:00.000000000",
                    "2023-09-21T00:00:00.000000000",
                    "2023-09-22T00:00:00.000000000",
                    "2023-09-25T00:00:00.000000000",
                    "2023-09-26T00:00:00.000000000",
                    "2023-09-27T00:00:00.000000000",
                    "2023-09-28T00:00:00.000000000",
                    "2023-10-02T00:00:00.000000000",
                    "2023-10-03T00:00:00.000000000",
                    "2023-10-04T00:00:00.000000000",
                    "2023-10-05T00:00:00.000000000",
                    "2023-10-06T00:00:00.000000000",
                    "2023-10-09T00:00:00.000000000",
                    "2023-10-10T00:00:00.000000000",
                    "2023-10-11T00:00:00.000000000",
                    "2023-10-12T00:00:00.000000000",
                    "2023-10-13T00:00:00.000000000",
                    "2023-10-16T00:00:00.000000000",
                    "2023-10-17T00:00:00.000000000",
                    "2023-10-18T00:00:00.000000000",
                    "2023-10-19T00:00:00.000000000",
                    "2023-10-20T00:00:00.000000000",
                    "2023-10-23T00:00:00.000000000",
                    "2023-10-24T00:00:00.000000000",
                    "2023-10-25T00:00:00.000000000",
                    "2023-10-26T00:00:00.000000000",
                    "2023-10-27T00:00:00.000000000",
                    "2023-10-30T00:00:00.000000000",
                    "2023-10-31T00:00:00.000000000",
                    "2023-11-01T00:00:00.000000000",
                    "2023-11-02T00:00:00.000000000",
                    "2023-11-03T00:00:00.000000000",
                    "2023-11-06T00:00:00.000000000",
                    "2023-11-07T00:00:00.000000000",
                    "2023-11-08T00:00:00.000000000",
                    "2023-11-10T00:00:00.000000000",
                    "2023-11-13T00:00:00.000000000",
                    "2023-11-14T00:00:00.000000000",
                    "2023-11-15T00:00:00.000000000",
                    "2023-11-16T00:00:00.000000000",
                    "2023-11-17T00:00:00.000000000",
                    "2023-11-20T00:00:00.000000000",
                    "2023-11-21T00:00:00.000000000",
                    "2023-11-22T00:00:00.000000000",
                    "2023-11-23T00:00:00.000000000",
                    "2023-11-24T00:00:00.000000000",
                    "2023-11-27T00:00:00.000000000",
                    "2023-11-28T00:00:00.000000000",
                    "2023-11-29T00:00:00.000000000",
                    "2023-11-30T00:00:00.000000000",
                    "2023-12-01T00:00:00.000000000",
                    "2023-12-04T00:00:00.000000000",
                    "2023-12-05T00:00:00.000000000",
                    "2023-12-06T00:00:00.000000000",
                    "2023-12-07T00:00:00.000000000",
                    "2023-12-08T00:00:00.000000000",
                    "2023-12-11T00:00:00.000000000",
                    "2023-12-12T00:00:00.000000000",
                    "2023-12-13T00:00:00.000000000",
                    "2023-12-14T00:00:00.000000000",
                    "2023-12-15T00:00:00.000000000",
                    "2023-12-18T00:00:00.000000000",
                    "2023-12-19T00:00:00.000000000",
                    "2023-12-20T00:00:00.000000000",
                    "2023-12-21T00:00:00.000000000",
                    "2023-12-22T00:00:00.000000000",
                    "2023-12-26T00:00:00.000000000",
                    "2023-12-27T00:00:00.000000000",
                    "2023-12-28T00:00:00.000000000",
                    "2023-12-29T00:00:00.000000000",
                    "2024-01-01T00:00:00.000000000",
                    "2024-01-02T00:00:00.000000000",
                    "2024-01-03T00:00:00.000000000",
                    "2024-01-04T00:00:00.000000000",
                    "2024-01-05T00:00:00.000000000",
                    "2024-01-08T00:00:00.000000000",
                    "2024-01-09T00:00:00.000000000",
                    "2024-01-10T00:00:00.000000000",
                    "2024-01-11T00:00:00.000000000",
                    "2024-01-12T00:00:00.000000000",
                    "2024-01-15T00:00:00.000000000",
                    "2024-01-16T00:00:00.000000000",
                    "2024-01-17T00:00:00.000000000",
                    "2024-01-18T00:00:00.000000000",
                    "2024-01-19T00:00:00.000000000",
                    "2024-01-22T00:00:00.000000000",
                    "2024-01-23T00:00:00.000000000",
                    "2024-01-24T00:00:00.000000000",
                    "2024-01-25T00:00:00.000000000",
                    "2024-01-26T00:00:00.000000000",
                    "2024-01-29T00:00:00.000000000",
                    "2024-01-30T00:00:00.000000000",
                    "2024-01-31T00:00:00.000000000",
                    "2024-02-01T00:00:00.000000000",
                    "2024-02-02T00:00:00.000000000",
                    "2024-02-06T00:00:00.000000000",
                    "2024-02-07T00:00:00.000000000",
                    "2024-02-09T00:00:00.000000000",
                    "2024-02-12T00:00:00.000000000",
                    "2024-02-13T00:00:00.000000000",
                    "2024-02-14T00:00:00.000000000",
                    "2024-02-15T00:00:00.000000000",
                    "2024-02-16T00:00:00.000000000",
                    "2024-02-19T00:00:00.000000000",
                    "2024-02-20T00:00:00.000000000",
                    "2024-02-21T00:00:00.000000000",
                    "2024-02-22T00:00:00.000000000",
                    "2024-02-23T00:00:00.000000000",
                    "2024-02-26T00:00:00.000000000",
                    "2024-02-27T00:00:00.000000000",
                    "2024-02-28T00:00:00.000000000",
                    "2024-02-29T00:00:00.000000000",
                    "2024-03-01T00:00:00.000000000",
                    "2024-03-04T00:00:00.000000000",
                    "2024-03-05T00:00:00.000000000",
                    "2024-03-06T00:00:00.000000000",
                    "2024-03-07T00:00:00.000000000",
                    "2024-03-08T00:00:00.000000000",
                    "2024-03-11T00:00:00.000000000",
                    "2024-03-12T00:00:00.000000000",
                    "2024-03-13T00:00:00.000000000",
                    "2024-03-14T00:00:00.000000000",
                    "2024-03-15T00:00:00.000000000",
                    "2024-03-18T00:00:00.000000000",
                    "2024-03-19T00:00:00.000000000",
                    "2024-03-20T00:00:00.000000000",
                    "2024-03-21T00:00:00.000000000",
                    "2024-03-22T00:00:00.000000000",
                    "2024-03-25T00:00:00.000000000",
                    "2024-03-26T00:00:00.000000000",
                    "2024-03-27T00:00:00.000000000",
                    "2024-03-28T00:00:00.000000000",
                    "2024-03-29T00:00:00.000000000",
                    "2024-04-01T00:00:00.000000000",
                    "2024-04-02T00:00:00.000000000",
                    "2024-04-03T00:00:00.000000000",
                    "2024-04-04T00:00:00.000000000",
                    "2024-04-08T00:00:00.000000000",
                    "2024-04-09T00:00:00.000000000",
                    "2024-04-15T00:00:00.000000000",
                    "2024-04-16T00:00:00.000000000",
                    "2024-04-17T00:00:00.000000000",
                    "2024-04-18T00:00:00.000000000",
                    "2024-04-19T00:00:00.000000000",
                    "2024-04-22T00:00:00.000000000",
                    "2024-04-23T00:00:00.000000000",
                    "2024-04-24T00:00:00.000000000",
                    "2024-04-25T00:00:00.000000000",
                    "2024-04-26T00:00:00.000000000",
                    "2024-04-29T00:00:00.000000000",
                    "2024-04-30T00:00:00.000000000",
                    "2024-05-02T00:00:00.000000000",
                    "2024-05-03T00:00:00.000000000",
                    "2024-05-06T00:00:00.000000000",
                    "2024-05-07T00:00:00.000000000",
                    "2024-05-08T00:00:00.000000000",
                    "2024-05-09T00:00:00.000000000",
                    "2024-05-10T00:00:00.000000000",
                    "2024-05-13T00:00:00.000000000",
                    "2024-05-14T00:00:00.000000000",
                    "2024-05-15T00:00:00.000000000",
                    "2024-05-16T00:00:00.000000000",
                    "2024-05-17T00:00:00.000000000",
                    "2024-05-20T00:00:00.000000000",
                    "2024-05-21T00:00:00.000000000",
                    "2024-05-22T00:00:00.000000000",
                    "2024-05-23T00:00:00.000000000",
                    "2024-05-24T00:00:00.000000000",
                    "2024-05-27T00:00:00.000000000",
                    "2024-05-29T00:00:00.000000000",
                    "2024-05-30T00:00:00.000000000",
                    "2024-05-31T00:00:00.000000000",
                    "2024-06-03T00:00:00.000000000",
                    "2024-06-04T00:00:00.000000000",
                    "2024-06-05T00:00:00.000000000",
                    "2024-06-06T00:00:00.000000000",
                    "2024-06-07T00:00:00.000000000",
                    "2024-06-10T00:00:00.000000000",
                    "2024-06-11T00:00:00.000000000",
                    "2024-06-12T00:00:00.000000000",
                    "2024-06-13T00:00:00.000000000",
                    "2024-06-14T00:00:00.000000000",
                    "2024-06-20T00:00:00.000000000",
                    "2024-06-21T00:00:00.000000000",
                    "2024-06-24T00:00:00.000000000",
                    "2024-06-25T00:00:00.000000000",
                    "2024-06-26T00:00:00.000000000",
                    "2024-06-27T00:00:00.000000000",
                    "2024-06-28T00:00:00.000000000",
                    "2024-07-01T00:00:00.000000000",
                    "2024-07-02T00:00:00.000000000",
                    "2024-07-03T00:00:00.000000000",
                    "2024-07-04T00:00:00.000000000",
                    "2024-07-05T00:00:00.000000000",
                    "2024-07-08T00:00:00.000000000",
                    "2024-07-09T00:00:00.000000000",
                    "2024-07-10T00:00:00.000000000",
                    "2024-07-11T00:00:00.000000000",
                    "2024-07-12T00:00:00.000000000",
                    "2024-07-15T00:00:00.000000000",
                    "2024-07-18T00:00:00.000000000",
                    "2024-07-19T00:00:00.000000000",
                    "2024-07-22T00:00:00.000000000",
                    "2024-07-23T00:00:00.000000000",
                    "2024-07-24T00:00:00.000000000",
                    "2024-07-25T00:00:00.000000000",
                    "2024-07-26T00:00:00.000000000",
                    "2024-07-29T00:00:00.000000000",
                    "2024-07-30T00:00:00.000000000",
                    "2024-07-31T00:00:00.000000000",
                    "2024-08-01T00:00:00.000000000",
                    "2024-08-02T00:00:00.000000000",
                    "2024-08-05T00:00:00.000000000",
                    "2024-08-06T00:00:00.000000000",
                    "2024-08-07T00:00:00.000000000",
                    "2024-08-08T00:00:00.000000000",
                    "2024-08-09T00:00:00.000000000",
                    "2024-08-12T00:00:00.000000000",
                    "2024-08-13T00:00:00.000000000",
                    "2024-08-15T00:00:00.000000000",
                    "2024-08-16T00:00:00.000000000",
                    "2024-08-19T00:00:00.000000000",
                    "2024-08-20T00:00:00.000000000",
                    "2024-08-21T00:00:00.000000000",
                    "2024-08-22T00:00:00.000000000",
                    "2024-08-23T00:00:00.000000000",
                    "2024-08-26T00:00:00.000000000",
                    "2024-08-27T00:00:00.000000000",
                    "2024-08-28T00:00:00.000000000",
                    "2024-08-29T00:00:00.000000000",
                    "2024-08-30T00:00:00.000000000",
                    "2024-09-02T00:00:00.000000000",
                    "2024-09-03T00:00:00.000000000",
                    "2024-09-04T00:00:00.000000000",
                    "2024-09-05T00:00:00.000000000",
                    "2024-09-06T00:00:00.000000000",
                    "2024-09-09T00:00:00.000000000",
                    "2024-09-10T00:00:00.000000000",
                    "2024-09-11T00:00:00.000000000",
                    "2024-09-12T00:00:00.000000000",
                    "2024-09-13T00:00:00.000000000",
                    "2024-09-16T00:00:00.000000000",
                    "2024-09-18T00:00:00.000000000",
                    "2024-09-19T00:00:00.000000000",
                    "2024-09-20T00:00:00.000000000",
                    "2024-09-23T00:00:00.000000000",
                    "2024-09-24T00:00:00.000000000",
                    "2024-09-25T00:00:00.000000000",
                    "2024-09-26T00:00:00.000000000",
                    "2024-09-27T00:00:00.000000000",
                    "2024-09-30T00:00:00.000000000",
                    "2024-10-01T00:00:00.000000000",
                    "2024-10-02T00:00:00.000000000",
                    "2024-10-03T00:00:00.000000000",
                    "2024-10-04T00:00:00.000000000",
                    "2024-10-07T00:00:00.000000000",
                    "2024-10-08T00:00:00.000000000",
                    "2024-10-09T00:00:00.000000000",
                    "2024-10-10T00:00:00.000000000",
                    "2024-10-11T00:00:00.000000000",
                    "2024-10-14T00:00:00.000000000",
                    "2024-10-15T00:00:00.000000000",
                    "2024-10-16T00:00:00.000000000",
                    "2024-10-17T00:00:00.000000000",
                    "2024-10-18T00:00:00.000000000",
                    "2024-10-21T00:00:00.000000000",
                    "2024-10-22T00:00:00.000000000",
                    "2024-10-23T00:00:00.000000000",
                    "2024-10-24T00:00:00.000000000",
                    "2024-10-25T00:00:00.000000000",
                    "2024-10-28T00:00:00.000000000",
                    "2024-10-29T00:00:00.000000000",
                    "2024-10-30T00:00:00.000000000",
                    "2024-10-31T00:00:00.000000000",
                    "2024-11-01T00:00:00.000000000",
                    "2024-11-04T00:00:00.000000000",
                    "2024-11-05T00:00:00.000000000",
                    "2024-11-06T00:00:00.000000000",
                    "2024-11-07T00:00:00.000000000",
                    "2024-11-08T00:00:00.000000000",
                    "2024-11-11T00:00:00.000000000",
                    "2024-11-12T00:00:00.000000000",
                    "2024-11-13T00:00:00.000000000",
                    "2024-11-14T00:00:00.000000000",
                    "2024-11-15T00:00:00.000000000",
                    "2024-11-18T00:00:00.000000000",
                    "2024-11-19T00:00:00.000000000",
                    "2024-11-20T00:00:00.000000000",
                    "2024-11-21T00:00:00.000000000",
                    "2024-11-22T00:00:00.000000000",
                    "2024-11-25T00:00:00.000000000",
                    "2024-11-26T00:00:00.000000000",
                    "2024-11-27T00:00:00.000000000",
                    "2024-11-28T00:00:00.000000000",
                    "2024-11-29T00:00:00.000000000"
                  ]
                }
              ],
              "layout": {
                "template": {
                  "data": {
                    "bar": [
                      {
                        "error_x": {
                          "color": "#2a3f5f"
                        },
                        "error_y": {
                          "color": "#2a3f5f"
                        },
                        "marker": {
                          "line": {
                            "color": "#E5ECF6",
                            "width": 0.5
                          },
                          "pattern": {
                            "fillmode": "overlay",
                            "size": 10,
                            "solidity": 0.2
                          }
                        },
                        "type": "bar"
                      }
                    ],
                    "barpolar": [
                      {
                        "marker": {
                          "line": {
                            "color": "#E5ECF6",
                            "width": 0.5
                          },
                          "pattern": {
                            "fillmode": "overlay",
                            "size": 10,
                            "solidity": 0.2
                          }
                        },
                        "type": "barpolar"
                      }
                    ],
                    "carpet": [
                      {
                        "aaxis": {
                          "endlinecolor": "#2a3f5f",
                          "gridcolor": "white",
                          "linecolor": "white",
                          "minorgridcolor": "white",
                          "startlinecolor": "#2a3f5f"
                        },
                        "baxis": {
                          "endlinecolor": "#2a3f5f",
                          "gridcolor": "white",
                          "linecolor": "white",
                          "minorgridcolor": "white",
                          "startlinecolor": "#2a3f5f"
                        },
                        "type": "carpet"
                      }
                    ],
                    "choropleth": [
                      {
                        "colorbar": {
                          "outlinewidth": 0,
                          "ticks": ""
                        },
                        "type": "choropleth"
                      }
                    ],
                    "contour": [
                      {
                        "colorbar": {
                          "outlinewidth": 0,
                          "ticks": ""
                        },
                        "colorscale": [
                          [
                            0,
                            "#0d0887"
                          ],
                          [
                            0.1111111111111111,
                            "#46039f"
                          ],
                          [
                            0.2222222222222222,
                            "#7201a8"
                          ],
                          [
                            0.3333333333333333,
                            "#9c179e"
                          ],
                          [
                            0.4444444444444444,
                            "#bd3786"
                          ],
                          [
                            0.5555555555555556,
                            "#d8576b"
                          ],
                          [
                            0.6666666666666666,
                            "#ed7953"
                          ],
                          [
                            0.7777777777777778,
                            "#fb9f3a"
                          ],
                          [
                            0.8888888888888888,
                            "#fdca26"
                          ],
                          [
                            1,
                            "#f0f921"
                          ]
                        ],
                        "type": "contour"
                      }
                    ],
                    "contourcarpet": [
                      {
                        "colorbar": {
                          "outlinewidth": 0,
                          "ticks": ""
                        },
                        "type": "contourcarpet"
                      }
                    ],
                    "heatmap": [
                      {
                        "colorbar": {
                          "outlinewidth": 0,
                          "ticks": ""
                        },
                        "colorscale": [
                          [
                            0,
                            "#0d0887"
                          ],
                          [
                            0.1111111111111111,
                            "#46039f"
                          ],
                          [
                            0.2222222222222222,
                            "#7201a8"
                          ],
                          [
                            0.3333333333333333,
                            "#9c179e"
                          ],
                          [
                            0.4444444444444444,
                            "#bd3786"
                          ],
                          [
                            0.5555555555555556,
                            "#d8576b"
                          ],
                          [
                            0.6666666666666666,
                            "#ed7953"
                          ],
                          [
                            0.7777777777777778,
                            "#fb9f3a"
                          ],
                          [
                            0.8888888888888888,
                            "#fdca26"
                          ],
                          [
                            1,
                            "#f0f921"
                          ]
                        ],
                        "type": "heatmap"
                      }
                    ],
                    "histogram": [
                      {
                        "marker": {
                          "pattern": {
                            "fillmode": "overlay",
                            "size": 10,
                            "solidity": 0.2
                          }
                        },
                        "type": "histogram"
                      }
                    ],
                    "histogram2d": [
                      {
                        "colorbar": {
                          "outlinewidth": 0,
                          "ticks": ""
                        },
                        "colorscale": [
                          [
                            0,
                            "#0d0887"
                          ],
                          [
                            0.1111111111111111,
                            "#46039f"
                          ],
                          [
                            0.2222222222222222,
                            "#7201a8"
                          ],
                          [
                            0.3333333333333333,
                            "#9c179e"
                          ],
                          [
                            0.4444444444444444,
                            "#bd3786"
                          ],
                          [
                            0.5555555555555556,
                            "#d8576b"
                          ],
                          [
                            0.6666666666666666,
                            "#ed7953"
                          ],
                          [
                            0.7777777777777778,
                            "#fb9f3a"
                          ],
                          [
                            0.8888888888888888,
                            "#fdca26"
                          ],
                          [
                            1,
                            "#f0f921"
                          ]
                        ],
                        "type": "histogram2d"
                      }
                    ],
                    "histogram2dcontour": [
                      {
                        "colorbar": {
                          "outlinewidth": 0,
                          "ticks": ""
                        },
                        "colorscale": [
                          [
                            0,
                            "#0d0887"
                          ],
                          [
                            0.1111111111111111,
                            "#46039f"
                          ],
                          [
                            0.2222222222222222,
                            "#7201a8"
                          ],
                          [
                            0.3333333333333333,
                            "#9c179e"
                          ],
                          [
                            0.4444444444444444,
                            "#bd3786"
                          ],
                          [
                            0.5555555555555556,
                            "#d8576b"
                          ],
                          [
                            0.6666666666666666,
                            "#ed7953"
                          ],
                          [
                            0.7777777777777778,
                            "#fb9f3a"
                          ],
                          [
                            0.8888888888888888,
                            "#fdca26"
                          ],
                          [
                            1,
                            "#f0f921"
                          ]
                        ],
                        "type": "histogram2dcontour"
                      }
                    ],
                    "mesh3d": [
                      {
                        "colorbar": {
                          "outlinewidth": 0,
                          "ticks": ""
                        },
                        "type": "mesh3d"
                      }
                    ],
                    "parcoords": [
                      {
                        "line": {
                          "colorbar": {
                            "outlinewidth": 0,
                            "ticks": ""
                          }
                        },
                        "type": "parcoords"
                      }
                    ],
                    "pie": [
                      {
                        "automargin": true,
                        "type": "pie"
                      }
                    ],
                    "scatter": [
                      {
                        "fillpattern": {
                          "fillmode": "overlay",
                          "size": 10,
                          "solidity": 0.2
                        },
                        "type": "scatter"
                      }
                    ],
                    "scatter3d": [
                      {
                        "line": {
                          "colorbar": {
                            "outlinewidth": 0,
                            "ticks": ""
                          }
                        },
                        "marker": {
                          "colorbar": {
                            "outlinewidth": 0,
                            "ticks": ""
                          }
                        },
                        "type": "scatter3d"
                      }
                    ],
                    "scattercarpet": [
                      {
                        "marker": {
                          "colorbar": {
                            "outlinewidth": 0,
                            "ticks": ""
                          }
                        },
                        "type": "scattercarpet"
                      }
                    ],
                    "scattergeo": [
                      {
                        "marker": {
                          "colorbar": {
                            "outlinewidth": 0,
                            "ticks": ""
                          }
                        },
                        "type": "scattergeo"
                      }
                    ],
                    "scattergl": [
                      {
                        "marker": {
                          "colorbar": {
                            "outlinewidth": 0,
                            "ticks": ""
                          }
                        },
                        "type": "scattergl"
                      }
                    ],
                    "scattermap": [
                      {
                        "marker": {
                          "colorbar": {
                            "outlinewidth": 0,
                            "ticks": ""
                          }
                        },
                        "type": "scattermap"
                      }
                    ],
                    "scattermapbox": [
                      {
                        "marker": {
                          "colorbar": {
                            "outlinewidth": 0,
                            "ticks": ""
                          }
                        },
                        "type": "scattermapbox"
                      }
                    ],
                    "scatterpolar": [
                      {
                        "marker": {
                          "colorbar": {
                            "outlinewidth": 0,
                            "ticks": ""
                          }
                        },
                        "type": "scatterpolar"
                      }
                    ],
                    "scatterpolargl": [
                      {
                        "marker": {
                          "colorbar": {
                            "outlinewidth": 0,
                            "ticks": ""
                          }
                        },
                        "type": "scatterpolargl"
                      }
                    ],
                    "scatterternary": [
                      {
                        "marker": {
                          "colorbar": {
                            "outlinewidth": 0,
                            "ticks": ""
                          }
                        },
                        "type": "scatterternary"
                      }
                    ],
                    "surface": [
                      {
                        "colorbar": {
                          "outlinewidth": 0,
                          "ticks": ""
                        },
                        "colorscale": [
                          [
                            0,
                            "#0d0887"
                          ],
                          [
                            0.1111111111111111,
                            "#46039f"
                          ],
                          [
                            0.2222222222222222,
                            "#7201a8"
                          ],
                          [
                            0.3333333333333333,
                            "#9c179e"
                          ],
                          [
                            0.4444444444444444,
                            "#bd3786"
                          ],
                          [
                            0.5555555555555556,
                            "#d8576b"
                          ],
                          [
                            0.6666666666666666,
                            "#ed7953"
                          ],
                          [
                            0.7777777777777778,
                            "#fb9f3a"
                          ],
                          [
                            0.8888888888888888,
                            "#fdca26"
                          ],
                          [
                            1,
                            "#f0f921"
                          ]
                        ],
                        "type": "surface"
                      }
                    ],
                    "table": [
                      {
                        "cells": {
                          "fill": {
                            "color": "#EBF0F8"
                          },
                          "line": {
                            "color": "white"
                          }
                        },
                        "header": {
                          "fill": {
                            "color": "#C8D4E3"
                          },
                          "line": {
                            "color": "white"
                          }
                        },
                        "type": "table"
                      }
                    ]
                  },
                  "layout": {
                    "annotationdefaults": {
                      "arrowcolor": "#2a3f5f",
                      "arrowhead": 0,
                      "arrowwidth": 1
                    },
                    "autotypenumbers": "strict",
                    "coloraxis": {
                      "colorbar": {
                        "outlinewidth": 0,
                        "ticks": ""
                      }
                    },
                    "colorscale": {
                      "diverging": [
                        [
                          0,
                          "#8e0152"
                        ],
                        [
                          0.1,
                          "#c51b7d"
                        ],
                        [
                          0.2,
                          "#de77ae"
                        ],
                        [
                          0.3,
                          "#f1b6da"
                        ],
                        [
                          0.4,
                          "#fde0ef"
                        ],
                        [
                          0.5,
                          "#f7f7f7"
                        ],
                        [
                          0.6,
                          "#e6f5d0"
                        ],
                        [
                          0.7,
                          "#b8e186"
                        ],
                        [
                          0.8,
                          "#7fbc41"
                        ],
                        [
                          0.9,
                          "#4d9221"
                        ],
                        [
                          1,
                          "#276419"
                        ]
                      ],
                      "sequential": [
                        [
                          0,
                          "#0d0887"
                        ],
                        [
                          0.1111111111111111,
                          "#46039f"
                        ],
                        [
                          0.2222222222222222,
                          "#7201a8"
                        ],
                        [
                          0.3333333333333333,
                          "#9c179e"
                        ],
                        [
                          0.4444444444444444,
                          "#bd3786"
                        ],
                        [
                          0.5555555555555556,
                          "#d8576b"
                        ],
                        [
                          0.6666666666666666,
                          "#ed7953"
                        ],
                        [
                          0.7777777777777778,
                          "#fb9f3a"
                        ],
                        [
                          0.8888888888888888,
                          "#fdca26"
                        ],
                        [
                          1,
                          "#f0f921"
                        ]
                      ],
                      "sequentialminus": [
                        [
                          0,
                          "#0d0887"
                        ],
                        [
                          0.1111111111111111,
                          "#46039f"
                        ],
                        [
                          0.2222222222222222,
                          "#7201a8"
                        ],
                        [
                          0.3333333333333333,
                          "#9c179e"
                        ],
                        [
                          0.4444444444444444,
                          "#bd3786"
                        ],
                        [
                          0.5555555555555556,
                          "#d8576b"
                        ],
                        [
                          0.6666666666666666,
                          "#ed7953"
                        ],
                        [
                          0.7777777777777778,
                          "#fb9f3a"
                        ],
                        [
                          0.8888888888888888,
                          "#fdca26"
                        ],
                        [
                          1,
                          "#f0f921"
                        ]
                      ]
                    },
                    "colorway": [
                      "#636efa",
                      "#EF553B",
                      "#00cc96",
                      "#ab63fa",
                      "#FFA15A",
                      "#19d3f3",
                      "#FF6692",
                      "#B6E880",
                      "#FF97FF",
                      "#FECB52"
                    ],
                    "font": {
                      "color": "#2a3f5f"
                    },
                    "geo": {
                      "bgcolor": "white",
                      "lakecolor": "white",
                      "landcolor": "#E5ECF6",
                      "showlakes": true,
                      "showland": true,
                      "subunitcolor": "white"
                    },
                    "hoverlabel": {
                      "align": "left"
                    },
                    "hovermode": "closest",
                    "mapbox": {
                      "style": "light"
                    },
                    "paper_bgcolor": "white",
                    "plot_bgcolor": "#E5ECF6",
                    "polar": {
                      "angularaxis": {
                        "gridcolor": "white",
                        "linecolor": "white",
                        "ticks": ""
                      },
                      "bgcolor": "#E5ECF6",
                      "radialaxis": {
                        "gridcolor": "white",
                        "linecolor": "white",
                        "ticks": ""
                      }
                    },
                    "scene": {
                      "xaxis": {
                        "backgroundcolor": "#E5ECF6",
                        "gridcolor": "white",
                        "gridwidth": 2,
                        "linecolor": "white",
                        "showbackground": true,
                        "ticks": "",
                        "zerolinecolor": "white"
                      },
                      "yaxis": {
                        "backgroundcolor": "#E5ECF6",
                        "gridcolor": "white",
                        "gridwidth": 2,
                        "linecolor": "white",
                        "showbackground": true,
                        "ticks": "",
                        "zerolinecolor": "white"
                      },
                      "zaxis": {
                        "backgroundcolor": "#E5ECF6",
                        "gridcolor": "white",
                        "gridwidth": 2,
                        "linecolor": "white",
                        "showbackground": true,
                        "ticks": "",
                        "zerolinecolor": "white"
                      }
                    },
                    "shapedefaults": {
                      "line": {
                        "color": "#2a3f5f"
                      }
                    },
                    "ternary": {
                      "aaxis": {
                        "gridcolor": "white",
                        "linecolor": "white",
                        "ticks": ""
                      },
                      "baxis": {
                        "gridcolor": "white",
                        "linecolor": "white",
                        "ticks": ""
                      },
                      "bgcolor": "#E5ECF6",
                      "caxis": {
                        "gridcolor": "white",
                        "linecolor": "white",
                        "ticks": ""
                      }
                    },
                    "title": {
                      "x": 0.05
                    },
                    "xaxis": {
                      "automargin": true,
                      "gridcolor": "white",
                      "linecolor": "white",
                      "ticks": "",
                      "title": {
                        "standoff": 15
                      },
                      "zerolinecolor": "white",
                      "zerolinewidth": 2
                    },
                    "yaxis": {
                      "automargin": true,
                      "gridcolor": "white",
                      "linecolor": "white",
                      "ticks": "",
                      "title": {
                        "standoff": 15
                      },
                      "zerolinecolor": "white",
                      "zerolinewidth": 2
                    }
                  }
                },
                "title": {
                  "text": "OGDC Candlestick (plotly)"
                },
                "xaxis": {
                  "title": {
                    "text": "Date"
                  }
                },
                "yaxis": {
                  "title": {
                    "text": "Price"
                  }
                }
              }
            },
            "text/html": [
              "<div>            <script src=\"https://cdnjs.cloudflare.com/ajax/libs/mathjax/2.7.5/MathJax.js?config=TeX-AMS-MML_SVG\"></script><script type=\"text/javascript\">if (window.MathJax && window.MathJax.Hub && window.MathJax.Hub.Config) {window.MathJax.Hub.Config({SVG: {font: \"STIX-Web\"}});}</script>                <script type=\"text/javascript\">window.PlotlyConfig = {MathJaxConfig: 'local'};</script>\n",
              "        <script charset=\"utf-8\" src=\"https://cdn.plot.ly/plotly-3.0.1.min.js\" integrity=\"sha256-oy6Be7Eh6eiQFs5M7oXuPxxm9qbJXEtTpfSI93dW16Q=\" crossorigin=\"anonymous\"></script>                <div id=\"68c03bc5-138e-4dc7-b5b5-6a92b421e0f5\" class=\"plotly-graph-div\" style=\"height:525px; width:100%;\"></div>            <script type=\"text/javascript\">                window.PLOTLYENV=window.PLOTLYENV || {};                                if (document.getElementById(\"68c03bc5-138e-4dc7-b5b5-6a92b421e0f5\")) {                    Plotly.newPlot(                        \"68c03bc5-138e-4dc7-b5b5-6a92b421e0f5\",                        [{\"close\":{\"dtype\":\"f8\",\"bdata\":\"hetRuB71VED2KFyPwuVTQHE9Ctej8FNAMzMzMzNDVECPwvUoXB9VQDMzMzMzU1VAXI\\u002fC9SisVUA9CtejcI1VQKRwPQrXA1VAUrgehevRVEBxPQrXo2BVQLgehetR+FRAMzMzMzMzVUD2KFyPwlVVQDMzMzMzI1VA7FG4HoWrVUDNzMzMzKxVQDMzMzMzk1VA4XoUrkdhVUAzMzMzM3NVQNejcD0Kd1VAXI\\u002fC9Sg8VUDNzMzMzIxVQNejcD0Kt1VAexSuR+H6VUCuR+F6FP5VQOF6FK5HwVVAUrgehevhVUDNzMzMzPxVQMP1KFyP0lVArkfhehQeVkDhehSuRxFWQM3MzMzMLFZAmpmZmZkZVkCkcD0K1zNWQPYoXI\\u002fCBVZA9ihcj8IVVkCkcD0K1\\u002fNVQI\\u002fC9Shc\\u002f1VAUrgehevhVUB7FK5H4bpVQM3MzMzMvFVAcT0K16OQVUDD9Shcj8JVQEjhehSu51ZAj8L1KFw\\u002fV0AfhetRuL5XQMP1KFyPsldA9ihcj8K1VkCkcD0K11NWQKRwPQrXU1ZAzczMzMxsVkCPwvUoXD9WQDMzMzMz41VAw\\u002fUoXI+iVUBcj8L1KKxVQLgehetReFVAj8L1KFyfVEDsUbgehdtUQM3MzMzMvFRA4XoUrkfRVEBI4XoUrqdUQBSuR+F6BFVACtejcD0qVUCF61G4HsVUQLgehetRyFRAMzMzMzPDVECF61G4HjVUQNejcD0KJ1RASOF6FK7nU0AfhetRuM5TQK5H4XoUDlRAhetRuB7VVEB7FK5H4bpUQB+F61G4nlRAUrgeheuBVEApXI\\u002fC9XhUQNejcD0K91VAw\\u002fUoXI+CVUAK16NwPRpVQFyPwvUoHFVAXI\\u002fC9ShcVUCuR+F6FI5VQFK4HoXrQVVA16NwPQpHVUCkcD0K1yNVQMP1KFyPwlRA9ihcj8L1U0CuR+F6FO5TQOxRuB6Fu1NA9ihcj8KVU0AfhetRuF5UQMP1KFyP0lNAZmZmZmbGU0AAAAAAALBTQDMzMzMzo1NA9ihcj8K1U0DD9Shcj0JTQM3MzMzMPFNAexSuR+HKUkBcj8L1KMxSQOF6FK5HQVNAcT0K16MAVECF61G4HkVUQClcj8L16FNACtejcD16U0BxPQrXozBTQM3MzMzMfFNAexSuR+GaU0ApXI\\u002fC9ZhTQI\\u002fC9Shcv1NASOF6FK4nVEAAAAAAAGBTQFyPwvUorFNA16NwPQoHVEDNzMzMzFxUQOF6FK5HoVRAXI\\u002fC9ShsVECF61G4HsVUQK5H4XoUvlRAH4XrUbi+VECamZmZmdlTQB+F61G4vlNAzczMzMycU0AUrkfhemRTQHsUrkfhqlNAMzMzMzODU0BmZmZmZmZTQMP1KFyPQlNAuB6F61FYU0A9CtejcB1UQLgehetR6FRAhetRuB4FVUA9CtejcK1UQOxRuB6FO1RAFK5H4XqUU0AK16NwPQpUQOF6FK5HsVNAZmZmZmYGVEDsUbgehdtTQHE9CtejAFRAexSuR+EKVEAAAAAAAEBUQHsUrkfhGlRAAAAAAAAgVEApXI\\u002fC9QhUQAAAAAAAYFRAXI\\u002fC9SiMVEBcj8L1KKxUQI\\u002fC9ShcL1VAUrgeheshVUA9CtejcN1VQHsUrkfh2lVA16NwPQq3VUC4HoXrUYhVQD0K16NwTVVA4XoUrkcxVUAzMzMzM8NUQD0K16NwLVVAcT0K16MQVUCkcD0K1wNVQOF6FK5HsVRAFK5H4Xp0VECkcD0K11NUQM3MzMzMjFRApHA9CtdzVEAfhetRuE5UQPYoXI\\u002fCBVRAFK5H4XoUVED2KFyPwvVTQHsUrkfhClRAKVyPwvXoU0DD9Shcj8JTQEjhehSup1NA16NwPQrXU0DNzMzMzIxTQJqZmZmZmVNAH4XrUbh+U0BI4XoUrvdSQAAAAAAAIFJAcT0K16NwUkCF61G4HlVSQOxRuB6Fa1JAhetRuB4lU0B7FK5H4RpTQDMzMzMz81JArkfhehTuUkApXI\\u002fC9chSQI\\u002fC9Shcr1JA9ihcj8KlUkAfhetRuA5TQK5H4XoU3lJA16NwPQoXU0DsUbgehTtTQHsUrkfhKlNAUrgeheshU0AK16NwPXpSQLgehetRGFJAcT0K16MAUkAK16NwPTpSQMP1KFyPElJAPQrXo3A9UkA9CtejcE1SQK5H4XoUTlJASOF6FK7nUUCF61G4HtVRQFyPwvUonFFApHA9CteDUUDsUbgehbtRQK5H4XoU3lFAcT0K16MQUkBmZmZmZpZRQLgehetRuFFAexSuR+HqUUAzMzMzM4NSQK5H4XoUflNAj8L1KFwPU0CkcD0K1zNTQDMzMzMzA1NAFK5H4XrEUkApXI\\u002fC9ZhSQFK4HoXroVJAUrgeheuBUkCPwvUoXH9SQOF6FK5HgVJA4XoUrkeRUkAfhetRuA5SQLgehetRKFJApHA9CtcjUkA9CtejcB1SQOxRuB6FG1JAKVyPwvXoUUDNzMzMzNxRQLgehetRyFFArkfhehTOUUAK16NwPfpRQGZmZmZmBlJA9ihcj8LlUUCkcD0K10NSQJqZmZmZCVJA4XoUrkchUkCPwvUoXO9RQClcj8L1iFFA4XoUrkdxUUAAAAAAABBSQB+F61G4PlJASOF6FK43U0DXo3A9CsdSQOF6FK5H0VJAPQrXo3AdU0AK16NwPepTQK5H4XoUDlRAXI\\u002fC9Sj8U0AzMzMzM6NTQOF6FK5H8VNApHA9CteTVECF61G4HjVVQOxRuB6FG1VAFK5H4XrkVUDhehSuR7FVQMP1KFyPglRAcT0K16PAU0CamZmZmYlSQPYoXI\\u002fCBVNAXI\\u002fC9SjcU0BxPQrXo9BTQK5H4XoUblRAAAAAAAAgVUCuR+F6FH5VQDMzMzMzk1VAKVyPwvWoVUDhehSuR5FVQDMzMzMz81VAMzMzMzPTVUDhehSuR8FVQFyPwvUofFVAuB6F61EYV0AzMzMzM9NYQFK4HoXr8VhAzczMzMx8WkCkcD0K10NZQDMzMzMzs1hAXI\\u002fC9Sh8V0BSuB6F6\\u002fFXQEjhehSuV1dAhetRuB6lV0CuR+F6FG5WQB+F61G4zlZAUrgeheuxVkC4HoXrUShWQArXo3A96lVA7FG4HoV7VUBI4XoUrqdUQGZmZmZmNlRAw\\u002fUoXI+CVEBI4XoUrgdWQI\\u002fC9Shcn1VAMzMzMzNTVUDD9Shcj5JVQFyPwvUozFVAuB6F61G4VUDNzMzMzExXQDMzMzMz81ZAH4XrUbjuVkAUrkfheoRWQOxRuB6Fa1ZAhetRuB61VUD2KFyPwgVWQI\\u002fC9Shcf1VAexSuR+EqVUCkcD0K1zNVQHE9CtejIFVAw\\u002fUoXI8CVUCF61G4HvVUQNejcD0K11RAzczMzMzcVEAK16NwPZpUQOxRuB6Fa1RA9ihcj8LVVUBcj8L1KCxVQLgehetR6FRAzczMzMzcVEAAAAAAAFBVQBSuR+F6dFVAexSuR+F6VUBSuB6F64FVQLgehetRmFVACtejcD3aVUCkcD0K18NVQOxRuB6Fu1VArkfhehR+VUApXI\\u002fC9UhVQEjhehSuh1VAXI\\u002fC9ShMVUB7FK5H4YpVQPYoXI\\u002fChVRAAAAAAAAQVEC4HoXrUahTQHsUrkfhulNAj8L1KFyPU0CkcD0K1zNTQNejcD0K51NAw\\u002fUoXI+CU0CF61G4HjVTQDMzMzMzU1NAH4XrUbj+UkBI4XoUrsdSQArXo3A9ylJAexSuR+HqUkDXo3A9CodSQNejcD0Kp1JAUrgehevxUkAUrkfherRSQB+F61G4zlJA9ihcj8LVUkDNzMzMzJxTQK5H4XoUnlNArkfhehS+U0BI4XoUrqdTQIXrUbge9VNAH4XrUbheU0DsUbgehVtTQArXo3A9alNASOF6FK4XU0AAAAAAAABTQFyPwvUobFJAcT0K16PAUkCPwvUoXH9SQK5H4XoUnlJAXI\\u002fC9SicUkBSuB6F61FTQAAAAAAAgFNAZmZmZmb2VEAfhetRuE5VQClcj8L1+FRAKVyPwvWIVUDsUbgehUtVQJqZmZmZKVVAhetRuB5lVUBmZmZmZsZVQOxRuB6Fq1VAMzMzMzNTVUDsUbgehTtVQOxRuB6FC1VAUrgehesRVUBSuB6F63FVQD0K16NwTVVAMzMzMzNTVUDD9Shcj9JVQBSuR+F6tFVAexSuR+HqVkAzMzMzM6NYQOxRuB6Fe1hAhetRuB4FWkBxPQrXoxBaQArXo3A96lpAFK5H4XpkWkBmZmZmZnZYQGZmZmZmFlpA16NwPQonWUCuR+F6FN5ZQOF6FK5HUVlAUrgeheuRWEDhehSuR+FYQMP1KFyP0lhAXI\\u002fC9SgcWEBxPQrXo+BYQKRwPQrXA1lAPQrXo3AtWUBcj8L1KMxYQDMzMzMzQ1hA7FG4HoXrV0AAAAAAAJBXQM3MzMzMPFdAPQrXo3CdV0AfhetRuN5XQEjhehSud1dAUrgehevBV0DhehSuR8FXQD0K16Nw\\u002fVdAAAAAAAAAWEDXo3A9CldXQIXrUbgedVdAAAAAAACQV0B7FK5H4apXQHsUrkfhyldAhetRuB4FWEBxPQrXo8BXQMP1KFyP4ldAcT0K16MAWEApXI\\u002fC9ShYQI\\u002fC9Shc\\u002f1dApHA9CtdzWEA9CtejcB1YQNejcD0K11hAMzMzMzOjWEAUrkfheoRYQEjhehSuV1hAKVyPwvX4V0BxPQrXo+BXQAAAAAAA4FdA9ihcj8I1WEBSuB6F61FYQOF6FK5HsVhACtejcD2qWECkcD0K18NXQEjhehSuZ1dA4XoUrkdxWED2KFyPwkVYQM3MzMzMnFlA4XoUrkdBWUBSuB6F6zFZQOxRuB6FC1lACtejcD3KWEB7FK5H4QpZQEjhehSuF1lAXI\\u002fC9SgcWUDhehSuRxFZQAAAAAAAYFlAKVyPwvVoWUDhehSuR2FZQOF6FK5HkVlAexSuR+H6WUDD9Shcj+JZQBSuR+F65FlAcT0K16OwWkD2KFyPwnVcQBSuR+F61FtAhetRuB51W0CF61G4HhVbQHsUrkfhqltA4XoUrkcBW0BmZmZmZuZaQPYoXI\\u002fCJVtAH4XrUbg+W0BmZmZmZgZbQDMzMzMzM1tASOF6FK6XW0ApXI\\u002fC9dhcQEjhehSuZ15AZmZmZmbGXkBmZmZmZnZeQLgehetRWF9Aj8L1KFxPX0A9CtejcE1fQAAAAAAAoF5Aj8L1KFw\\u002fX0AAAAAAALBfQPYoXI\\u002fCBV9A4XoUrkdhXUCuR+F6FK5cQLgehetRKF1A16NwPQpnXED2KFyPwkVaQM3MzMzMzFpACtejcD2KW0DNzMzMzBxcQLgehetROF5AexSuR+G6XkApXI\\u002fC9dhfQNejcD0KZ19Aw\\u002fUoXI9CX0C4HoXrUdheQHE9CtejoF5AexSuR+GqXkCkcD0K18NfQFK4HoXr4V9A4XoUrkdJYEB7FK5H4ZpfQClcj8L1mF9APQrXo3ANX0A9CtejcA1fQClcj8L1sGBAAAAAAAAQYUCkcD0K1ztiQFK4HoXr6WBApHA9CterYUDsUbgehTNhQClcj8L1yGBAKVyPwvXoYEC4HoXrUQhiQDMzMzMzc2JACtejcD1yY0A9CtejcNViQMP1KFyPImJAZmZmZmbGYEDsUbgehQtfQHE9CtejgF5A16NwPQqHXEDsUbgehftaQFK4HoXr4VxAcT0K16NAXEDNzMzMzExdQFyPwvUoLF1APQrXo3BNX0BxPQrXo0BfQBSuR+F6RF5AexSuR+HKXkBI4XoUrkdfQIXrUbge1V5APQrXo3CFYEAfhetRuP5fQBSuR+F6FGBAMzMzMzNrYEDsUbgehSNgQEjhehSu919A9ihcj8LlXkDD9Shcj2JeQDMzMzMzs19AXI\\u002fC9SjsXkCF61G4HtVeQBSuR+F6xF5A16NwPQqHXkAK16NwPQpeQI\\u002fC9Shcf11ACtejcD1aXkApXI\\u002fC9ZheQHsUrkfhql5ApHA9CtezXkCamZmZmWleQOF6FK5H8V1AhetRuB7FXUCamZmZmYleQDMzMzMzU19AzczMzMwEYEBmZmZmZgZgQArXo3A9omBAzczMzMysYEBI4XoUrmdgQMP1KFyPcmBAexSuR+G6YECuR+F6FPZgQK5H4XoUxmBA7FG4HoXLYEBI4XoUrg9hQM3MzMzMJGFA16NwPQrHYEAK16NwPbJgQAAAAAAAkGBAexSuR+FKYUDXo3A9Ch9hQHsUrkfh2mBAhetRuB61YEAfhetRuK5gQIXrUbgevWBACtejcD3aYECF61G4Hm1hQArXo3A9amFAj8L1KFw\\u002fYUB7FK5H4UJhQBSuR+F6BGFA4XoUrkfpYEDsUbgehftgQFK4HoXrcWFAhetRuB5lYUCPwvUoXB9hQDMzMzMzk2BApHA9CteDYEDXo3A9Cq9gQD0K16NwhWBAuB6F61EwYEBcj8L1KKxfQClcj8L1SF9AUrgehevxXkCuR+F6FE5eQBSuR+F6tF1ASOF6FK7HXUAAAAAAAChgQB+F61G4ZmBA7FG4HoXLYEAAAAAAALhgQBSuR+F6dGBAmpmZmZkhYEB7FK5H4epgQD0K16NwJWFApHA9CtfrYEApXI\\u002fC9fBgQEjhehSu92BAAAAAAAAYYUBxPQrXo+hgQGZmZmZmnmBAUrgeheuxYEBmZmZmZsZgQFyPwvUopGBAhetRuB6VYEDD9Shcj1pgQI\\u002fC9Shcl2BAj8L1KFwXYUC4HoXrUcBgQEjhehSuN2BApHA9Ctd7YEAzMzMzM3tgQJqZmZmZaWBA4XoUrkchYECuR+F6FJZgQIXrUbgedWBAj8L1KFwnYECPwvUoXA9gQEjhehSuT2BAAAAAAAAoYED2KFyPwjVgQBSuR+F6JGBAmpmZmZlRYUAK16NwPfpgQOF6FK5HsWBAMzMzMzO7YEC4HoXrUYhgQArXo3A9amBAw\\u002fUoXI96YEAzMzMzM5tgQArXo3A9wmBArkfhehTeYEApXI\\u002fC9eBgQMP1KFyP0mBAMzMzMzOjYECkcD0K15NgQOxRuB6Fm2BAzczMzMycYEDNzMzMzKRgQJqZmZmZwWBAH4XrUbg2YUBmZmZmZiZhQEjhehSuF2FA7FG4HoULYUAK16NwPQJhQFK4HoXrIWFAcT0K16NQYUDhehSuR8FhQClcj8L1oGFAcT0K16PIYUDsUbgehTtiQOF6FK5HqWFA7FG4HoVTYUApXI\\u002fC9XhhQClcj8L1CGJAUrgehevxYUAzMzMzM\\u002fthQPYoXI\\u002fC7WFAmpmZmZlBYkC4HoXrUXhiQOF6FK5HsWJAmpmZmZlhY0A9CtejcN1kQBSuR+F6hGVAexSuR+E6ZUAfhetRuE5lQAAAAAAAQGVAUrgehevhZEAzMzMzM0tlQFK4HoXrMWVAAAAAAAAAZUD2KFyPwrVkQKRwPQrX22RA16NwPQrfZEAUrkfheiRlQArXo3A96mVAMzMzMzPzZUCPwvUoXM9lQClcj8L16GVAhetRuB69ZUBcj8L1KIRlQEjhehSub2ZAFK5H4XqUZkBSuB6F6+lmQOF6FK5HUWZA16NwPQrnZkCF61G4Hu1nQBSuR+F6tGhArkfhehRWaEAzMzMzM8NnQKRwPQrXW2hA9ihcj8JFaEAzMzMzM0NoQNejcD0Kb2hArkfhehReaECF61G4HvVoQK5H4XoUVmhACtejcD0aaEApXI\\u002fC9XBmQOF6FK5HiWdApHA9CtczaEAAAAAAAGhoQA==\"},\"high\":{\"dtype\":\"f8\",\"bdata\":\"KVyPwvU4VUCF61G4HvVUQPYoXI\\u002fCNVRAH4XrUbheVEA9CtejcL1VQAAAAAAAkFVAj8L1KFz\\u002fVUBmZmZmZtZVQDMzMzMzg1VAAAAAAAAwVUBxPQrXo7BVQGZmZmZmZlVA9ihcj8J1VUAAAAAAAHBVQAAAAAAAkFVAMzMzMzPDVUCPwvUoXB9WQGZmZmZm1lVAZmZmZmamVUBmZmZmZqZVQM3MzMzMnFVAZmZmZmaWVUAzMzMzM9NVQJqZmZmZ6VVAMzMzMzMTVkCamZmZmTlWQAAAAAAAAFZAmpmZmZn5VUBmZmZmZjZWQHsUrkfhGlZAmpmZmZlZVkAAAAAAAEBWQAAAAAAAcFZAzczMzMxMVkDhehSuR3FWQGZmZmZmdlZAKVyPwvU4VkBmZmZmZjZWQFyPwvUoHFZAAAAAAAAgVkCamZmZmflVQGZmZmZm9lVA4XoUrkfxVUAAAAAAANBVQLgehetRmFdAcT0K16OAV0CkcD0K1+NXQAAAAAAAAFhAZmZmZmZ2V0AAAAAAAMBWQM3MzMzMfFZAMzMzMzOTVkAzMzMzM5NWQAAAAAAAYFZA7FG4HoULVkAfhetRuN5VQPYoXI\\u002fC1VVAAAAAAABgVUDNzMzMzHxVQGZmZmZmFlVAzczMzMzcVEBmZmZmZuZUQJqZmZmZGVVAAAAAAABAVUDNzMzMzBxVQI\\u002fC9Shc31RAMzMzMzPzVED2KFyPwpVUQGZmZmZmZlRAZmZmZmaWVEAzMzMzMwNUQClcj8L1GFRAAAAAAADwVEAfhetRuP5UQAAAAAAA4FRAFK5H4Xq0VEAAAAAAALBUQFK4HoXrAVZAuB6F61E4VkDNzMzMzKxVQDMzMzMzM1VAKVyPwvWIVUCamZmZmdlVQD0K16NwjVVAZmZmZmbGVUAzMzMzM3NVQAAAAAAAIFVAw\\u002fUoXI\\u002fCVEBmZmZmZjZUQFK4HoXr8VNAAAAAAADQU0AAAAAAALBUQGZmZmZmRlRAH4XrUbj+U0C4HoXrUfhTQI\\u002fC9Shc31NAZmZmZmbGU0ApXI\\u002fC9ahTQDMzMzMzc1NAw\\u002fUoXI8yU0AAAAAAAABTQEjhehSul1NAzczMzMxsVEAAAAAAAKBUQAAAAAAAYFRAzczMzMwMVEAAAAAAAJBTQGZmZmZmplNACtejcD26U0AzMzMzM7NTQAAAAAAAIFRAAAAAAABAVEAzMzMzMzNUQI\\u002fC9Shcv1NAzczMzMwsVEAAAAAAAKBUQGZmZmZmJlVAj8L1KFzPVECPwvUoXN9UQClcj8L1GFVAMzMzMzMDVUBmZmZmZsZUQAAAAAAAIFRAuB6F61H4U0DNzMzMzMxTQLgehetR+FNAAAAAAADAU0AAAAAAAKBTQM3MzMzMfFNAZmZmZmZmU0AAAAAAAHBUQDMzMzMzM1VAAAAAAABAVUD2KFyPwgVVQGZmZmZmdlRAzczMzMxsVEDNzMzMzCxUQArXo3A9GlRAPQrXo3AdVEAAAAAAAABUQDMzMzMzM1RAzczMzMw8VEAAAAAAAIBUQM3MzMzMXFRAZmZmZmZGVECamZmZmTlUQJqZmZmZiVRAmpmZmZmpVEAfhetRuM5UQI\\u002fC9Shcr1VAXI\\u002fC9ShcVUC4HoXrUfhVQAAAAAAAQFZAMzMzMzMTVkCF61G4HrVVQM3MzMzMrFVAMzMzMzNzVUAAAAAAAEBVQAAAAAAAQFVAMzMzMzNTVUAfhetRuB5VQJqZmZmZGVVAAAAAAACAVUBmZmZmZvZUQGZmZmZmxlRAAAAAAADAVEAAAAAAAJBUQGZmZmZmVlRAZmZmZmYmVEAzMzMzMzNUQAAAAAAAIFRAMzMzMzMjVED2KFyPwgVUQAAAAAAA4FNAAAAAAAAAVEAAAAAAAABUQDMzMzMzs1NAMzMzMzOzU0AzMzMzM5NTQAAAAAAAIFNAuB6F61GYUkAzMzMzM+NSQAAAAAAAoFJAAAAAAADAU0AzMzMzM3NTQAAAAAAAIFNAH4XrUbgeU0CPwvUoXP9SQI\\u002fC9Shc31JAj8L1KFzPUkDNzMzMzCxTQMP1KFyPMlNAzczMzMxcU0CamZmZmXlTQM3MzMzMTFNAZmZmZmZWU0DNzMzMzKxSQAAAAAAAgFJAmpmZmZlZUkBmZmZmZkZSQGZmZmZmZlJAMzMzMzNzUkAAAAAAAJBSQClcj8L1uFJAMzMzMzMzUkCamZmZmflRQB+F61G43lFAZmZmZmbGUUCPwvUoXL9RQClcj8L1+FFA16NwPQonUkDNzMzMzKxRQArXo3A92lFAMzMzMzMTUkCamZmZmflSQI\\u002fC9Shcn1NAzczMzMyMU0CamZmZmalTQM3MzMzMbFNAAAAAAAAgU0AzMzMzM9NSQAAAAAAAwFJAKVyPwvXIUkBcj8L1KJxSQAAAAAAAoFJAZmZmZmbGUkDNzMzMzGxSQM3MzMzMTFJAuB6F61FIUkAAAAAAAFBSQAAAAAAAMFJAMzMzMzMTUkAAAAAAAABSQJqZmZmZCVJAAAAAAADgUUCamZmZmVlSQM3MzMzMLFJAAAAAAAAgUkBmZmZmZmZSQM3MzMzMTFJAj8L1KFwvUkBmZmZmZkZSQFyPwvUoDFJAAAAAAACwUUAAAAAAAGBSQI\\u002fC9ShcX1JAMzMzMzNDU0BmZmZmZlZTQJqZmZmZ+VJAAAAAAABAU0DsUbgehWtUQJqZmZmZqVRAmpmZmZk5VECamZmZmTlUQAAAAAAAIFRAAAAAAADAVECamZmZmXlVQAAAAAAAAFZAKVyPwvUIVkDNzMzMzExWQJqZmZmZeVVArkfhehR+VEDNzMzMzAxUQPYoXI\\u002fCNVNA7FG4HoUbVEAzMzMzMzNUQK5H4XoUjlRAXI\\u002fC9ShcVUAAAAAAANBVQJqZmZmZyVVAAAAAAADgVUCuR+F6FB5WQI\\u002fC9ShcD1ZAMzMzMzNTVkAzMzMzM9NVQJqZmZmZ2VVAuB6F61EYV0AzMzMzM9NYQClcj8L1OFlAcT0K16PQWkBmZmZmZmZbQAAAAAAAIFlAj8L1KFz\\u002fWEAAAAAAACBYQJqZmZmZOVhAj8L1KFy\\u002fV0AAAAAAAKBXQM3MzMzM7FZAZmZmZmb2VkCamZmZmZlWQK5H4XoUXlZAzczMzMwMVkCPwvUoXJ9VQOF6FK5HgVRAAAAAAADAVEBcj8L1KAxWQGZmZmZmdlZAZmZmZmbWVUDNzMzMzOxVQB+F61G43lVAj8L1KFzvVUApXI\\u002fC9VhXQAAAAAAAQFdAAAAAAAAwV0CamZmZmRlXQJqZmZmZmVZAcT0K16NgVkAUrkfhejRWQM3MzMzMLFZAAAAAAACAVUAzMzMzM3NVQB+F61G4XlVAKVyPwvU4VUDNzMzMzGxVQFK4HoXrEVVAj8L1KFwfVUAzMzMzM9NUQIXrUbge1VRAMzMzMzPzVUCuR+F6FP5VQLgehetROFVAw\\u002fUoXI8SVUBcj8L1KHxVQMP1KFyP4lVAzczMzMysVUAzMzMzM5NVQM3MzMzMrFVAmpmZmZnpVUApXI\\u002fC9QhWQGZmZmZm5lVAH4XrUbjeVUC4HoXrUZhVQAAAAAAAoFVAj8L1KFyfVUCPwvUoXL9VQJqZmZmZOVVAAAAAAACQVEA9CtejcC1UQClcj8L1+FNArkfhehT+U0DNzMzMzIxTQJqZmZmZ+VNAAAAAAAAQVEBmZmZmZqZTQM3MzMzMfFNAzczMzMxcU0AAAAAAABBTQMP1KFyPElNACtejcD0aU0A9CtejcO1SQGZmZmZmBlNACtejcD0qU0AzMzMzMxNTQJqZmZmZ6VJAAAAAAADgUkCamZmZmalTQJqZmZmZGVRAAAAAAADgU0AAAAAAABBUQEjhehSuB1RAAAAAAAAAVECamZmZmZlTQAAAAAAAkFNAAAAAAABgU0CPwvUoXE9TQM3MzMzMLFNAj8L1KFzPUkCamZmZmelSQAAAAAAAwFJAAAAAAADAUkBmZmZmZnZTQGZmZmZmtlNAZmZmZmb2VEAAAAAAAOBVQAAAAAAAkFVAzczMzMy8VUAAAAAAAKBVQJqZmZmZeVVAAAAAAACgVUAfhetRuO5VQAAAAAAAEFZAmpmZmZm5VUBmZmZmZnZVQJqZmZmZWVVA4XoUrkdhVUAAAAAAAJBVQFK4HoXroVVAAAAAAADAVUApXI\\u002fC9fhVQDMzMzMz81VAhetRuB5VV0AzMzMzM6NYQB+F61G4XllAAAAAAABAWkDNzMzMzOxaQDMzMzMzM1tAAAAAAADgW0AAAAAAAABaQFyPwvUoTFpAj8L1KFzfWkDNzMzMzIxaQAAAAAAAAFpAAAAAAABAWUApXI\\u002fC9fhYQFyPwvUonFlAj8L1KFy\\u002fWEAAAAAAAABZQMP1KFyPMllAzczMzMx8WUCPwvUoXB9ZQAAAAAAA4FhAMzMzMzNTWEDsUbgehTtYQB+F61G4DlhAAAAAAACwV0AfhetRuP5XQM3MzMzM\\u002fFdAzczMzMzsV0BmZmZmZjZYQFyPwvUoHFhAj8L1KFw\\u002fWECPwvUoXL9XQOxRuB6Fq1dAZmZmZmaWV0CamZmZmRlYQJqZmZmZ6VdAw\\u002fUoXI8yWECuR+F6FB5YQOxRuB6F+1dAXI\\u002fC9SgsWECamZmZmTlYQDMzMzMzM1hAAAAAAACQWEAAAAAAAKBYQK5H4XoU7lhAmpmZmZkZWUAAAAAAAMBYQFyPwvUonFhAmpmZmZlZWEBcj8L1KBxYQFyPwvUoDFhAZmZmZmZGWEBmZmZmZpZYQAAAAAAAEFlAzczMzMwsWUAAAAAAAEBYQLgehetR2FdAAAAAAACgWECamZmZmXlYQEjhehSuF1pAAAAAAACwWUBxPQrXo7BZQGZmZmZmZllAXI\\u002fC9SgsWUApXI\\u002fC9ThZQHE9CtejgFlAzczMzMzMWUCamZmZmXlZQOF6FK5HcVlAMzMzMzODWUAAAAAAAMBZQPYoXI\\u002fCxVlAMzMzMzMzWkAAAAAAAEBaQB+F61G4\\u002fllAmpmZmZn5WkDNzMzMzKxcQB+F61G4nlxAMzMzMzPTW0DNzMzMzKxbQJqZmZmZ6VtArkfhehTuW0DNzMzMzHxbQAAAAAAAYFtAmpmZmZmJW0AzMzMzM6NbQClcj8L1WFtAZmZmZmbGW0BmZmZmZnZdQJqZmZmZuV5AzczMzMwsX0AAAAAAACBfQK5H4XoUnl9AAAAAAADAX0BmZmZmZrZfQM3MzMzMHGBAAAAAAADAX0AAAAAAABhgQAAAAAAA8F9AAAAAAAAAX0DNzMzMzMxdQPYoXI\\u002fCRV1AAAAAAABAXUBmZmZmZkZcQI\\u002fC9Shc\\u002f1pAAAAAAAAAXECamZmZmflcQLgehetROF5AzczMzMysX0AzMzMzMwNgQM3MzMzMDGBAZmZmZmbWX0AzMzMzM3NfQAAAAAAAQF9AzczMzMysX0BmZmZmZg5gQAAAAAAAMGBAmpmZmZm5YECkcD0K1ztgQHE9CtejEGBAmpmZmZl5X0AfhetRuH5fQClcj8L1sGBAzczMzMxcYUBI4XoUrldiQDMzMzMzm2JAZmZmZmbmYUDhehSuR5lhQAAAAAAAgGFAAAAAAABQYUAzMzMzMyNiQAAAAAAAsGJAexSuR+HSY0DNzMzMzKxjQJqZmZmZiWJAAAAAAACgYUCPwvUoXJ9fQAAAAAAAAGBAmpmZmZn5XkDNzMzMzAxdQOF6FK5HAV1Aj8L1KFyvXUBcj8L1KJxdQJqZmZmZmV1AXI\\u002fC9ShcX0AAAAAAADhgQDMzMzMzY19APQrXo3AtX0DXo3A9CvdfQMP1KFyPcl9Aw\\u002fUoXI+SYEBI4XoUrq9gQM3MzMzMdGBAzczMzMx8YECamZmZmVlgQDMzMzMzS2BASOF6FK4PYEAAAAAAAEBfQAAAAAAA4F9A16NwPQofYECamZmZmVlfQI\\u002fC9ShcP19AZmZmZmY2X0AAAAAAAMBeQGZmZmZm9l1AUrgehesxX0ApXI\\u002fC9RhfQB+F61G47l5AzczMzMzsXkAAAAAAAOBeQJqZmZmZmV5AAAAAAAAAXkAAAAAAAMBeQEjhehSuH2BAzczMzMwsYEDNzMzMzDxgQGZmZmZm1mBAMzMzMzMTYUDXo3A9Cp9gQJqZmZmZuWBAFK5H4XrsYEAAAAAAAEBhQKRwPQrX+2BAMzMzMzPzYEAAAAAAADBhQM3MzMzMbGFAmpmZmZlJYUAzMzMzMzthQAAAAAAA6GBAAAAAAABwYUAAAAAAAJBhQJqZmZmZGWFAMzMzMzPjYEAAAAAAANhgQEjhehSu\\u002f2BAw\\u002fUoXI8qYUAzMzMzM4NhQAAAAAAAwGFA4XoUrkeJYUCuR+F6FGZhQAAAAAAASGFAMzMzMzMjYUCuR+F6FDZhQGZmZmZmjmFAMzMzMzOjYUAAAAAAAHBhQB+F61G4HmFAAAAAAACwYEAAAAAAAMhgQAAAAAAAwGBAmpmZmZmZYEDNzMzMzDxgQDMzMzMzE2BAj8L1KFw\\u002fX0BmZmZmZvZeQAAAAAAAwF5AZmZmZmYWXkAAAAAAAChgQGZmZmZmvmBAAAAAAADoYECamZmZmflgQGZmZmZm1mBAzczMzMx8YEDNzMzMzExhQAAAAAAAQGFAXI\\u002fC9SgsYUCkcD0K1ythQJqZmZmZKWFAZmZmZmZmYUAUrkfhelRhQI\\u002fC9Shc72BAAAAAAADQYEAUrkfheuxgQFyPwvUo3GBA4XoUrkfZYEDNzMzMzKRgQJqZmZmZ2WBAj8L1KFwvYUDNzMzMzDRhQAAAAAAAuGBAZmZmZmaGYEBcj8L1KJxgQNejcD0Kj2BAMzMzMzOTYECuR+F6FNZgQD0K16NwzWBAzczMzMyEYEBI4XoUrkdgQAAAAAAAcGBAZmZmZmbWYEAAAAAAAIBgQGZmZmZmZmBAj8L1KFx\\u002fYUDsUbgehaNhQDMzMzMzI2FAAAAAAADgYEAAAAAAAPhgQDMzMzMzq2BAzczMzMy0YEBI4XoUrqdgQI\\u002fC9Shc32BAMzMzMzMbYUCamZmZmQlhQAAAAAAAAGFA16NwPQoPYUBSuB6F67FgQNejcD0Kr2BAzczMzMzMYEAAAAAAAABhQGZmZmZm1mBAZmZmZmZWYUDNzMzMzFRhQBSuR+F6PGFAZmZmZmZWYUBI4XoUrhdhQMP1KFyPOmFAAAAAAABwYUDNzMzMzAxiQAAAAAAAEGJArkfhehTuYUAAAAAAAIBiQBSuR+F6TGJAAAAAAAAAYkBmZmZmZoZhQDMzMzMzG2JAZmZmZmZGYkB7FK5H4RJiQDMzMzMzE2JAAAAAAABYYkBmZmZmZo5iQAAAAAAAwGJAmpmZmZl5Y0CamZmZmTllQOF6FK5H0WVA4XoUrkfRZUAAAAAAAKhlQDMzMzMz42VAAAAAAABAZUAAAAAAAGhlQDMzMzMzW2VAAAAAAABoZUDhehSuRxFlQJqZmZmZ8WRAPQrXo3AtZUCamZmZmTllQAAAAAAAOGZAmpmZmZnZZkAzMzMzM4NmQAAAAAAAAGZAzczMzMykZkAAAAAAAOBlQAAAAAAAoGZAAAAAAADQZkCamZmZmTlnQAAAAAAA0GZAMzMzMzMDZ0AAAAAAADBoQAAAAAAA8GhAAAAAAADwaEAUrkfhenxoQOxRuB6Fk2hAAAAAAADAaEDNzMzMzHxoQAAAAAAAkGhAmpmZmZnZaEAAAAAAADBpQAAAAAAAaGlAAAAAAABwaEAAAAAAAABoQJqZmZmZ0WdAMzMzMzNbaEAAAAAAALhoQA==\"},\"low\":{\"dtype\":\"f8\",\"bdata\":\"zczMzMzcVEBxPQrXo7BTQGZmZmZmplNAAAAAAACwU0BmZmZmZlZUQEjhehSux1RAMzMzMzMzVUAAAAAAAGBVQGZmZmZm9lRA16NwPQp3VECkcD0K18NUQDMzMzMz41RAZmZmZmbGVEBmZmZmZgZVQGZmZmZmBlVAAAAAAAAwVUAAAAAAAKBVQHE9CtejYFVAAAAAAABQVUBmZmZmZmZVQM3MzMzMXFVAzczMzMwsVUCamZmZmQlVQArXo3A9ilVAexSuR+HKVUBmZmZmZuZVQBSuR+F6pFVA4XoUrkfBVUCkcD0K18NVQGZmZmZmtlVA9ihcj8LlVUBmZmZmZgZWQAAAAAAAIFZAMzMzMzPTVUAzMzMzMxNWQHE9Ctej4FVAZmZmZmbGVUDNzMzMzOxVQJqZmZmZ2VVAMzMzMzPTVUAAAAAAALBVQAAAAAAAoFVASOF6FK6HVUAAAAAAAKBVQAAAAAAA0FZAAAAAAACgVkAAAAAAAFBXQJqZmZmZiVdA16NwPQonVkAAAAAAAEBWQDMzMzMz81VAuB6F61E4VkCamZmZmRlWQAAAAAAA0FVAZmZmZmZmVUAAAAAAAJBVQAAAAAAAcFVAZmZmZmaGVEBmZmZmZsZUQAAAAAAAsFRAMzMzMzOTVEBxPQrXo6BUQAAAAAAAgFRAAAAAAAAAVUBxPQrXo6BUQJqZmZmZuVRAMzMzMzOzVEAzMzMzMxNUQJqZmZmZCVRAmpmZmZnZU0AAAAAAAMBTQDMzMzMzk1NAAAAAAACAVECamZmZmZlUQM3MzMzMjFRACtejcD16VEBmZmZmZmZUQFK4HoXrgVRAAAAAAABwVUDhehSuRwFVQM3MzMzM7FRAFK5H4Xr0VEAzMzMzM4NVQDMzMzMzM1VA16NwPQoHVUAzMzMzM\\u002fNUQAAAAAAAwFRAAAAAAADgU0AK16NwPbpTQK5H4XoUrlNAAAAAAABQU0BmZmZmZuZTQJqZmZmZuVNAAAAAAADAU0AK16NwPYpTQJqZmZmZmVNA16NwPQqHU0B7FK5H4TpTQM3MzMzMLFNAAAAAAACwUkBxPQrXo6BSQI\\u002fC9ShcH1NAuB6F61GYU0AAAAAAABBUQJqZmZmZ2VNAzczMzMw8U0BmZmZmZgZTQHE9CtejIFNAAAAAAACAU0BxPQrXo2BTQAAAAAAAkFNAMzMzMzOTU0DNzMzMzExTQJqZmZmZWVNAAAAAAACgU0AAAAAAAPBTQGZmZmZmZlRAzczMzMxcVECamZmZmUlUQM3MzMzMnFRAAAAAAACgVEBxPQrXozBTQM3MzMzMnFNAMzMzMzODU0CamZmZmVlTQNejcD0KR1NAMzMzMzNzU0AAAAAAAGBTQAAAAAAAQFNAcT0K16NAU0BxPQrXo0BTQAAAAAAAAFRAPQrXo3DtVECkcD0K16NUQAAAAAAAIFRAZmZmZmZmU0AzMzMzM2NTQHE9CtejgFNAZmZmZmaWU0AAAAAAALBTQArXo3A9qlNAmpmZmZnZU0B7FK5H4QpUQFK4HoXrAVRAAAAAAAAAVEAAAAAAAABUQAAAAAAAEFRAZmZmZmZmVEAzMzMzM1NUQJqZmZmZCVVAAAAAAAAQVUCamZmZmSlVQGZmZmZmplVAAAAAAACgVUAAAAAAAIBVQDMzMzMzM1VASOF6FK4XVUCamZmZmalUQM3MzMzM7FRAAAAAAAAAVUBmZmZmZuZUQGZmZmZmplRA16NwPQpHVEC4HoXrUUhUQAAAAAAAQFRAAAAAAABwVEAAAAAAAEBUQHE9CtejAFRA7FG4HoX7U0AAAAAAAOBTQDMzMzMz81NAAAAAAADgU0AfhetRuL5TQOF6FK5HoVNAmpmZmZmJU0AzMzMzM4NTQAAAAAAAMFNAuB6F61F4U0BxPQrXo+BSQEjhehSux1FAMzMzMzPDUUAAAAAAAEBSQAAAAAAAYFJAmpmZmZl5UkAzMzMzM\\u002fNSQHE9CtejwFJAw\\u002fUoXI\\u002fCUkAAAAAAAMBSQAAAAAAAoFJAH4XrUbieUkAAAAAAAKBSQDMzMzMz01JAAAAAAADgUkBxPQrXoyBTQAAAAAAAIFNAZmZmZmYWU0AAAAAAAGBSQM3MzMzMDFJAMzMzMzPzUUAUrkfhevRRQM3MzMzMDFJAhetRuB71UUA9CtejcD1SQGZmZmZmRlJAmpmZmZnZUUBmZmZmZrZRQAAAAAAAkFFAmpmZmZl5UUAAAAAAAIBRQHE9CtejsFFArkfhehTeUUAAAAAAAIBRQNejcD0Kp1FAmpmZmZnJUUAAAAAAAPBRQJqZmZmZaVJAcT0K16MAU0C4HoXrUQhTQM3MzMzM7FJA16NwPQq3UkAzMzMzM4NSQAAAAAAAgFJAmpmZmZl5UkAzMzMzM3NSQGZmZmZmZlJAZmZmZmaGUkAfhetRuP5RQEjhehSuB1JAmpmZmZkJUkCamZmZmRlSQOF6FK5H8VFAAAAAAADgUUAAAAAAAKBRQGZmZmZmtlFAAAAAAADAUUCF61G4HsVRQJqZmZmZ+VFAmpmZmZnZUUCkcD0K18NRQGZmZmZmxlFAzczMzMzMUUBmZmZmZuZRQAAAAAAAQFFAAAAAAABgUUAAAAAAAKBRQKRwPQrX81FAAAAAAABgUkBmZmZmZrZSQAAAAAAAgFJAPQrXo3DNUkA9CtejcB1TQHE9CtejwFNA4XoUrkfhU0AzMzMzM5NTQJqZmZmZuVNAmpmZmZnZU0BxPQrXo4BUQPYoXI\\u002fCxVRAMzMzMzMzVUAUrkfhepRVQGZmZmZmZlRAAAAAAACQU0AK16NwPUpSQDMzMzMzk1JA9ihcj8IlU0AzMzMzM5NTQHE9Ctej4FNArkfhehRuVEAzMzMzM1NVQAAAAAAAAFVAmpmZmZk5VUAAAAAAAIBVQDMzMzMzY1VAmpmZmZm5VUCamZmZmTlVQOF6FK5HUVVAPQrXo3DNVkBSuB6F62FYQDMzMzMz01dAzczMzMwsWUBxPQrXo+BYQDMzMzMzU1hA4XoUrkdBV0AUrkfhehRXQAAAAAAAQFdAcT0K16NAV0AAAAAAAEBWQGZmZmZmhlZA16NwPQonVkDXo3A9CvdVQKRwPQrX01VAAAAAAABgVUDsUbgehXtUQJqZmZmZ2VNAAAAAAAAAVEDXo3A9CjdUQEjhehSud1VAMzMzMzMzVUCamZmZmTlVQJqZmZmZiVVAXI\\u002fC9SisVUAAAAAAAFBWQKRwPQrXo1ZAAAAAAADAVkCuR+F6FG5WQAAAAAAAIFZApHA9CteTVUCamZmZmZlVQDMzMzMzc1VAAAAAAAAgVUAAAAAAAABVQJqZmZmZGVVA4XoUrkfhVECamZmZmelUQJqZmZmZqVRAAAAAAADAVECamZmZmTlUQFK4HoXrQVRAmpmZmZmpVEAAAAAAACBVQAAAAAAA4FRAMzMzMzOzVEAzMzMzM8NUQD0K16NwTVVAZmZmZmZmVUB7FK5H4VpVQGZmZmZmZlVAcT0K16OAVUAAAAAAALBVQOF6FK5HoVVAMzMzMzNzVUAAAAAAAEBVQGZmZmZmNlVAAAAAAABAVUDNzMzMzDxVQGZmZmZmZlRAzczMzMzsU0AAAAAAAKBTQGZmZmZmplNAexSuR+F6U0CamZmZmRlTQM3MzMzMTFNAmpmZmZl5U0BI4XoUridTQDMzMzMzM1NA16NwPQrnUkAAAAAAAMBSQJqZmZmZuVJA16NwPQrHUkAAAAAAAGBSQGZmZmZmhlJAAAAAAADAUkAAAAAAAKBSQDMzMzMzo1JAmpmZmZm5UkBmZmZmZuZSQNejcD0Kh1NAAAAAAABgU0CamZmZmZlTQAAAAAAAoFNAUrgehetBU0CF61G4HkVTQM3MzMzMTFNAAAAAAAAQU0AzMzMzM\\u002fNSQGZmZmZmRlJAMzMzMzNTUkAAAAAAAHBSQJqZmZmZeVJAMzMzMzNzUkAAAAAAAABTQAAAAAAAIFNAZmZmZmb2VEAAAAAAACBVQPYoXI\\u002fC5VRAAAAAAAAAVUAAAAAAAEBVQKRwPQrXE1VAzczMzMwMVUDXo3A9CmdVQAAAAAAAoFVAFK5H4XpEVUDNzMzMzCxVQJqZmZmZ+VRA4XoUrkcBVUDXo3A9ChdVQFK4HoXrQVVAMzMzMzMzVUDhehSuR2FVQGZmZmZmplVAj8L1KFy\\u002fVUAAAAAAAEBXQM3MzMzMTFhAmpmZmZl5WEDXo3A9CsdZQI\\u002fC9Shc\\u002f1lAZmZmZmYWWkCamZmZmWlYQAAAAAAAAFhA16NwPQrHWEAzMzMzMyNZQJqZmZmZOVlAMzMzMzNzWEAzMzMzMzNYQLgehetRqFhAcT0K16MAWEAAAAAAAABYQDMzMzMzo1hAzczMzMwMWUBmZmZmZrZYQAAAAAAAMFhAZmZmZmZ2V0BxPQrXo0BXQGZmZmZmBlZAmpmZmZkJV0BSuB6F68FXQMP1KFyPYldAzczMzMxMV0DXo3A9CodXQGZmZmZmpldA9ihcj8LFV0CamZmZmTlXQJqZmZmZSVdAMzMzMzNzV0BmZmZmZpZXQJqZmZmZqVdAcT0K16PQV0CamZmZmalXQAAAAAAAcFdAmpmZmZm5V0AAAAAAAPBXQAAAAAAA8FdAAAAAAADgV0BmZmZmZgZYQAAAAAAAIFhAuB6F61GIWEDXo3A9CndYQJqZmZmZOVhA4XoUrkfhV0CPwvUoXL9XQGZmZmZmxldAcT0K16PgV0AzMzMzMzNYQArXo3A9OlhAzczMzMxsWEDNzMzMzKxXQM3MzMzMXFdAMzMzMzNjV0DNzMzMzBxYQM3MzMzMbFhAcT0K16PgWEDNzMzMzAxZQDMzMzMz81hAMzMzMzOzWEAAAAAAALBYQNejcD0KB1lAAAAAAAAQWUDNzMzMzMxYQM3MzMzM\\u002fFhAAAAAAAAgWUCamZmZmVlZQNejcD0KR1lAAAAAAABwWUCkcD0K18NZQAAAAAAAgFlAPQrXo3DtWUBSuB6F66FaQGZmZmZmhltAAAAAAABgW0CamZmZmflaQJqZmZmZCVtAAAAAAADQWkDNzMzMzMxaQDMzMzMzs1pAZmZmZmbmWkAzMzMzM+NaQDMzMzMz81pAMzMzMzMzW0CPwvUoXM9bQDMzMzMzU1xAj8L1KFz\\u002fXUDD9ShcjxJeQAAAAAAAkF5AcT0K16NwXkCkcD0K1zNfQAAAAAAAEF5AmpmZmZkZXkAzMzMzMzNfQAAAAAAA4F5AzczMzMzMXEDhehSuRwFcQGZmZmZmZlxA16NwPQo3XED2KFyPwkVaQAAAAAAAAFpAcT0K16PgWkDNzMzMzGxbQAAAAAAAQFxAcT0K16NgXkDNzMzMzIxeQM3MzMzM\\u002fF5AAAAAAABAXkAzMzMzM8NeQKRwPQrXc15AAAAAAACAXkCamZmZmbleQJqZmZmZeV9AuB6F61EQYEBxPQrXo4BfQDMzMzMz415AAAAAAACgXkDNzMzMzMxeQAAAAAAAIF9AzczMzMzMX0CamZmZmdlgQPYoXI\\u002fC3WBAXI\\u002fC9Si8YEAAAAAAABBhQJqZmZmZQWBAzczMzMzUYEBmZmZmZtZgQJqZmZmZqWFAzczMzMzEYkAzMzMzM8NiQKRwPQrXa2FAZmZmZmbGYEApXI\\u002fC9QhfQAAAAAAAQF1AmpmZmZlJXECuR+F6FG5aQAAAAAAAIFpAZmZmZmYGXEAAAAAAAKBcQHE9Ctej4FxAAAAAAAAAXUBxPQrXowBfQAAAAAAAEF5AAAAAAAAAXkAAAAAAANBeQI\\u002fC9Shcv15AMzMzMzMTX0AAAAAAANBfQNejcD0Kx19AZmZmZmb2X0AAAAAAABBgQAAAAAAA4F9AAAAAAADAXkBxPQrXoyBeQOF6FK5HoV5AAAAAAADAXkA9CtejcK1eQFK4HoXrgV5A16NwPQpHXkDNzMzMzMxdQHE9CtejUF1AzczMzMwsXkAK16NwPUpeQD0K16NwjV5AZmZmZmZ2XkDNzMzMzExeQAAAAAAAwF1AAAAAAACQXUBxPQrXo7BdQOF6FK5HQV9AzczMzMycX0AAAAAAAMBfQJqZmZmZ2V9AKVyPwvWgYEAAAAAAAGBgQOF6FK5HOWBAzczMzMxkYEBmZmZmZoZgQAAAAAAAsGBA4XoUrke5YEAAAAAAAKhgQOxRuB6F62BAPQrXo3C9YEC4HoXrUaBgQFyPwvUodGBAuB6F61GAYEAzMzMzMwthQJqZmZmZyWBAAAAAAACgYEDhehSuR5lgQAAAAAAAsGBAZmZmZmaWYEAAAAAAANhgQGZmZmZmVmFAH4XrUbg2YUAAAAAAACBhQM3MzMzM9GBAmpmZmZnZYEAAAAAAANhgQLgehetR8GBAmpmZmZlZYUBmZmZmZhZhQAAAAAAAcGBAAAAAAABgYEBmZmZmZnZgQM3MzMzMfGBAMzMzMzMbYEDNzMzMzJxfQAAAAAAAIF9A16NwPQoXXkBxPQrXoxBeQKRwPQrXk11AAAAAAACgXUCamZmZmVleQAAAAAAAUGBAzczMzMx0YEDNzMzMzJRgQLgehetRYGBAuB6F61EYYEDhehSuR9FfQAAAAAAA4GBAzczMzMzcYEAAAAAAAMhgQAAAAAAA6GBAAAAAAAAAYUAzMzMzM9NgQAAAAAAAkGBAAAAAAACQYEDNzMzMzLxgQGZmZmZmfmBAAAAAAACQYECamZmZmSFgQFyPwvUohGBAZmZmZmaWYECamZmZmalgQAAAAAAAIGBASOF6FK4\\u002fYECamZmZmWlgQGZmZmZmVmBA4XoUrkcJYEDhehSuRyFgQHE9CtejUGBAmpmZmZkhYECamZmZmQFgQLgehetREGBAMzMzMzMbYECamZmZmSFgQDMzMzMzG2BAAAAAAAAgYEBmZmZmZuZgQDMzMzMzo2BAKVyPwvWYYEAAAAAAAIBgQDMzMzMzY2BAMzMzMzNzYEC4HoXrUXBgQAAAAAAAoGBAuB6F61HAYECamZmZmclgQAAAAAAAwGBAhetRuB6dYEAAAAAAAJBgQD0K16NwfWBAMzMzMzOTYECF61G4HoVgQAAAAAAAsGBAMzMzMzPTYEBmZmZmZg5hQAAAAAAAEGFAAAAAAAAAYUAAAAAAAOBgQDMzMzMz02BAAAAAAAAgYUCF61G4Hm1hQGZmZmZmjmFAAAAAAACYYUCamZmZmcFhQJqZmZmZiWFAZmZmZmYmYUCamZmZmRlhQFK4HoXrYWFAZmZmZmbeYUCamZmZmdlhQAAAAAAA0GFAH4XrUbjWYUAfhetRuBZiQM3MzMzMfGJAcT0K16OgYkAzMzMzM1NjQAAAAAAAEGVAZmZmZmYeZUAAAAAAAABlQB+F61G4BmVAmpmZmZnZZEAAAAAAAIBkQAAAAAAA4GRAuB6F61HwZEAAAAAAAJBkQAAAAAAAsGRAAAAAAADQZEBSuB6F68FkQGZmZmZmJmVAAAAAAACgZUAAAAAAAMBlQBSuR+F6nGVAAAAAAACQZUApXI\\u002fC9VBlQOxRuB6FQ2VAuB6F61EQZkDNzMzMzIRmQM3MzMzMPGZAcT0K16NQZkAAAAAAALBmQJqZmZmZ+WdAZmZmZmYmaEAfhetRuJ5nQAAAAAAA4GdAmpmZmZkpaEBmZmZmZu5nQDMzMzMzQ2hAAAAAAAAgaEBmZmZmZjZoQDMzMzMzM2hAAAAAAAAAaEAAAAAAADhmQAAAAAAAAGdAmpmZmZmZZ0AAAAAAANhnQA==\"},\"open\":{\"dtype\":\"f8\",\"bdata\":\"KVyPwvU4VUCF61G4HvVUQM3MzMzM7FNAAAAAAAAAVEBmZmZmZlZUQI\\u002fC9ShcP1VA16NwPQo3VUAAAAAAAKBVQAAAAAAAgFVAzczMzMwsVUAAAAAAAABVQGZmZmZmZlVAcT0K16PgVECamZmZmTlVQJqZmZmZWVVAAAAAAAAwVUCuR+F6FN5VQClcj8L1uFVA9ihcj8KlVUAAAAAAAIBVQAAAAAAAYFVAMzMzMzNjVUDNzMzMzAxVQM3MzMzMnFVAZmZmZmbWVUAzMzMzMxNWQK5H4XoU\\u002flVAmpmZmZnZVUBSuB6F6+FVQI\\u002fC9Shc\\u002f1VAZmZmZmbmVUAAAAAAABBWQAAAAAAAQFZAAAAAAABAVkAzMzMzMzNWQKRwPQrXU1ZAhetRuB4FVkAAAAAAABBWQGZmZmZmFlZA4XoUrkcBVkDNzMzMzOxVQGZmZmZmxlVAAAAAAADAVUBSuB6F68FVQLgehetRmFdAAAAAAADAVkApXI\\u002fC9VhXQAAAAAAAoFdAAAAAAABAV0CamZmZmZlWQAAAAAAAYFZAmpmZmZmJVkCamZmZmVlWQAAAAAAAYFZAj8L1KFz\\u002fVUCPwvUoXL9VQD0K16NwrVVAAAAAAABgVUApXI\\u002fC9fhUQKRwPQrX81RAmpmZmZm5VEDNzMzMzNxUQAAAAAAAwFRAAAAAAAAgVUDNzMzMzBxVQJqZmZmZuVRAAAAAAADAVECPwvUoXD9UQDMzMzMzU1RAzczMzMwMVEAAAAAAAABUQDMzMzMzk1NAAAAAAACgVEAfhetRuP5UQI\\u002fC9Shcz1RAmpmZmZmpVECamZmZmZlUQNejcD0Kh1RArkfhehT+VUDNzMzMzIxVQAAAAAAAAFVAj8L1KFwfVUAAAAAAAKBVQD0K16NwjVVAw\\u002fUoXI9yVUBSuB6F6yFVQM3MzMzMHFVACtejcD26VED2KFyPwvVTQHE9Ctej4FNAmpmZmZnJU0BmZmZmZuZTQGZmZmZmRlRAMzMzMzPjU0BmZmZmZsZTQJqZmZmZuVNAAAAAAACgU0DNzMzMzIxTQAAAAAAAQFNAAAAAAAAwU0CF61G4HuVSQI\\u002fC9ShcH1NAAAAAAADgU0AzMzMzM1NUQDMzMzMzI1RAMzMzMzPzU0AAAAAAAIBTQAAAAAAAQFNAZmZmZmaWU0DNzMzMzJxTQDMzMzMzk1NAmpmZmZnJU0AzMzMzMzNUQAAAAAAAYFNA7FG4HoWrU0AzMzMzMxNUQGZmZmZmZlRAAAAAAADAVEBmZmZmZpZUQAAAAAAAAFVACtejcD26VEBmZmZmZsZUQGZmZmZm5lNAuB6F61H4U0AAAAAAAMBTQBSuR+F6ZFNAexSuR+GqU0AAAAAAAHBTQGZmZmZmZlNAMzMzMzNTU0B7FK5H4UpTQAAAAAAAAFRAAAAAAABAVUD2KFyPwgVVQGZmZmZmdlRAj8L1KFw\\u002fVEApXI\\u002fC9ZhTQJqZmZmZ+VNAzczMzMz8U0AAAAAAAOBTQArXo3A9qlNAmpmZmZkZVEB7FK5H4QpUQM3MzMzMXFRAAAAAAAAgVEApXI\\u002fC9QhUQLgehetROFRAMzMzMzNzVEBcj8L1KIxUQBSuR+F6FFVAAAAAAABAVUCPwvUoXD9VQGZmZmZmBlZAzczMzMzsVUBmZmZmZqZVQJqZmZmZiVVAcT0K16NAVUBmZmZmZhZVQJqZmZmZ+VRAAAAAAAAgVUCamZmZmflUQAAAAAAAAFVAZmZmZma2VEAzMzMzM\\u002fNUQAAAAAAAQFRAAAAAAADAVEAAAAAAAJBUQI\\u002fC9ShcT1RASOF6FK4HVEAzMzMzMzNUQJqZmZmZ+VNAMzMzMzMjVEAzMzMzM\\u002fNTQAAAAAAA4FNAzczMzMycU0AAAAAAAABUQDMzMzMzs1NAAAAAAACgU0AAAAAAAIBTQArXo3A9+lJAzczMzMzcUUAAAAAAAMBSQAAAAAAAYFJAmpmZmZmZUkBcj8L1KCxTQAAAAAAAAFNAw\\u002fUoXI\\u002fyUkBcj8L1KOxSQKRwPQrXw1JAAAAAAADAUkAAAAAAAKBSQNejcD0K51JAAAAAAADgUkBxPQrXoyBTQAAAAAAAMFNAAAAAAABAU0BmZmZmZqZSQJqZmZmZeVJAzczMzMwcUkAUrkfhevRRQAAAAAAAUFJA9ihcj8IlUkDNzMzMzHxSQEjhehSuR1JAcT0K16MwUkCamZmZmflRQIXrUbge1VFAmpmZmZm5UUBmZmZmZpZRQHE9CtejsFFAKVyPwvX4UUAAAAAAAKBRQDMzMzMzs1FAAAAAAADQUUAAAAAAAPBRQJqZmZmZmVJAAAAAAABAU0CamZmZmRlTQAAAAAAAQFNAj8L1KFwfU0AAAAAAALBSQM3MzMzMnFJAMzMzMzOzUkAzMzMzM5NSQAAAAAAAgFJAAAAAAACwUkCuR+F6FF5SQArXo3A9GlJAZmZmZmY2UkCPwvUoXD9SQNejcD0KF1JAcT0K16MAUkCamZmZmflRQAAAAAAAAFJAzczMzMzcUUBmZmZmZtZRQJqZmZmZCVJAZmZmZmYGUkCkcD0K19NRQAAAAAAAQFJASOF6FK4XUkC4HoXrURhSQI\\u002fC9Shc\\u002f1FAZmZmZmZmUUAAAAAAAKBRQAAAAAAAAFJAzczMzMxsUkApXI\\u002fC9ThTQLgehetRiFJAZmZmZmb2UkA9CtejcB1TQGZmZmZmxlNAAAAAAAAgVECF61G4HgVUQAAAAAAAwFNAAAAAAAAAVEDD9Shcj5JUQAAAAAAAAFZAzczMzMxcVUCPwvUoXP9VQJqZmZmZeVVArkfhehR+VEBI4XoUrudTQAAAAAAAoFJA9ihcj8IlU0DNzMzMzOxTQAAAAAAAAFRArkfhehRuVEAAAAAAAIBVQArXo3A9mlVAzczMzMycVUAzMzMzM9NVQJqZmZmZmVVAAAAAAAAAVkAfhetRuK5VQClcj8L12FVAuB6F61EYV0AzMzMzM9NYQAAAAAAAgFhAAAAAAACAWUAAAAAAAIBZQAAAAAAAAFlAj8L1KFz\\u002fWECPwvUoXF9XQM3MzMzMDFhApHA9CtdDV0C4HoXrUZhXQHsUrkfhqlZAj8L1KFzPVkCamZmZmZlWQGZmZmZmNlZAzczMzMzMVUBmZmZmZmZVQHE9CtejgFRAZmZmZmYGVEDXo3A9CjdUQPYoXI\\u002fCtVVAzczMzMzMVUCPwvUoXD9VQDMzMzMzs1VA9ihcj8LlVUAAAAAAAFBWQDMzMzMzM1dA9ihcj8LlVkAzMzMzMwNXQJqZmZmZmVZAcT0K16NgVkAAAAAAAMBVQM3MzMzM3FVApHA9CtdzVUCF61G4HkVVQKRwPQrXM1VAKVyPwvU4VUCPwvUoXB9VQAAAAAAAAFVArkfhehQOVUAzMzMzM9NUQAAAAAAAoFRAzczMzMysVEA9CtejcO1VQAAAAAAAIFVAw\\u002fUoXI8SVUBmZmZmZsZUQAAAAAAAoFVAj8L1KFyfVUAzMzMzM5NVQPYoXI\\u002fChVVAzczMzMysVUAK16NwPdpVQJqZmZmZ2VVAmpmZmZnZVUDXo3A9CodVQJqZmZmZSVVAcT0K16OQVUDsUbgehUtVQMP1KFyPMlVAAAAAAACQVEAAAAAAAABUQAAAAAAAwFNAmpmZmZnZU0DNzMzMzIxTQDMzMzMzU1NAzczMzMwMVEBmZmZmZqZTQDMzMzMzM1NAAAAAAABAU0AfhetRuP5SQGZmZmZm5lJAzczMzMzsUkBmZmZmZuZSQJqZmZmZmVJAAAAAAADAUkCamZmZmflSQHE9CtejwFJA16NwPQrXUkCamZmZmRlTQJqZmZmZuVNArkfhehSeU0AAAAAAAMBTQFK4HoXrsVNAZmZmZmb2U0CPwvUoXI9TQGZmZmZmZlNAUrgehetBU0AAAAAAACBTQAAAAAAAIFNAAAAAAACAUkAAAAAAAOBSQLgehetRmFJAAAAAAADAUkAAAAAAAABTQEjhehSuR1NAZmZmZmb2VEAAAAAAAOBVQJqZmZmZeVVAAAAAAAAAVUDNzMzMzIxVQGZmZmZmZlVApHA9CtdDVUAAAAAAAKBVQB+F61G4\\u002flVAmpmZmZm5VUAAAAAAAGBVQI\\u002fC9ShcT1VAmpmZmZkpVUC4HoXrUThVQJqZmZmZmVVAAAAAAACAVUAAAAAAAHBVQAAAAAAA4FVAj8L1KFy\\u002fVUAAAAAAAEBXQAAAAAAAQFlAMzMzMzODWEDNzMzMzExaQAAAAAAAAFpAAAAAAABAW0AAAAAAAABaQAAAAAAAQFhA4XoUrkfBWkAAAAAAAGBZQAAAAAAAAFpAAAAAAABAWUBmZmZmZqZYQHE9CtejAFlAAAAAAACAWEAAAAAAAABYQAAAAAAAIFlAAAAAAAAgWUCPwvUoXB9ZQHE9CtejwFhAMzMzMzMTWECkcD0K1+NXQAAAAAAAoFdAAAAAAABgV0DNzMzMzMxXQDMzMzMz81dAj8L1KFyfV0CamZmZmclXQAAAAAAA4FdAmpmZmZkZWECPwvUoXL9XQJqZmZmZSVdAmpmZmZl5V0CamZmZmflXQI\\u002fC9Shcv1dAzczMzMzsV0DNzMzMzAxYQAAAAAAAwFdAXI\\u002fC9Sj8V0CamZmZmRlYQMP1KFyPAlhAXI\\u002fC9SgMWEAAAAAAAKBYQAAAAAAAIFhAH4XrUbjuWEAAAAAAAIBYQAAAAAAAgFhApHA9CtdDWECamZmZmclXQHE9Ctej4FdAcT0K16PgV0CamZmZmUlYQPYoXI\\u002fCRVhAmpmZmZnZWEAAAAAAAEBYQHE9CtejwFdAMzMzMzNjV0ApXI\\u002fC9XhYQJqZmZmZeVhAZmZmZmamWUBxPQrXo2BZQDMzMzMzU1lAmpmZmZkZWUCPwvUoXN9YQHE9CtejgFlAAAAAAAAwWUCPwvUoXD9ZQGZmZmZmJllAZmZmZmZmWUDhehSuR4FZQDMzMzMzY1lAAAAAAACAWUBxPQrXowBaQBSuR+F61FlAAAAAAAAQWkAAAAAAAABbQJqZmZmZmVxAAAAAAADAW0CPwvUoXH9bQAAAAAAAIFtAj8L1KFy\\u002fW0DNzMzMzCxbQOF6FK5HAVtA4XoUrkdBW0AK16NwPTpbQJqZmZmZOVtA16NwPQpHW0CPwvUoXM9bQJqZmZmZ+VxAH4XrUbh+XkCPwvUoXH9eQAAAAAAAAF9AAAAAAAAgX0AAAAAAAFBfQGZmZmZm9l9AAAAAAADAXkCamZmZmdlfQAAAAAAA8F9AAAAAAAAAX0AzMzMzM4NdQM3MzMzMzFxAmpmZmZk5XUAAAAAAAEBcQJqZmZmZOVpAAAAAAAAQW0DD9Shcj6JbQAAAAAAAQFxAAAAAAAAAX0AAAAAAAABfQAAAAAAAAGBAZmZmZmZmX0A9CtejcE1fQFyPwvUoHF9AAAAAAACwXkAAAAAAAOBeQAAAAAAAEGBAMzMzMzMTYECPwvUoXCdgQAAAAAAAQF9AmpmZmZl5X0CamZmZmTlfQAAAAAAAIF9ArkfhehTeYEAAAAAAAABhQFyPwvUo\\u002fGFAuB6F61HgYEAAAAAAAJBhQNejcD0KP2FAzczMzMz8YEAUrkfhevxgQDMzMzMzI2JAzczMzMzEYkAAAAAAAIBjQAAAAAAAQGJAAAAAAACAYUApXI\\u002fC9QhfQOF6FK5HYV9AAAAAAADgXkAzMzMzMzNcQAAAAAAAIFpAcT0K16MgXUCPwvUoXD9dQAAAAAAAYF1AAAAAAAAAXUApXI\\u002fC9XhfQFyPwvUoXF9AAAAAAAAAXkAAAAAAANBeQPYoXI\\u002fCVV9AAAAAAABAX0BI4XoUrq9gQNejcD0Kx19AAAAAAAAAYEAAAAAAAEBgQAAAAAAAQGBAmpmZmZkBYECamZmZmSlfQOF6FK5HoV5AzczMzMwEYEAzMzMzMwNfQAAAAAAAwF5ASOF6FK7HXkBSuB6F64FeQDMzMzMz811AmpmZmZl5XkBmZmZmZmZeQD0K16NwzV5AMzMzMzOzXkDhehSuR8FeQJqZmZmZWV5AAAAAAAAAXkAAAAAAAOBdQGZmZmZmZl9AzczMzMycX0AAAAAAABBgQEjhehSuP2BAmpmZmZnBYEDXo3A9Cp9gQJqZmZmZeWBAUrgeheuRYEAAAAAAAMBgQJqZmZmZ+WBAAAAAAADAYEAAAAAAAOBgQDMzMzMzK2FAzczMzMw8YUDsUbgehcNgQKRwPQrXs2BAAAAAAACoYEAzMzMzM2NhQM3MzMzMDGFAAAAAAACgYEAfhetRuKZgQDMzMzMzw2BASOF6FK6\\u002fYEAzMzMzM\\u002fNgQAAAAAAAgGFAmpmZmZl5YUAAAAAAAEBhQAAAAAAASGFAcT0K16MAYUAAAAAAAOBgQHE9CtejAGFAAAAAAACgYUAAAAAAAHBhQB+F61G4HmFAAAAAAACwYECamZmZmZlgQEjhehSuv2BAcT0K16OQYEAAAAAAADBgQClcj8L1qF9Aj8L1KFw\\u002fX0BSuB6F6\\u002fFeQAAAAAAAwF5AAAAAAACgXUAAAAAAAIBeQEjhehSuf2BAZmZmZmZ2YECamZmZmflgQAAAAAAAwGBAzczMzMx8YEAAAAAAACBgQEjhehSu\\u002f2BAAAAAAAAgYUAAAAAAAOBgQLgehetRAGFAAAAAAAAAYUDNzMzMzCxhQAAAAAAA4GBAmpmZmZm5YEAAAAAAAMhgQLgehetR0GBAAAAAAACgYEAAAAAAAKBgQAAAAAAAoGBAAAAAAACoYEAAAAAAAChhQAAAAAAAuGBAAAAAAABAYEBmZmZmZoZgQAAAAAAAgGBAmpmZmZlpYEDhehSuRyFgQAAAAAAAsGBA4XoUrkd5YEAfhetRuD5gQB+F61G4JmBASOF6FK5vYEAAAAAAAGBgQAAAAAAAQGBAZmZmZmY2YEDNzMzMzIxhQAAAAAAA4GBA4XoUrkexYEDNzMzMzMxgQLgehetRkGBAAAAAAACYYEAAAAAAAIhgQAAAAAAAwGBAMzMzMzPTYEBxPQrXo+BgQBSuR+F6\\u002fGBAuB6F61HwYEBSuB6F67FgQClcj8L1kGBAmpmZmZmhYEAAAAAAAKhgQAAAAAAAsGBAMzMzMzPTYECuR+F6FDZhQAAAAAAAKGFAmpmZmZkpYUCuR+F6FA5hQAAAAAAAAGFAUrgeheshYUDsUbgehYNhQAAAAAAAwGFAzczMzMysYUBmZmZmZt5hQEjhehSuP2JAj8L1KFy\\u002fYUCuR+F6FG5hQJqZmZmZeWFAAAAAAAAwYkAAAAAAAPhhQB+F61G4DmJAmpmZmZn5YUBmZmZmZiZiQGZmZmZmjmJAAAAAAADAYkBI4XoUrl9jQDMzMzMzI2VAAAAAAACAZUAAAAAAADBlQAAAAAAAYGVASOF6FK4\\u002fZUAAAAAAAOBkQAAAAAAA4GRAAAAAAABAZUDhehSuRxFlQAAAAAAAsGRAAAAAAADQZEDNzMzMzOxkQI\\u002fC9ShcL2VAMzMzMzMjZkAAAAAAABBmQAAAAAAA4GVAKVyPwvUIZkCamZmZmcFlQEjhehSuf2VASOF6FK6vZkBmZmZmZo5mQDMzMzMzw2ZAcT0K16NQZkCamZmZmeFmQJqZmZmZ+WdAAAAAAADwaECuR+F6FFZoQAAAAAAA4GdAZmZmZmZWaEAAAAAAAEBoQAAAAAAAUGhAj8L1KFx\\u002faEBI4XoUrl9oQB+F61G43mhAuB6F61FAaEAAAAAAAABoQAAAAAAAwGdAFK5H4XqcZ0AAAAAAAEBoQA==\"},\"x\":[\"2021-12-01T00:00:00.000000000\",\"2021-12-02T00:00:00.000000000\",\"2021-12-03T00:00:00.000000000\",\"2021-12-06T00:00:00.000000000\",\"2021-12-07T00:00:00.000000000\",\"2021-12-08T00:00:00.000000000\",\"2021-12-09T00:00:00.000000000\",\"2021-12-10T00:00:00.000000000\",\"2021-12-13T00:00:00.000000000\",\"2021-12-14T00:00:00.000000000\",\"2021-12-15T00:00:00.000000000\",\"2021-12-16T00:00:00.000000000\",\"2021-12-17T00:00:00.000000000\",\"2021-12-20T00:00:00.000000000\",\"2021-12-21T00:00:00.000000000\",\"2021-12-22T00:00:00.000000000\",\"2021-12-23T00:00:00.000000000\",\"2021-12-24T00:00:00.000000000\",\"2021-12-27T00:00:00.000000000\",\"2021-12-28T00:00:00.000000000\",\"2021-12-29T00:00:00.000000000\",\"2021-12-30T00:00:00.000000000\",\"2021-12-31T00:00:00.000000000\",\"2022-01-03T00:00:00.000000000\",\"2022-01-04T00:00:00.000000000\",\"2022-01-05T00:00:00.000000000\",\"2022-01-06T00:00:00.000000000\",\"2022-01-07T00:00:00.000000000\",\"2022-01-10T00:00:00.000000000\",\"2022-01-11T00:00:00.000000000\",\"2022-01-12T00:00:00.000000000\",\"2022-01-13T00:00:00.000000000\",\"2022-01-14T00:00:00.000000000\",\"2022-01-17T00:00:00.000000000\",\"2022-01-18T00:00:00.000000000\",\"2022-01-19T00:00:00.000000000\",\"2022-01-20T00:00:00.000000000\",\"2022-01-21T00:00:00.000000000\",\"2022-01-24T00:00:00.000000000\",\"2022-01-25T00:00:00.000000000\",\"2022-01-26T00:00:00.000000000\",\"2022-01-27T00:00:00.000000000\",\"2022-01-28T00:00:00.000000000\",\"2022-01-31T00:00:00.000000000\",\"2022-03-01T00:00:00.000000000\",\"2022-03-02T00:00:00.000000000\",\"2022-03-03T00:00:00.000000000\",\"2022-03-04T00:00:00.000000000\",\"2022-03-07T00:00:00.000000000\",\"2022-03-08T00:00:00.000000000\",\"2022-03-09T00:00:00.000000000\",\"2022-03-10T00:00:00.000000000\",\"2022-03-11T00:00:00.000000000\",\"2022-03-14T00:00:00.000000000\",\"2022-03-15T00:00:00.000000000\",\"2022-03-16T00:00:00.000000000\",\"2022-03-17T00:00:00.000000000\",\"2022-03-18T00:00:00.000000000\",\"2022-03-21T00:00:00.000000000\",\"2022-03-22T00:00:00.000000000\",\"2022-03-24T00:00:00.000000000\",\"2022-03-25T00:00:00.000000000\",\"2022-03-28T00:00:00.000000000\",\"2022-03-29T00:00:00.000000000\",\"2022-03-30T00:00:00.000000000\",\"2022-03-31T00:00:00.000000000\",\"2022-04-01T00:00:00.000000000\",\"2022-04-04T00:00:00.000000000\",\"2022-04-05T00:00:00.000000000\",\"2022-04-06T00:00:00.000000000\",\"2022-04-07T00:00:00.000000000\",\"2022-04-08T00:00:00.000000000\",\"2022-04-11T00:00:00.000000000\",\"2022-04-12T00:00:00.000000000\",\"2022-04-13T00:00:00.000000000\",\"2022-04-14T00:00:00.000000000\",\"2022-04-15T00:00:00.000000000\",\"2022-04-18T00:00:00.000000000\",\"2022-04-19T00:00:00.000000000\",\"2022-04-20T00:00:00.000000000\",\"2022-04-21T00:00:00.000000000\",\"2022-04-22T00:00:00.000000000\",\"2022-04-25T00:00:00.000000000\",\"2022-04-26T00:00:00.000000000\",\"2022-04-27T00:00:00.000000000\",\"2022-04-28T00:00:00.000000000\",\"2022-05-06T00:00:00.000000000\",\"2022-05-09T00:00:00.000000000\",\"2022-05-10T00:00:00.000000000\",\"2022-05-11T00:00:00.000000000\",\"2022-05-12T00:00:00.000000000\",\"2022-05-13T00:00:00.000000000\",\"2022-05-16T00:00:00.000000000\",\"2022-05-17T00:00:00.000000000\",\"2022-05-18T00:00:00.000000000\",\"2022-05-19T00:00:00.000000000\",\"2022-05-20T00:00:00.000000000\",\"2022-05-23T00:00:00.000000000\",\"2022-05-24T00:00:00.000000000\",\"2022-05-25T00:00:00.000000000\",\"2022-05-26T00:00:00.000000000\",\"2022-05-27T00:00:00.000000000\",\"2022-05-30T00:00:00.000000000\",\"2022-05-31T00:00:00.000000000\",\"2022-06-01T00:00:00.000000000\",\"2022-06-02T00:00:00.000000000\",\"2022-06-03T00:00:00.000000000\",\"2022-06-06T00:00:00.000000000\",\"2022-06-07T00:00:00.000000000\",\"2022-06-08T00:00:00.000000000\",\"2022-06-09T00:00:00.000000000\",\"2022-06-10T00:00:00.000000000\",\"2022-06-13T00:00:00.000000000\",\"2022-06-14T00:00:00.000000000\",\"2022-06-15T00:00:00.000000000\",\"2022-06-16T00:00:00.000000000\",\"2022-06-17T00:00:00.000000000\",\"2022-06-20T00:00:00.000000000\",\"2022-06-21T00:00:00.000000000\",\"2022-06-22T00:00:00.000000000\",\"2022-06-23T00:00:00.000000000\",\"2022-06-24T00:00:00.000000000\",\"2022-06-27T00:00:00.000000000\",\"2022-06-28T00:00:00.000000000\",\"2022-06-29T00:00:00.000000000\",\"2022-06-30T00:00:00.000000000\",\"2022-07-01T00:00:00.000000000\",\"2022-07-04T00:00:00.000000000\",\"2022-07-05T00:00:00.000000000\",\"2022-07-06T00:00:00.000000000\",\"2022-07-07T00:00:00.000000000\",\"2022-07-13T00:00:00.000000000\",\"2022-07-14T00:00:00.000000000\",\"2022-07-15T00:00:00.000000000\",\"2022-07-18T00:00:00.000000000\",\"2022-07-19T00:00:00.000000000\",\"2022-07-20T00:00:00.000000000\",\"2022-07-21T00:00:00.000000000\",\"2022-07-22T00:00:00.000000000\",\"2022-07-25T00:00:00.000000000\",\"2022-07-26T00:00:00.000000000\",\"2022-07-27T00:00:00.000000000\",\"2022-07-28T00:00:00.000000000\",\"2022-07-29T00:00:00.000000000\",\"2022-08-01T00:00:00.000000000\",\"2022-08-02T00:00:00.000000000\",\"2022-08-03T00:00:00.000000000\",\"2022-08-04T00:00:00.000000000\",\"2022-08-05T00:00:00.000000000\",\"2022-08-10T00:00:00.000000000\",\"2022-08-11T00:00:00.000000000\",\"2022-08-12T00:00:00.000000000\",\"2022-08-15T00:00:00.000000000\",\"2022-08-16T00:00:00.000000000\",\"2022-08-17T00:00:00.000000000\",\"2022-08-18T00:00:00.000000000\",\"2022-08-19T00:00:00.000000000\",\"2022-08-22T00:00:00.000000000\",\"2022-08-23T00:00:00.000000000\",\"2022-08-24T00:00:00.000000000\",\"2022-08-25T00:00:00.000000000\",\"2022-08-26T00:00:00.000000000\",\"2022-08-29T00:00:00.000000000\",\"2022-08-30T00:00:00.000000000\",\"2022-08-31T00:00:00.000000000\",\"2022-09-01T00:00:00.000000000\",\"2022-09-02T00:00:00.000000000\",\"2022-09-05T00:00:00.000000000\",\"2022-09-06T00:00:00.000000000\",\"2022-09-07T00:00:00.000000000\",\"2022-09-08T00:00:00.000000000\",\"2022-09-09T00:00:00.000000000\",\"2022-09-12T00:00:00.000000000\",\"2022-09-13T00:00:00.000000000\",\"2022-09-14T00:00:00.000000000\",\"2022-09-15T00:00:00.000000000\",\"2022-09-16T00:00:00.000000000\",\"2022-09-19T00:00:00.000000000\",\"2022-09-20T00:00:00.000000000\",\"2022-09-21T00:00:00.000000000\",\"2022-09-22T00:00:00.000000000\",\"2022-09-23T00:00:00.000000000\",\"2022-09-26T00:00:00.000000000\",\"2022-09-27T00:00:00.000000000\",\"2022-09-28T00:00:00.000000000\",\"2022-09-29T00:00:00.000000000\",\"2022-09-30T00:00:00.000000000\",\"2022-10-03T00:00:00.000000000\",\"2022-10-04T00:00:00.000000000\",\"2022-10-05T00:00:00.000000000\",\"2022-10-06T00:00:00.000000000\",\"2022-10-07T00:00:00.000000000\",\"2022-10-10T00:00:00.000000000\",\"2022-10-11T00:00:00.000000000\",\"2022-10-12T00:00:00.000000000\",\"2022-10-13T00:00:00.000000000\",\"2022-10-14T00:00:00.000000000\",\"2022-10-17T00:00:00.000000000\",\"2022-10-18T00:00:00.000000000\",\"2022-10-19T00:00:00.000000000\",\"2022-10-20T00:00:00.000000000\",\"2022-10-21T00:00:00.000000000\",\"2022-10-24T00:00:00.000000000\",\"2022-10-25T00:00:00.000000000\",\"2022-10-26T00:00:00.000000000\",\"2022-10-27T00:00:00.000000000\",\"2022-10-28T00:00:00.000000000\",\"2022-10-31T00:00:00.000000000\",\"2022-11-01T00:00:00.000000000\",\"2022-11-02T00:00:00.000000000\",\"2022-11-03T00:00:00.000000000\",\"2022-11-04T00:00:00.000000000\",\"2022-11-07T00:00:00.000000000\",\"2022-11-08T00:00:00.000000000\",\"2022-11-10T00:00:00.000000000\",\"2022-11-11T00:00:00.000000000\",\"2022-11-14T00:00:00.000000000\",\"2022-11-15T00:00:00.000000000\",\"2022-11-16T00:00:00.000000000\",\"2022-11-17T00:00:00.000000000\",\"2022-11-18T00:00:00.000000000\",\"2022-11-21T00:00:00.000000000\",\"2022-11-22T00:00:00.000000000\",\"2022-11-23T00:00:00.000000000\",\"2022-11-24T00:00:00.000000000\",\"2022-11-25T00:00:00.000000000\",\"2022-11-28T00:00:00.000000000\",\"2022-11-29T00:00:00.000000000\",\"2022-11-30T00:00:00.000000000\",\"2022-12-01T00:00:00.000000000\",\"2022-12-02T00:00:00.000000000\",\"2022-12-05T00:00:00.000000000\",\"2022-12-06T00:00:00.000000000\",\"2022-12-07T00:00:00.000000000\",\"2022-12-08T00:00:00.000000000\",\"2022-12-09T00:00:00.000000000\",\"2022-12-12T00:00:00.000000000\",\"2022-12-13T00:00:00.000000000\",\"2022-12-14T00:00:00.000000000\",\"2022-12-15T00:00:00.000000000\",\"2022-12-16T00:00:00.000000000\",\"2022-12-19T00:00:00.000000000\",\"2022-12-20T00:00:00.000000000\",\"2022-12-21T00:00:00.000000000\",\"2022-12-22T00:00:00.000000000\",\"2022-12-23T00:00:00.000000000\",\"2022-12-26T00:00:00.000000000\",\"2022-12-27T00:00:00.000000000\",\"2022-12-28T00:00:00.000000000\",\"2022-12-29T00:00:00.000000000\",\"2022-12-30T00:00:00.000000000\",\"2023-01-02T00:00:00.000000000\",\"2023-01-03T00:00:00.000000000\",\"2023-01-04T00:00:00.000000000\",\"2023-01-05T00:00:00.000000000\",\"2023-01-06T00:00:00.000000000\",\"2023-01-09T00:00:00.000000000\",\"2023-01-10T00:00:00.000000000\",\"2023-01-11T00:00:00.000000000\",\"2023-01-12T00:00:00.000000000\",\"2023-01-13T00:00:00.000000000\",\"2023-01-16T00:00:00.000000000\",\"2023-01-17T00:00:00.000000000\",\"2023-01-18T00:00:00.000000000\",\"2023-01-19T00:00:00.000000000\",\"2023-01-20T00:00:00.000000000\",\"2023-01-23T00:00:00.000000000\",\"2023-01-24T00:00:00.000000000\",\"2023-01-25T00:00:00.000000000\",\"2023-01-26T00:00:00.000000000\",\"2023-01-27T00:00:00.000000000\",\"2023-01-30T00:00:00.000000000\",\"2023-01-31T00:00:00.000000000\",\"2023-02-01T00:00:00.000000000\",\"2023-02-02T00:00:00.000000000\",\"2023-02-03T00:00:00.000000000\",\"2023-02-06T00:00:00.000000000\",\"2023-02-07T00:00:00.000000000\",\"2023-02-08T00:00:00.000000000\",\"2023-02-09T00:00:00.000000000\",\"2023-02-10T00:00:00.000000000\",\"2023-02-13T00:00:00.000000000\",\"2023-02-14T00:00:00.000000000\",\"2023-02-15T00:00:00.000000000\",\"2023-02-16T00:00:00.000000000\",\"2023-02-17T00:00:00.000000000\",\"2023-02-20T00:00:00.000000000\",\"2023-02-21T00:00:00.000000000\",\"2023-02-22T00:00:00.000000000\",\"2023-02-23T00:00:00.000000000\",\"2023-02-24T00:00:00.000000000\",\"2023-02-27T00:00:00.000000000\",\"2023-02-28T00:00:00.000000000\",\"2023-03-01T00:00:00.000000000\",\"2023-03-02T00:00:00.000000000\",\"2023-03-03T00:00:00.000000000\",\"2023-03-06T00:00:00.000000000\",\"2023-03-07T00:00:00.000000000\",\"2023-03-08T00:00:00.000000000\",\"2023-03-09T00:00:00.000000000\",\"2023-03-10T00:00:00.000000000\",\"2023-03-13T00:00:00.000000000\",\"2023-03-14T00:00:00.000000000\",\"2023-03-15T00:00:00.000000000\",\"2023-03-16T00:00:00.000000000\",\"2023-03-17T00:00:00.000000000\",\"2023-03-20T00:00:00.000000000\",\"2023-03-21T00:00:00.000000000\",\"2023-03-22T00:00:00.000000000\",\"2023-03-24T00:00:00.000000000\",\"2023-03-27T00:00:00.000000000\",\"2023-03-28T00:00:00.000000000\",\"2023-03-29T00:00:00.000000000\",\"2023-03-30T00:00:00.000000000\",\"2023-03-31T00:00:00.000000000\",\"2023-04-03T00:00:00.000000000\",\"2023-04-04T00:00:00.000000000\",\"2023-04-05T00:00:00.000000000\",\"2023-04-06T00:00:00.000000000\",\"2023-04-07T00:00:00.000000000\",\"2023-04-10T00:00:00.000000000\",\"2023-04-11T00:00:00.000000000\",\"2023-04-12T00:00:00.000000000\",\"2023-04-13T00:00:00.000000000\",\"2023-04-17T00:00:00.000000000\",\"2023-04-18T00:00:00.000000000\",\"2023-04-19T00:00:00.000000000\",\"2023-04-20T00:00:00.000000000\",\"2023-04-26T00:00:00.000000000\",\"2023-04-27T00:00:00.000000000\",\"2023-04-28T00:00:00.000000000\",\"2023-05-02T00:00:00.000000000\",\"2023-05-03T00:00:00.000000000\",\"2023-05-04T00:00:00.000000000\",\"2023-05-05T00:00:00.000000000\",\"2023-05-08T00:00:00.000000000\",\"2023-05-09T00:00:00.000000000\",\"2023-05-10T00:00:00.000000000\",\"2023-05-11T00:00:00.000000000\",\"2023-05-12T00:00:00.000000000\",\"2023-05-15T00:00:00.000000000\",\"2023-05-16T00:00:00.000000000\",\"2023-05-17T00:00:00.000000000\",\"2023-05-18T00:00:00.000000000\",\"2023-05-19T00:00:00.000000000\",\"2023-05-22T00:00:00.000000000\",\"2023-05-23T00:00:00.000000000\",\"2023-05-24T00:00:00.000000000\",\"2023-05-25T00:00:00.000000000\",\"2023-05-26T00:00:00.000000000\",\"2023-05-29T00:00:00.000000000\",\"2023-05-30T00:00:00.000000000\",\"2023-05-31T00:00:00.000000000\",\"2023-06-01T00:00:00.000000000\",\"2023-06-02T00:00:00.000000000\",\"2023-06-05T00:00:00.000000000\",\"2023-06-06T00:00:00.000000000\",\"2023-06-07T00:00:00.000000000\",\"2023-06-08T00:00:00.000000000\",\"2023-06-09T00:00:00.000000000\",\"2023-06-12T00:00:00.000000000\",\"2023-06-13T00:00:00.000000000\",\"2023-06-14T00:00:00.000000000\",\"2023-06-15T00:00:00.000000000\",\"2023-06-16T00:00:00.000000000\",\"2023-06-19T00:00:00.000000000\",\"2023-06-20T00:00:00.000000000\",\"2023-06-21T00:00:00.000000000\",\"2023-06-22T00:00:00.000000000\",\"2023-06-23T00:00:00.000000000\",\"2023-06-26T00:00:00.000000000\",\"2023-06-27T00:00:00.000000000\",\"2023-07-03T00:00:00.000000000\",\"2023-07-04T00:00:00.000000000\",\"2023-07-05T00:00:00.000000000\",\"2023-07-06T00:00:00.000000000\",\"2023-07-07T00:00:00.000000000\",\"2023-07-10T00:00:00.000000000\",\"2023-07-11T00:00:00.000000000\",\"2023-07-12T00:00:00.000000000\",\"2023-07-13T00:00:00.000000000\",\"2023-07-14T00:00:00.000000000\",\"2023-07-17T00:00:00.000000000\",\"2023-07-18T00:00:00.000000000\",\"2023-07-19T00:00:00.000000000\",\"2023-07-20T00:00:00.000000000\",\"2023-07-21T00:00:00.000000000\",\"2023-07-24T00:00:00.000000000\",\"2023-07-25T00:00:00.000000000\",\"2023-07-26T00:00:00.000000000\",\"2023-07-27T00:00:00.000000000\",\"2023-07-31T00:00:00.000000000\",\"2023-08-01T00:00:00.000000000\",\"2023-08-02T00:00:00.000000000\",\"2023-08-03T00:00:00.000000000\",\"2023-08-04T00:00:00.000000000\",\"2023-08-07T00:00:00.000000000\",\"2023-08-08T00:00:00.000000000\",\"2023-08-09T00:00:00.000000000\",\"2023-08-10T00:00:00.000000000\",\"2023-08-11T00:00:00.000000000\",\"2023-08-15T00:00:00.000000000\",\"2023-08-16T00:00:00.000000000\",\"2023-08-17T00:00:00.000000000\",\"2023-08-18T00:00:00.000000000\",\"2023-08-21T00:00:00.000000000\",\"2023-08-22T00:00:00.000000000\",\"2023-08-23T00:00:00.000000000\",\"2023-08-24T00:00:00.000000000\",\"2023-08-25T00:00:00.000000000\",\"2023-08-28T00:00:00.000000000\",\"2023-08-29T00:00:00.000000000\",\"2023-08-30T00:00:00.000000000\",\"2023-08-31T00:00:00.000000000\",\"2023-09-01T00:00:00.000000000\",\"2023-09-04T00:00:00.000000000\",\"2023-09-05T00:00:00.000000000\",\"2023-09-06T00:00:00.000000000\",\"2023-09-07T00:00:00.000000000\",\"2023-09-08T00:00:00.000000000\",\"2023-09-11T00:00:00.000000000\",\"2023-09-12T00:00:00.000000000\",\"2023-09-13T00:00:00.000000000\",\"2023-09-14T00:00:00.000000000\",\"2023-09-15T00:00:00.000000000\",\"2023-09-18T00:00:00.000000000\",\"2023-09-19T00:00:00.000000000\",\"2023-09-20T00:00:00.000000000\",\"2023-09-21T00:00:00.000000000\",\"2023-09-22T00:00:00.000000000\",\"2023-09-25T00:00:00.000000000\",\"2023-09-26T00:00:00.000000000\",\"2023-09-27T00:00:00.000000000\",\"2023-09-28T00:00:00.000000000\",\"2023-10-02T00:00:00.000000000\",\"2023-10-03T00:00:00.000000000\",\"2023-10-04T00:00:00.000000000\",\"2023-10-05T00:00:00.000000000\",\"2023-10-06T00:00:00.000000000\",\"2023-10-09T00:00:00.000000000\",\"2023-10-10T00:00:00.000000000\",\"2023-10-11T00:00:00.000000000\",\"2023-10-12T00:00:00.000000000\",\"2023-10-13T00:00:00.000000000\",\"2023-10-16T00:00:00.000000000\",\"2023-10-17T00:00:00.000000000\",\"2023-10-18T00:00:00.000000000\",\"2023-10-19T00:00:00.000000000\",\"2023-10-20T00:00:00.000000000\",\"2023-10-23T00:00:00.000000000\",\"2023-10-24T00:00:00.000000000\",\"2023-10-25T00:00:00.000000000\",\"2023-10-26T00:00:00.000000000\",\"2023-10-27T00:00:00.000000000\",\"2023-10-30T00:00:00.000000000\",\"2023-10-31T00:00:00.000000000\",\"2023-11-01T00:00:00.000000000\",\"2023-11-02T00:00:00.000000000\",\"2023-11-03T00:00:00.000000000\",\"2023-11-06T00:00:00.000000000\",\"2023-11-07T00:00:00.000000000\",\"2023-11-08T00:00:00.000000000\",\"2023-11-10T00:00:00.000000000\",\"2023-11-13T00:00:00.000000000\",\"2023-11-14T00:00:00.000000000\",\"2023-11-15T00:00:00.000000000\",\"2023-11-16T00:00:00.000000000\",\"2023-11-17T00:00:00.000000000\",\"2023-11-20T00:00:00.000000000\",\"2023-11-21T00:00:00.000000000\",\"2023-11-22T00:00:00.000000000\",\"2023-11-23T00:00:00.000000000\",\"2023-11-24T00:00:00.000000000\",\"2023-11-27T00:00:00.000000000\",\"2023-11-28T00:00:00.000000000\",\"2023-11-29T00:00:00.000000000\",\"2023-11-30T00:00:00.000000000\",\"2023-12-01T00:00:00.000000000\",\"2023-12-04T00:00:00.000000000\",\"2023-12-05T00:00:00.000000000\",\"2023-12-06T00:00:00.000000000\",\"2023-12-07T00:00:00.000000000\",\"2023-12-08T00:00:00.000000000\",\"2023-12-11T00:00:00.000000000\",\"2023-12-12T00:00:00.000000000\",\"2023-12-13T00:00:00.000000000\",\"2023-12-14T00:00:00.000000000\",\"2023-12-15T00:00:00.000000000\",\"2023-12-18T00:00:00.000000000\",\"2023-12-19T00:00:00.000000000\",\"2023-12-20T00:00:00.000000000\",\"2023-12-21T00:00:00.000000000\",\"2023-12-22T00:00:00.000000000\",\"2023-12-26T00:00:00.000000000\",\"2023-12-27T00:00:00.000000000\",\"2023-12-28T00:00:00.000000000\",\"2023-12-29T00:00:00.000000000\",\"2024-01-01T00:00:00.000000000\",\"2024-01-02T00:00:00.000000000\",\"2024-01-03T00:00:00.000000000\",\"2024-01-04T00:00:00.000000000\",\"2024-01-05T00:00:00.000000000\",\"2024-01-08T00:00:00.000000000\",\"2024-01-09T00:00:00.000000000\",\"2024-01-10T00:00:00.000000000\",\"2024-01-11T00:00:00.000000000\",\"2024-01-12T00:00:00.000000000\",\"2024-01-15T00:00:00.000000000\",\"2024-01-16T00:00:00.000000000\",\"2024-01-17T00:00:00.000000000\",\"2024-01-18T00:00:00.000000000\",\"2024-01-19T00:00:00.000000000\",\"2024-01-22T00:00:00.000000000\",\"2024-01-23T00:00:00.000000000\",\"2024-01-24T00:00:00.000000000\",\"2024-01-25T00:00:00.000000000\",\"2024-01-26T00:00:00.000000000\",\"2024-01-29T00:00:00.000000000\",\"2024-01-30T00:00:00.000000000\",\"2024-01-31T00:00:00.000000000\",\"2024-02-01T00:00:00.000000000\",\"2024-02-02T00:00:00.000000000\",\"2024-02-06T00:00:00.000000000\",\"2024-02-07T00:00:00.000000000\",\"2024-02-09T00:00:00.000000000\",\"2024-02-12T00:00:00.000000000\",\"2024-02-13T00:00:00.000000000\",\"2024-02-14T00:00:00.000000000\",\"2024-02-15T00:00:00.000000000\",\"2024-02-16T00:00:00.000000000\",\"2024-02-19T00:00:00.000000000\",\"2024-02-20T00:00:00.000000000\",\"2024-02-21T00:00:00.000000000\",\"2024-02-22T00:00:00.000000000\",\"2024-02-23T00:00:00.000000000\",\"2024-02-26T00:00:00.000000000\",\"2024-02-27T00:00:00.000000000\",\"2024-02-28T00:00:00.000000000\",\"2024-02-29T00:00:00.000000000\",\"2024-03-01T00:00:00.000000000\",\"2024-03-04T00:00:00.000000000\",\"2024-03-05T00:00:00.000000000\",\"2024-03-06T00:00:00.000000000\",\"2024-03-07T00:00:00.000000000\",\"2024-03-08T00:00:00.000000000\",\"2024-03-11T00:00:00.000000000\",\"2024-03-12T00:00:00.000000000\",\"2024-03-13T00:00:00.000000000\",\"2024-03-14T00:00:00.000000000\",\"2024-03-15T00:00:00.000000000\",\"2024-03-18T00:00:00.000000000\",\"2024-03-19T00:00:00.000000000\",\"2024-03-20T00:00:00.000000000\",\"2024-03-21T00:00:00.000000000\",\"2024-03-22T00:00:00.000000000\",\"2024-03-25T00:00:00.000000000\",\"2024-03-26T00:00:00.000000000\",\"2024-03-27T00:00:00.000000000\",\"2024-03-28T00:00:00.000000000\",\"2024-03-29T00:00:00.000000000\",\"2024-04-01T00:00:00.000000000\",\"2024-04-02T00:00:00.000000000\",\"2024-04-03T00:00:00.000000000\",\"2024-04-04T00:00:00.000000000\",\"2024-04-08T00:00:00.000000000\",\"2024-04-09T00:00:00.000000000\",\"2024-04-15T00:00:00.000000000\",\"2024-04-16T00:00:00.000000000\",\"2024-04-17T00:00:00.000000000\",\"2024-04-18T00:00:00.000000000\",\"2024-04-19T00:00:00.000000000\",\"2024-04-22T00:00:00.000000000\",\"2024-04-23T00:00:00.000000000\",\"2024-04-24T00:00:00.000000000\",\"2024-04-25T00:00:00.000000000\",\"2024-04-26T00:00:00.000000000\",\"2024-04-29T00:00:00.000000000\",\"2024-04-30T00:00:00.000000000\",\"2024-05-02T00:00:00.000000000\",\"2024-05-03T00:00:00.000000000\",\"2024-05-06T00:00:00.000000000\",\"2024-05-07T00:00:00.000000000\",\"2024-05-08T00:00:00.000000000\",\"2024-05-09T00:00:00.000000000\",\"2024-05-10T00:00:00.000000000\",\"2024-05-13T00:00:00.000000000\",\"2024-05-14T00:00:00.000000000\",\"2024-05-15T00:00:00.000000000\",\"2024-05-16T00:00:00.000000000\",\"2024-05-17T00:00:00.000000000\",\"2024-05-20T00:00:00.000000000\",\"2024-05-21T00:00:00.000000000\",\"2024-05-22T00:00:00.000000000\",\"2024-05-23T00:00:00.000000000\",\"2024-05-24T00:00:00.000000000\",\"2024-05-27T00:00:00.000000000\",\"2024-05-29T00:00:00.000000000\",\"2024-05-30T00:00:00.000000000\",\"2024-05-31T00:00:00.000000000\",\"2024-06-03T00:00:00.000000000\",\"2024-06-04T00:00:00.000000000\",\"2024-06-05T00:00:00.000000000\",\"2024-06-06T00:00:00.000000000\",\"2024-06-07T00:00:00.000000000\",\"2024-06-10T00:00:00.000000000\",\"2024-06-11T00:00:00.000000000\",\"2024-06-12T00:00:00.000000000\",\"2024-06-13T00:00:00.000000000\",\"2024-06-14T00:00:00.000000000\",\"2024-06-20T00:00:00.000000000\",\"2024-06-21T00:00:00.000000000\",\"2024-06-24T00:00:00.000000000\",\"2024-06-25T00:00:00.000000000\",\"2024-06-26T00:00:00.000000000\",\"2024-06-27T00:00:00.000000000\",\"2024-06-28T00:00:00.000000000\",\"2024-07-01T00:00:00.000000000\",\"2024-07-02T00:00:00.000000000\",\"2024-07-03T00:00:00.000000000\",\"2024-07-04T00:00:00.000000000\",\"2024-07-05T00:00:00.000000000\",\"2024-07-08T00:00:00.000000000\",\"2024-07-09T00:00:00.000000000\",\"2024-07-10T00:00:00.000000000\",\"2024-07-11T00:00:00.000000000\",\"2024-07-12T00:00:00.000000000\",\"2024-07-15T00:00:00.000000000\",\"2024-07-18T00:00:00.000000000\",\"2024-07-19T00:00:00.000000000\",\"2024-07-22T00:00:00.000000000\",\"2024-07-23T00:00:00.000000000\",\"2024-07-24T00:00:00.000000000\",\"2024-07-25T00:00:00.000000000\",\"2024-07-26T00:00:00.000000000\",\"2024-07-29T00:00:00.000000000\",\"2024-07-30T00:00:00.000000000\",\"2024-07-31T00:00:00.000000000\",\"2024-08-01T00:00:00.000000000\",\"2024-08-02T00:00:00.000000000\",\"2024-08-05T00:00:00.000000000\",\"2024-08-06T00:00:00.000000000\",\"2024-08-07T00:00:00.000000000\",\"2024-08-08T00:00:00.000000000\",\"2024-08-09T00:00:00.000000000\",\"2024-08-12T00:00:00.000000000\",\"2024-08-13T00:00:00.000000000\",\"2024-08-15T00:00:00.000000000\",\"2024-08-16T00:00:00.000000000\",\"2024-08-19T00:00:00.000000000\",\"2024-08-20T00:00:00.000000000\",\"2024-08-21T00:00:00.000000000\",\"2024-08-22T00:00:00.000000000\",\"2024-08-23T00:00:00.000000000\",\"2024-08-26T00:00:00.000000000\",\"2024-08-27T00:00:00.000000000\",\"2024-08-28T00:00:00.000000000\",\"2024-08-29T00:00:00.000000000\",\"2024-08-30T00:00:00.000000000\",\"2024-09-02T00:00:00.000000000\",\"2024-09-03T00:00:00.000000000\",\"2024-09-04T00:00:00.000000000\",\"2024-09-05T00:00:00.000000000\",\"2024-09-06T00:00:00.000000000\",\"2024-09-09T00:00:00.000000000\",\"2024-09-10T00:00:00.000000000\",\"2024-09-11T00:00:00.000000000\",\"2024-09-12T00:00:00.000000000\",\"2024-09-13T00:00:00.000000000\",\"2024-09-16T00:00:00.000000000\",\"2024-09-18T00:00:00.000000000\",\"2024-09-19T00:00:00.000000000\",\"2024-09-20T00:00:00.000000000\",\"2024-09-23T00:00:00.000000000\",\"2024-09-24T00:00:00.000000000\",\"2024-09-25T00:00:00.000000000\",\"2024-09-26T00:00:00.000000000\",\"2024-09-27T00:00:00.000000000\",\"2024-09-30T00:00:00.000000000\",\"2024-10-01T00:00:00.000000000\",\"2024-10-02T00:00:00.000000000\",\"2024-10-03T00:00:00.000000000\",\"2024-10-04T00:00:00.000000000\",\"2024-10-07T00:00:00.000000000\",\"2024-10-08T00:00:00.000000000\",\"2024-10-09T00:00:00.000000000\",\"2024-10-10T00:00:00.000000000\",\"2024-10-11T00:00:00.000000000\",\"2024-10-14T00:00:00.000000000\",\"2024-10-15T00:00:00.000000000\",\"2024-10-16T00:00:00.000000000\",\"2024-10-17T00:00:00.000000000\",\"2024-10-18T00:00:00.000000000\",\"2024-10-21T00:00:00.000000000\",\"2024-10-22T00:00:00.000000000\",\"2024-10-23T00:00:00.000000000\",\"2024-10-24T00:00:00.000000000\",\"2024-10-25T00:00:00.000000000\",\"2024-10-28T00:00:00.000000000\",\"2024-10-29T00:00:00.000000000\",\"2024-10-30T00:00:00.000000000\",\"2024-10-31T00:00:00.000000000\",\"2024-11-01T00:00:00.000000000\",\"2024-11-04T00:00:00.000000000\",\"2024-11-05T00:00:00.000000000\",\"2024-11-06T00:00:00.000000000\",\"2024-11-07T00:00:00.000000000\",\"2024-11-08T00:00:00.000000000\",\"2024-11-11T00:00:00.000000000\",\"2024-11-12T00:00:00.000000000\",\"2024-11-13T00:00:00.000000000\",\"2024-11-14T00:00:00.000000000\",\"2024-11-15T00:00:00.000000000\",\"2024-11-18T00:00:00.000000000\",\"2024-11-19T00:00:00.000000000\",\"2024-11-20T00:00:00.000000000\",\"2024-11-21T00:00:00.000000000\",\"2024-11-22T00:00:00.000000000\",\"2024-11-25T00:00:00.000000000\",\"2024-11-26T00:00:00.000000000\",\"2024-11-27T00:00:00.000000000\",\"2024-11-28T00:00:00.000000000\",\"2024-11-29T00:00:00.000000000\"],\"type\":\"candlestick\"}],                        {\"template\":{\"data\":{\"barpolar\":[{\"marker\":{\"line\":{\"color\":\"#E5ECF6\",\"width\":0.5},\"pattern\":{\"fillmode\":\"overlay\",\"size\":10,\"solidity\":0.2}},\"type\":\"barpolar\"}],\"bar\":[{\"error_x\":{\"color\":\"#2a3f5f\"},\"error_y\":{\"color\":\"#2a3f5f\"},\"marker\":{\"line\":{\"color\":\"#E5ECF6\",\"width\":0.5},\"pattern\":{\"fillmode\":\"overlay\",\"size\":10,\"solidity\":0.2}},\"type\":\"bar\"}],\"carpet\":[{\"aaxis\":{\"endlinecolor\":\"#2a3f5f\",\"gridcolor\":\"white\",\"linecolor\":\"white\",\"minorgridcolor\":\"white\",\"startlinecolor\":\"#2a3f5f\"},\"baxis\":{\"endlinecolor\":\"#2a3f5f\",\"gridcolor\":\"white\",\"linecolor\":\"white\",\"minorgridcolor\":\"white\",\"startlinecolor\":\"#2a3f5f\"},\"type\":\"carpet\"}],\"choropleth\":[{\"colorbar\":{\"outlinewidth\":0,\"ticks\":\"\"},\"type\":\"choropleth\"}],\"contourcarpet\":[{\"colorbar\":{\"outlinewidth\":0,\"ticks\":\"\"},\"type\":\"contourcarpet\"}],\"contour\":[{\"colorbar\":{\"outlinewidth\":0,\"ticks\":\"\"},\"colorscale\":[[0.0,\"#0d0887\"],[0.1111111111111111,\"#46039f\"],[0.2222222222222222,\"#7201a8\"],[0.3333333333333333,\"#9c179e\"],[0.4444444444444444,\"#bd3786\"],[0.5555555555555556,\"#d8576b\"],[0.6666666666666666,\"#ed7953\"],[0.7777777777777778,\"#fb9f3a\"],[0.8888888888888888,\"#fdca26\"],[1.0,\"#f0f921\"]],\"type\":\"contour\"}],\"heatmap\":[{\"colorbar\":{\"outlinewidth\":0,\"ticks\":\"\"},\"colorscale\":[[0.0,\"#0d0887\"],[0.1111111111111111,\"#46039f\"],[0.2222222222222222,\"#7201a8\"],[0.3333333333333333,\"#9c179e\"],[0.4444444444444444,\"#bd3786\"],[0.5555555555555556,\"#d8576b\"],[0.6666666666666666,\"#ed7953\"],[0.7777777777777778,\"#fb9f3a\"],[0.8888888888888888,\"#fdca26\"],[1.0,\"#f0f921\"]],\"type\":\"heatmap\"}],\"histogram2dcontour\":[{\"colorbar\":{\"outlinewidth\":0,\"ticks\":\"\"},\"colorscale\":[[0.0,\"#0d0887\"],[0.1111111111111111,\"#46039f\"],[0.2222222222222222,\"#7201a8\"],[0.3333333333333333,\"#9c179e\"],[0.4444444444444444,\"#bd3786\"],[0.5555555555555556,\"#d8576b\"],[0.6666666666666666,\"#ed7953\"],[0.7777777777777778,\"#fb9f3a\"],[0.8888888888888888,\"#fdca26\"],[1.0,\"#f0f921\"]],\"type\":\"histogram2dcontour\"}],\"histogram2d\":[{\"colorbar\":{\"outlinewidth\":0,\"ticks\":\"\"},\"colorscale\":[[0.0,\"#0d0887\"],[0.1111111111111111,\"#46039f\"],[0.2222222222222222,\"#7201a8\"],[0.3333333333333333,\"#9c179e\"],[0.4444444444444444,\"#bd3786\"],[0.5555555555555556,\"#d8576b\"],[0.6666666666666666,\"#ed7953\"],[0.7777777777777778,\"#fb9f3a\"],[0.8888888888888888,\"#fdca26\"],[1.0,\"#f0f921\"]],\"type\":\"histogram2d\"}],\"histogram\":[{\"marker\":{\"pattern\":{\"fillmode\":\"overlay\",\"size\":10,\"solidity\":0.2}},\"type\":\"histogram\"}],\"mesh3d\":[{\"colorbar\":{\"outlinewidth\":0,\"ticks\":\"\"},\"type\":\"mesh3d\"}],\"parcoords\":[{\"line\":{\"colorbar\":{\"outlinewidth\":0,\"ticks\":\"\"}},\"type\":\"parcoords\"}],\"pie\":[{\"automargin\":true,\"type\":\"pie\"}],\"scatter3d\":[{\"line\":{\"colorbar\":{\"outlinewidth\":0,\"ticks\":\"\"}},\"marker\":{\"colorbar\":{\"outlinewidth\":0,\"ticks\":\"\"}},\"type\":\"scatter3d\"}],\"scattercarpet\":[{\"marker\":{\"colorbar\":{\"outlinewidth\":0,\"ticks\":\"\"}},\"type\":\"scattercarpet\"}],\"scattergeo\":[{\"marker\":{\"colorbar\":{\"outlinewidth\":0,\"ticks\":\"\"}},\"type\":\"scattergeo\"}],\"scattergl\":[{\"marker\":{\"colorbar\":{\"outlinewidth\":0,\"ticks\":\"\"}},\"type\":\"scattergl\"}],\"scattermapbox\":[{\"marker\":{\"colorbar\":{\"outlinewidth\":0,\"ticks\":\"\"}},\"type\":\"scattermapbox\"}],\"scattermap\":[{\"marker\":{\"colorbar\":{\"outlinewidth\":0,\"ticks\":\"\"}},\"type\":\"scattermap\"}],\"scatterpolargl\":[{\"marker\":{\"colorbar\":{\"outlinewidth\":0,\"ticks\":\"\"}},\"type\":\"scatterpolargl\"}],\"scatterpolar\":[{\"marker\":{\"colorbar\":{\"outlinewidth\":0,\"ticks\":\"\"}},\"type\":\"scatterpolar\"}],\"scatter\":[{\"fillpattern\":{\"fillmode\":\"overlay\",\"size\":10,\"solidity\":0.2},\"type\":\"scatter\"}],\"scatterternary\":[{\"marker\":{\"colorbar\":{\"outlinewidth\":0,\"ticks\":\"\"}},\"type\":\"scatterternary\"}],\"surface\":[{\"colorbar\":{\"outlinewidth\":0,\"ticks\":\"\"},\"colorscale\":[[0.0,\"#0d0887\"],[0.1111111111111111,\"#46039f\"],[0.2222222222222222,\"#7201a8\"],[0.3333333333333333,\"#9c179e\"],[0.4444444444444444,\"#bd3786\"],[0.5555555555555556,\"#d8576b\"],[0.6666666666666666,\"#ed7953\"],[0.7777777777777778,\"#fb9f3a\"],[0.8888888888888888,\"#fdca26\"],[1.0,\"#f0f921\"]],\"type\":\"surface\"}],\"table\":[{\"cells\":{\"fill\":{\"color\":\"#EBF0F8\"},\"line\":{\"color\":\"white\"}},\"header\":{\"fill\":{\"color\":\"#C8D4E3\"},\"line\":{\"color\":\"white\"}},\"type\":\"table\"}]},\"layout\":{\"annotationdefaults\":{\"arrowcolor\":\"#2a3f5f\",\"arrowhead\":0,\"arrowwidth\":1},\"autotypenumbers\":\"strict\",\"coloraxis\":{\"colorbar\":{\"outlinewidth\":0,\"ticks\":\"\"}},\"colorscale\":{\"diverging\":[[0,\"#8e0152\"],[0.1,\"#c51b7d\"],[0.2,\"#de77ae\"],[0.3,\"#f1b6da\"],[0.4,\"#fde0ef\"],[0.5,\"#f7f7f7\"],[0.6,\"#e6f5d0\"],[0.7,\"#b8e186\"],[0.8,\"#7fbc41\"],[0.9,\"#4d9221\"],[1,\"#276419\"]],\"sequential\":[[0.0,\"#0d0887\"],[0.1111111111111111,\"#46039f\"],[0.2222222222222222,\"#7201a8\"],[0.3333333333333333,\"#9c179e\"],[0.4444444444444444,\"#bd3786\"],[0.5555555555555556,\"#d8576b\"],[0.6666666666666666,\"#ed7953\"],[0.7777777777777778,\"#fb9f3a\"],[0.8888888888888888,\"#fdca26\"],[1.0,\"#f0f921\"]],\"sequentialminus\":[[0.0,\"#0d0887\"],[0.1111111111111111,\"#46039f\"],[0.2222222222222222,\"#7201a8\"],[0.3333333333333333,\"#9c179e\"],[0.4444444444444444,\"#bd3786\"],[0.5555555555555556,\"#d8576b\"],[0.6666666666666666,\"#ed7953\"],[0.7777777777777778,\"#fb9f3a\"],[0.8888888888888888,\"#fdca26\"],[1.0,\"#f0f921\"]]},\"colorway\":[\"#636efa\",\"#EF553B\",\"#00cc96\",\"#ab63fa\",\"#FFA15A\",\"#19d3f3\",\"#FF6692\",\"#B6E880\",\"#FF97FF\",\"#FECB52\"],\"font\":{\"color\":\"#2a3f5f\"},\"geo\":{\"bgcolor\":\"white\",\"lakecolor\":\"white\",\"landcolor\":\"#E5ECF6\",\"showlakes\":true,\"showland\":true,\"subunitcolor\":\"white\"},\"hoverlabel\":{\"align\":\"left\"},\"hovermode\":\"closest\",\"mapbox\":{\"style\":\"light\"},\"paper_bgcolor\":\"white\",\"plot_bgcolor\":\"#E5ECF6\",\"polar\":{\"angularaxis\":{\"gridcolor\":\"white\",\"linecolor\":\"white\",\"ticks\":\"\"},\"bgcolor\":\"#E5ECF6\",\"radialaxis\":{\"gridcolor\":\"white\",\"linecolor\":\"white\",\"ticks\":\"\"}},\"scene\":{\"xaxis\":{\"backgroundcolor\":\"#E5ECF6\",\"gridcolor\":\"white\",\"gridwidth\":2,\"linecolor\":\"white\",\"showbackground\":true,\"ticks\":\"\",\"zerolinecolor\":\"white\"},\"yaxis\":{\"backgroundcolor\":\"#E5ECF6\",\"gridcolor\":\"white\",\"gridwidth\":2,\"linecolor\":\"white\",\"showbackground\":true,\"ticks\":\"\",\"zerolinecolor\":\"white\"},\"zaxis\":{\"backgroundcolor\":\"#E5ECF6\",\"gridcolor\":\"white\",\"gridwidth\":2,\"linecolor\":\"white\",\"showbackground\":true,\"ticks\":\"\",\"zerolinecolor\":\"white\"}},\"shapedefaults\":{\"line\":{\"color\":\"#2a3f5f\"}},\"ternary\":{\"aaxis\":{\"gridcolor\":\"white\",\"linecolor\":\"white\",\"ticks\":\"\"},\"baxis\":{\"gridcolor\":\"white\",\"linecolor\":\"white\",\"ticks\":\"\"},\"bgcolor\":\"#E5ECF6\",\"caxis\":{\"gridcolor\":\"white\",\"linecolor\":\"white\",\"ticks\":\"\"}},\"title\":{\"x\":0.05},\"xaxis\":{\"automargin\":true,\"gridcolor\":\"white\",\"linecolor\":\"white\",\"ticks\":\"\",\"title\":{\"standoff\":15},\"zerolinecolor\":\"white\",\"zerolinewidth\":2},\"yaxis\":{\"automargin\":true,\"gridcolor\":\"white\",\"linecolor\":\"white\",\"ticks\":\"\",\"title\":{\"standoff\":15},\"zerolinecolor\":\"white\",\"zerolinewidth\":2}}},\"title\":{\"text\":\"OGDC Candlestick (plotly)\"},\"xaxis\":{\"title\":{\"text\":\"Date\"}},\"yaxis\":{\"title\":{\"text\":\"Price\"}}},                        {\"responsive\": true}                    ).then(function(){\n",
              "                            \n",
              "var gd = document.getElementById('68c03bc5-138e-4dc7-b5b5-6a92b421e0f5');\n",
              "var x = new MutationObserver(function (mutations, observer) {{\n",
              "        var display = window.getComputedStyle(gd).display;\n",
              "        if (!display || display === 'none') {{\n",
              "            console.log([gd, 'removed!']);\n",
              "            Plotly.purge(gd);\n",
              "            observer.disconnect();\n",
              "        }}\n",
              "}});\n",
              "\n",
              "// Listen for the removal of the full notebook cells\n",
              "var notebookContainer = gd.closest('#notebook-container');\n",
              "if (notebookContainer) {{\n",
              "    x.observe(notebookContainer, {childList: true});\n",
              "}}\n",
              "\n",
              "// Listen for the clearing of the current output cell\n",
              "var outputEl = gd.closest('.output');\n",
              "if (outputEl) {{\n",
              "    x.observe(outputEl, {childList: true});\n",
              "}}\n",
              "\n",
              "                        })                };            </script>        </div>"
            ]
          },
          "metadata": {},
          "output_type": "display_data"
        }
      ],
      "source": [
        "# mplfinance candlestick\n",
        "df_mpf = df.set_index(DATE_COL)[[\"Open\",\"High\",\"Low\",\"Close\"]]\n",
        "mpf.plot(df_mpf, type=\"candle\", style=\"yahoo\", title=f\"{SYMBOL} Candlestick (mplfinance)\", figsize=(12,6), mav=(7,30), volume=False, savefig=\"figures/candlestick_mplfinance.png\")\n",
        "\n",
        "# plotly interactive candlestick\n",
        "candles = go.Figure(data=[go.Candlestick(x=df[DATE_COL],\n",
        "                                         open=df[\"Open\"], high=df[\"High\"],\n",
        "                                         low=df[\"Low\"], close=df[\"Close\"])])\n",
        "candles.update_layout(title=f\"{SYMBOL} Candlestick (plotly)\", xaxis_title=\"Date\", yaxis_title=\"Price\")\n",
        "iplot(candles)\n"
      ]
    },
    {
      "cell_type": "markdown",
      "metadata": {},
      "source": [
        "## 3) Feature Engineering: Sliding Windows on Close Price"
      ]
    },
    {
      "cell_type": "code",
      "execution_count": 84,
      "metadata": {},
      "outputs": [
        {
          "name": "stdout",
          "output_type": "stream",
          "text": [
            "Sequences: (170, 552) (170,)\n"
          ]
        }
      ],
      "source": [
        "def make_sequences(series: np.ndarray, window_size: int):\n",
        "    X, y = [], []\n",
        "    for i in range(len(series) - window_size):\n",
        "        X.append(series[i:i+window_size])\n",
        "        y.append(series[i+window_size])\n",
        "    return np.array(X), np.array(y)\n",
        "\n",
        "close_values = df[CLOSE_COL].astype(float).values\n",
        "X_all, y_all = make_sequences(close_values, WINDOW_SIZE)\n",
        "print(\"Sequences:\", X_all.shape, y_all.shape)\n"
      ]
    },
    {
      "cell_type": "code",
      "execution_count": 85,
      "metadata": {},
      "outputs": [
        {
          "name": "stdout",
          "output_type": "stream",
          "text": [
            "Train size: 136 Test size: 34\n"
          ]
        }
      ],
      "source": [
        "split_idx = int(len(X_all) * (1 - TEST_SIZE_RATIO))\n",
        "X_train, X_test = X_all[:split_idx], X_all[split_idx:]\n",
        "y_train, y_test = y_all[:split_idx], y_all[split_idx:]\n",
        "\n",
        "print(\"Train size:\", X_train.shape[0], \"Test size:\", X_test.shape[0])\n"
      ]
    },
    {
      "cell_type": "markdown",
      "metadata": {},
      "source": [
        "## 4) Model 1: RandomForestRegressor (Baseline)"
      ]
    },
    {
      "cell_type": "code",
      "execution_count": 86,
      "metadata": {},
      "outputs": [
        {
          "data": {
            "text/plain": [
              "['models/rf_model.joblib']"
            ]
          },
          "execution_count": 86,
          "metadata": {},
          "output_type": "execute_result"
        }
      ],
      "source": [
        "rf = RandomForestRegressor(n_estimators=400, random_state=RANDOM_STATE, n_jobs=-1)\n",
        "# Flatten sequences for RF: (samples, window_size)\n",
        "rf.fit(X_train, y_train)\n",
        "rf_preds = rf.predict(X_test)\n",
        "\n",
        "# Save model\n",
        "dump(rf, \"models/rf_model.joblib\")\n"
      ]
    },
    {
      "cell_type": "markdown",
      "metadata": {},
      "source": [
        "## 5) Model 2: LSTM (Deep Learning)"
      ]
    },
    {
      "cell_type": "code",
      "execution_count": 87,
      "metadata": {},
      "outputs": [
        {
          "name": "stderr",
          "output_type": "stream",
          "text": [
            "WARNING:absl:You are saving your model as an HDF5 file via `model.save()` or `keras.saving.save_model(model)`. This file format is considered legacy. We recommend using instead the native Keras format, e.g. `model.save('my_model.keras')` or `keras.saving.save_model(model, 'my_model.keras')`. \n",
            "WARNING:absl:You are saving your model as an HDF5 file via `model.save()` or `keras.saving.save_model(model)`. This file format is considered legacy. We recommend using instead the native Keras format, e.g. `model.save('my_model.keras')` or `keras.saving.save_model(model, 'my_model.keras')`. \n",
            "WARNING:absl:You are saving your model as an HDF5 file via `model.save()` or `keras.saving.save_model(model)`. This file format is considered legacy. We recommend using instead the native Keras format, e.g. `model.save('my_model.keras')` or `keras.saving.save_model(model, 'my_model.keras')`. \n",
            "WARNING:absl:You are saving your model as an HDF5 file via `model.save()` or `keras.saving.save_model(model)`. This file format is considered legacy. We recommend using instead the native Keras format, e.g. `model.save('my_model.keras')` or `keras.saving.save_model(model, 'my_model.keras')`. \n",
            "WARNING:absl:You are saving your model as an HDF5 file via `model.save()` or `keras.saving.save_model(model)`. This file format is considered legacy. We recommend using instead the native Keras format, e.g. `model.save('my_model.keras')` or `keras.saving.save_model(model, 'my_model.keras')`. \n",
            "WARNING:absl:You are saving your model as an HDF5 file via `model.save()` or `keras.saving.save_model(model)`. This file format is considered legacy. We recommend using instead the native Keras format, e.g. `model.save('my_model.keras')` or `keras.saving.save_model(model, 'my_model.keras')`. \n",
            "WARNING:absl:You are saving your model as an HDF5 file via `model.save()` or `keras.saving.save_model(model)`. This file format is considered legacy. We recommend using instead the native Keras format, e.g. `model.save('my_model.keras')` or `keras.saving.save_model(model, 'my_model.keras')`. \n",
            "WARNING:absl:You are saving your model as an HDF5 file via `model.save()` or `keras.saving.save_model(model)`. This file format is considered legacy. We recommend using instead the native Keras format, e.g. `model.save('my_model.keras')` or `keras.saving.save_model(model, 'my_model.keras')`. \n",
            "WARNING:absl:You are saving your model as an HDF5 file via `model.save()` or `keras.saving.save_model(model)`. This file format is considered legacy. We recommend using instead the native Keras format, e.g. `model.save('my_model.keras')` or `keras.saving.save_model(model, 'my_model.keras')`. \n",
            "WARNING:absl:You are saving your model as an HDF5 file via `model.save()` or `keras.saving.save_model(model)`. This file format is considered legacy. We recommend using instead the native Keras format, e.g. `model.save('my_model.keras')` or `keras.saving.save_model(model, 'my_model.keras')`. \n",
            "WARNING:absl:You are saving your model as an HDF5 file via `model.save()` or `keras.saving.save_model(model)`. This file format is considered legacy. We recommend using instead the native Keras format, e.g. `model.save('my_model.keras')` or `keras.saving.save_model(model, 'my_model.keras')`. \n",
            "WARNING:absl:You are saving your model as an HDF5 file via `model.save()` or `keras.saving.save_model(model)`. This file format is considered legacy. We recommend using instead the native Keras format, e.g. `model.save('my_model.keras')` or `keras.saving.save_model(model, 'my_model.keras')`. \n",
            "WARNING:absl:You are saving your model as an HDF5 file via `model.save()` or `keras.saving.save_model(model)`. This file format is considered legacy. We recommend using instead the native Keras format, e.g. `model.save('my_model.keras')` or `keras.saving.save_model(model, 'my_model.keras')`. \n",
            "WARNING:absl:You are saving your model as an HDF5 file via `model.save()` or `keras.saving.save_model(model)`. This file format is considered legacy. We recommend using instead the native Keras format, e.g. `model.save('my_model.keras')` or `keras.saving.save_model(model, 'my_model.keras')`. \n",
            "WARNING:absl:You are saving your model as an HDF5 file via `model.save()` or `keras.saving.save_model(model)`. This file format is considered legacy. We recommend using instead the native Keras format, e.g. `model.save('my_model.keras')` or `keras.saving.save_model(model, 'my_model.keras')`. \n",
            "WARNING:absl:You are saving your model as an HDF5 file via `model.save()` or `keras.saving.save_model(model)`. This file format is considered legacy. We recommend using instead the native Keras format, e.g. `model.save('my_model.keras')` or `keras.saving.save_model(model, 'my_model.keras')`. \n",
            "WARNING:absl:You are saving your model as an HDF5 file via `model.save()` or `keras.saving.save_model(model)`. This file format is considered legacy. We recommend using instead the native Keras format, e.g. `model.save('my_model.keras')` or `keras.saving.save_model(model, 'my_model.keras')`. \n",
            "WARNING:absl:You are saving your model as an HDF5 file via `model.save()` or `keras.saving.save_model(model)`. This file format is considered legacy. We recommend using instead the native Keras format, e.g. `model.save('my_model.keras')` or `keras.saving.save_model(model, 'my_model.keras')`. \n",
            "WARNING:absl:You are saving your model as an HDF5 file via `model.save()` or `keras.saving.save_model(model)`. This file format is considered legacy. We recommend using instead the native Keras format, e.g. `model.save('my_model.keras')` or `keras.saving.save_model(model, 'my_model.keras')`. \n",
            "WARNING:absl:You are saving your model as an HDF5 file via `model.save()` or `keras.saving.save_model(model)`. This file format is considered legacy. We recommend using instead the native Keras format, e.g. `model.save('my_model.keras')` or `keras.saving.save_model(model, 'my_model.keras')`. \n",
            "WARNING:absl:You are saving your model as an HDF5 file via `model.save()` or `keras.saving.save_model(model)`. This file format is considered legacy. We recommend using instead the native Keras format, e.g. `model.save('my_model.keras')` or `keras.saving.save_model(model, 'my_model.keras')`. \n",
            "WARNING:absl:You are saving your model as an HDF5 file via `model.save()` or `keras.saving.save_model(model)`. This file format is considered legacy. We recommend using instead the native Keras format, e.g. `model.save('my_model.keras')` or `keras.saving.save_model(model, 'my_model.keras')`. \n",
            "WARNING:absl:You are saving your model as an HDF5 file via `model.save()` or `keras.saving.save_model(model)`. This file format is considered legacy. We recommend using instead the native Keras format, e.g. `model.save('my_model.keras')` or `keras.saving.save_model(model, 'my_model.keras')`. \n",
            "WARNING:absl:You are saving your model as an HDF5 file via `model.save()` or `keras.saving.save_model(model)`. This file format is considered legacy. We recommend using instead the native Keras format, e.g. `model.save('my_model.keras')` or `keras.saving.save_model(model, 'my_model.keras')`. \n",
            "WARNING:absl:You are saving your model as an HDF5 file via `model.save()` or `keras.saving.save_model(model)`. This file format is considered legacy. We recommend using instead the native Keras format, e.g. `model.save('my_model.keras')` or `keras.saving.save_model(model, 'my_model.keras')`. \n",
            "WARNING:absl:You are saving your model as an HDF5 file via `model.save()` or `keras.saving.save_model(model)`. This file format is considered legacy. We recommend using instead the native Keras format, e.g. `model.save('my_model.keras')` or `keras.saving.save_model(model, 'my_model.keras')`. \n",
            "WARNING:absl:You are saving your model as an HDF5 file via `model.save()` or `keras.saving.save_model(model)`. This file format is considered legacy. We recommend using instead the native Keras format, e.g. `model.save('my_model.keras')` or `keras.saving.save_model(model, 'my_model.keras')`. \n",
            "WARNING:absl:You are saving your model as an HDF5 file via `model.save()` or `keras.saving.save_model(model)`. This file format is considered legacy. We recommend using instead the native Keras format, e.g. `model.save('my_model.keras')` or `keras.saving.save_model(model, 'my_model.keras')`. \n",
            "WARNING:absl:You are saving your model as an HDF5 file via `model.save()` or `keras.saving.save_model(model)`. This file format is considered legacy. We recommend using instead the native Keras format, e.g. `model.save('my_model.keras')` or `keras.saving.save_model(model, 'my_model.keras')`. \n",
            "WARNING:absl:You are saving your model as an HDF5 file via `model.save()` or `keras.saving.save_model(model)`. This file format is considered legacy. We recommend using instead the native Keras format, e.g. `model.save('my_model.keras')` or `keras.saving.save_model(model, 'my_model.keras')`. \n",
            "WARNING:absl:You are saving your model as an HDF5 file via `model.save()` or `keras.saving.save_model(model)`. This file format is considered legacy. We recommend using instead the native Keras format, e.g. `model.save('my_model.keras')` or `keras.saving.save_model(model, 'my_model.keras')`. \n",
            "WARNING:absl:You are saving your model as an HDF5 file via `model.save()` or `keras.saving.save_model(model)`. This file format is considered legacy. We recommend using instead the native Keras format, e.g. `model.save('my_model.keras')` or `keras.saving.save_model(model, 'my_model.keras')`. \n",
            "WARNING:absl:You are saving your model as an HDF5 file via `model.save()` or `keras.saving.save_model(model)`. This file format is considered legacy. We recommend using instead the native Keras format, e.g. `model.save('my_model.keras')` or `keras.saving.save_model(model, 'my_model.keras')`. \n",
            "WARNING:absl:You are saving your model as an HDF5 file via `model.save()` or `keras.saving.save_model(model)`. This file format is considered legacy. We recommend using instead the native Keras format, e.g. `model.save('my_model.keras')` or `keras.saving.save_model(model, 'my_model.keras')`. \n",
            "WARNING:absl:You are saving your model as an HDF5 file via `model.save()` or `keras.saving.save_model(model)`. This file format is considered legacy. We recommend using instead the native Keras format, e.g. `model.save('my_model.keras')` or `keras.saving.save_model(model, 'my_model.keras')`. \n",
            "WARNING:absl:You are saving your model as an HDF5 file via `model.save()` or `keras.saving.save_model(model)`. This file format is considered legacy. We recommend using instead the native Keras format, e.g. `model.save('my_model.keras')` or `keras.saving.save_model(model, 'my_model.keras')`. \n",
            "WARNING:absl:You are saving your model as an HDF5 file via `model.save()` or `keras.saving.save_model(model)`. This file format is considered legacy. We recommend using instead the native Keras format, e.g. `model.save('my_model.keras')` or `keras.saving.save_model(model, 'my_model.keras')`. \n",
            "WARNING:absl:You are saving your model as an HDF5 file via `model.save()` or `keras.saving.save_model(model)`. This file format is considered legacy. We recommend using instead the native Keras format, e.g. `model.save('my_model.keras')` or `keras.saving.save_model(model, 'my_model.keras')`. \n",
            "WARNING:absl:You are saving your model as an HDF5 file via `model.save()` or `keras.saving.save_model(model)`. This file format is considered legacy. We recommend using instead the native Keras format, e.g. `model.save('my_model.keras')` or `keras.saving.save_model(model, 'my_model.keras')`. \n",
            "WARNING:absl:You are saving your model as an HDF5 file via `model.save()` or `keras.saving.save_model(model)`. This file format is considered legacy. We recommend using instead the native Keras format, e.g. `model.save('my_model.keras')` or `keras.saving.save_model(model, 'my_model.keras')`. \n",
            "WARNING:absl:You are saving your model as an HDF5 file via `model.save()` or `keras.saving.save_model(model)`. This file format is considered legacy. We recommend using instead the native Keras format, e.g. `model.save('my_model.keras')` or `keras.saving.save_model(model, 'my_model.keras')`. \n",
            "WARNING:absl:You are saving your model as an HDF5 file via `model.save()` or `keras.saving.save_model(model)`. This file format is considered legacy. We recommend using instead the native Keras format, e.g. `model.save('my_model.keras')` or `keras.saving.save_model(model, 'my_model.keras')`. \n",
            "WARNING:absl:You are saving your model as an HDF5 file via `model.save()` or `keras.saving.save_model(model)`. This file format is considered legacy. We recommend using instead the native Keras format, e.g. `model.save('my_model.keras')` or `keras.saving.save_model(model, 'my_model.keras')`. \n",
            "WARNING:absl:You are saving your model as an HDF5 file via `model.save()` or `keras.saving.save_model(model)`. This file format is considered legacy. We recommend using instead the native Keras format, e.g. `model.save('my_model.keras')` or `keras.saving.save_model(model, 'my_model.keras')`. \n",
            "WARNING:absl:You are saving your model as an HDF5 file via `model.save()` or `keras.saving.save_model(model)`. This file format is considered legacy. We recommend using instead the native Keras format, e.g. `model.save('my_model.keras')` or `keras.saving.save_model(model, 'my_model.keras')`. \n",
            "WARNING:absl:You are saving your model as an HDF5 file via `model.save()` or `keras.saving.save_model(model)`. This file format is considered legacy. We recommend using instead the native Keras format, e.g. `model.save('my_model.keras')` or `keras.saving.save_model(model, 'my_model.keras')`. \n",
            "WARNING:absl:You are saving your model as an HDF5 file via `model.save()` or `keras.saving.save_model(model)`. This file format is considered legacy. We recommend using instead the native Keras format, e.g. `model.save('my_model.keras')` or `keras.saving.save_model(model, 'my_model.keras')`. \n",
            "WARNING:absl:You are saving your model as an HDF5 file via `model.save()` or `keras.saving.save_model(model)`. This file format is considered legacy. We recommend using instead the native Keras format, e.g. `model.save('my_model.keras')` or `keras.saving.save_model(model, 'my_model.keras')`. \n",
            "WARNING:absl:You are saving your model as an HDF5 file via `model.save()` or `keras.saving.save_model(model)`. This file format is considered legacy. We recommend using instead the native Keras format, e.g. `model.save('my_model.keras')` or `keras.saving.save_model(model, 'my_model.keras')`. \n",
            "WARNING:absl:You are saving your model as an HDF5 file via `model.save()` or `keras.saving.save_model(model)`. This file format is considered legacy. We recommend using instead the native Keras format, e.g. `model.save('my_model.keras')` or `keras.saving.save_model(model, 'my_model.keras')`. \n",
            "WARNING:absl:You are saving your model as an HDF5 file via `model.save()` or `keras.saving.save_model(model)`. This file format is considered legacy. We recommend using instead the native Keras format, e.g. `model.save('my_model.keras')` or `keras.saving.save_model(model, 'my_model.keras')`. \n",
            "WARNING:absl:You are saving your model as an HDF5 file via `model.save()` or `keras.saving.save_model(model)`. This file format is considered legacy. We recommend using instead the native Keras format, e.g. `model.save('my_model.keras')` or `keras.saving.save_model(model, 'my_model.keras')`. \n",
            "WARNING:absl:You are saving your model as an HDF5 file via `model.save()` or `keras.saving.save_model(model)`. This file format is considered legacy. We recommend using instead the native Keras format, e.g. `model.save('my_model.keras')` or `keras.saving.save_model(model, 'my_model.keras')`. \n",
            "WARNING:absl:You are saving your model as an HDF5 file via `model.save()` or `keras.saving.save_model(model)`. This file format is considered legacy. We recommend using instead the native Keras format, e.g. `model.save('my_model.keras')` or `keras.saving.save_model(model, 'my_model.keras')`. \n",
            "WARNING:absl:You are saving your model as an HDF5 file via `model.save()` or `keras.saving.save_model(model)`. This file format is considered legacy. We recommend using instead the native Keras format, e.g. `model.save('my_model.keras')` or `keras.saving.save_model(model, 'my_model.keras')`. \n",
            "WARNING:absl:You are saving your model as an HDF5 file via `model.save()` or `keras.saving.save_model(model)`. This file format is considered legacy. We recommend using instead the native Keras format, e.g. `model.save('my_model.keras')` or `keras.saving.save_model(model, 'my_model.keras')`. \n",
            "WARNING:absl:You are saving your model as an HDF5 file via `model.save()` or `keras.saving.save_model(model)`. This file format is considered legacy. We recommend using instead the native Keras format, e.g. `model.save('my_model.keras')` or `keras.saving.save_model(model, 'my_model.keras')`. \n",
            "WARNING:absl:You are saving your model as an HDF5 file via `model.save()` or `keras.saving.save_model(model)`. This file format is considered legacy. We recommend using instead the native Keras format, e.g. `model.save('my_model.keras')` or `keras.saving.save_model(model, 'my_model.keras')`. \n",
            "WARNING:absl:You are saving your model as an HDF5 file via `model.save()` or `keras.saving.save_model(model)`. This file format is considered legacy. We recommend using instead the native Keras format, e.g. `model.save('my_model.keras')` or `keras.saving.save_model(model, 'my_model.keras')`. \n",
            "WARNING:absl:You are saving your model as an HDF5 file via `model.save()` or `keras.saving.save_model(model)`. This file format is considered legacy. We recommend using instead the native Keras format, e.g. `model.save('my_model.keras')` or `keras.saving.save_model(model, 'my_model.keras')`. \n",
            "WARNING:absl:You are saving your model as an HDF5 file via `model.save()` or `keras.saving.save_model(model)`. This file format is considered legacy. We recommend using instead the native Keras format, e.g. `model.save('my_model.keras')` or `keras.saving.save_model(model, 'my_model.keras')`. \n",
            "WARNING:absl:You are saving your model as an HDF5 file via `model.save()` or `keras.saving.save_model(model)`. This file format is considered legacy. We recommend using instead the native Keras format, e.g. `model.save('my_model.keras')` or `keras.saving.save_model(model, 'my_model.keras')`. \n",
            "WARNING:absl:You are saving your model as an HDF5 file via `model.save()` or `keras.saving.save_model(model)`. This file format is considered legacy. We recommend using instead the native Keras format, e.g. `model.save('my_model.keras')` or `keras.saving.save_model(model, 'my_model.keras')`. \n",
            "WARNING:absl:You are saving your model as an HDF5 file via `model.save()` or `keras.saving.save_model(model)`. This file format is considered legacy. We recommend using instead the native Keras format, e.g. `model.save('my_model.keras')` or `keras.saving.save_model(model, 'my_model.keras')`. \n",
            "WARNING:absl:You are saving your model as an HDF5 file via `model.save()` or `keras.saving.save_model(model)`. This file format is considered legacy. We recommend using instead the native Keras format, e.g. `model.save('my_model.keras')` or `keras.saving.save_model(model, 'my_model.keras')`. \n",
            "WARNING:absl:You are saving your model as an HDF5 file via `model.save()` or `keras.saving.save_model(model)`. This file format is considered legacy. We recommend using instead the native Keras format, e.g. `model.save('my_model.keras')` or `keras.saving.save_model(model, 'my_model.keras')`. \n",
            "WARNING:absl:You are saving your model as an HDF5 file via `model.save()` or `keras.saving.save_model(model)`. This file format is considered legacy. We recommend using instead the native Keras format, e.g. `model.save('my_model.keras')` or `keras.saving.save_model(model, 'my_model.keras')`. \n",
            "WARNING:absl:You are saving your model as an HDF5 file via `model.save()` or `keras.saving.save_model(model)`. This file format is considered legacy. We recommend using instead the native Keras format, e.g. `model.save('my_model.keras')` or `keras.saving.save_model(model, 'my_model.keras')`. \n",
            "WARNING:absl:You are saving your model as an HDF5 file via `model.save()` or `keras.saving.save_model(model)`. This file format is considered legacy. We recommend using instead the native Keras format, e.g. `model.save('my_model.keras')` or `keras.saving.save_model(model, 'my_model.keras')`. \n",
            "WARNING:absl:You are saving your model as an HDF5 file via `model.save()` or `keras.saving.save_model(model)`. This file format is considered legacy. We recommend using instead the native Keras format, e.g. `model.save('my_model.keras')` or `keras.saving.save_model(model, 'my_model.keras')`. \n",
            "WARNING:absl:You are saving your model as an HDF5 file via `model.save()` or `keras.saving.save_model(model)`. This file format is considered legacy. We recommend using instead the native Keras format, e.g. `model.save('my_model.keras')` or `keras.saving.save_model(model, 'my_model.keras')`. \n",
            "WARNING:absl:You are saving your model as an HDF5 file via `model.save()` or `keras.saving.save_model(model)`. This file format is considered legacy. We recommend using instead the native Keras format, e.g. `model.save('my_model.keras')` or `keras.saving.save_model(model, 'my_model.keras')`. \n",
            "WARNING:absl:You are saving your model as an HDF5 file via `model.save()` or `keras.saving.save_model(model)`. This file format is considered legacy. We recommend using instead the native Keras format, e.g. `model.save('my_model.keras')` or `keras.saving.save_model(model, 'my_model.keras')`. \n",
            "WARNING:absl:You are saving your model as an HDF5 file via `model.save()` or `keras.saving.save_model(model)`. This file format is considered legacy. We recommend using instead the native Keras format, e.g. `model.save('my_model.keras')` or `keras.saving.save_model(model, 'my_model.keras')`. \n",
            "WARNING:absl:You are saving your model as an HDF5 file via `model.save()` or `keras.saving.save_model(model)`. This file format is considered legacy. We recommend using instead the native Keras format, e.g. `model.save('my_model.keras')` or `keras.saving.save_model(model, 'my_model.keras')`. \n",
            "WARNING:absl:You are saving your model as an HDF5 file via `model.save()` or `keras.saving.save_model(model)`. This file format is considered legacy. We recommend using instead the native Keras format, e.g. `model.save('my_model.keras')` or `keras.saving.save_model(model, 'my_model.keras')`. \n"
          ]
        },
        {
          "name": "stdout",
          "output_type": "stream",
          "text": [
            "\u001b[1m2/2\u001b[0m \u001b[32m━━━━━━━━━━━━━━━━━━━━\u001b[0m\u001b[37m\u001b[0m \u001b[1m1s\u001b[0m 256ms/step\n"
          ]
        }
      ],
      "source": [
        "# Reshape to (samples, timesteps, features)\n",
        "X_train_lstm = X_train.reshape((X_train.shape[0], X_train.shape[1], 1))\n",
        "X_test_lstm  = X_test.reshape((X_test.shape[0],  X_test.shape[1],  1))\n",
        "\n",
        "lstm = Sequential([\n",
        "    LSTM(64, input_shape=(WINDOW_SIZE,1), return_sequences=False),\n",
        "    Dropout(0.2),\n",
        "    Dense(32, activation=\"relu\"),\n",
        "    Dense(1)\n",
        "])\n",
        "\n",
        "lstm.compile(optimizer=\"adam\", loss=\"mse\")\n",
        "callbacks = [\n",
        "    EarlyStopping(monitor=\"val_loss\", patience=10, restore_best_weights=True),\n",
        "    ModelCheckpoint(\"models/lstm_model.h5\", monitor=\"val_loss\", save_best_only=True)\n",
        "]\n",
        "history = lstm.fit(X_train_lstm, y_train, validation_split=0.1, epochs=200, batch_size=32, callbacks=callbacks, verbose=0)\n",
        "\n",
        "# Predict\n",
        "lstm_preds = lstm.predict(X_test_lstm).flatten()\n"
      ]
    },
    {
      "cell_type": "markdown",
      "metadata": {},
      "source": [
        "## 6) Evaluation & Comparison"
      ]
    },
    {
      "cell_type": "code",
      "execution_count": 88,
      "metadata": {},
      "outputs": [
        {
          "data": {
            "text/html": [
              "<div>\n",
              "<style scoped>\n",
              "    .dataframe tbody tr th:only-of-type {\n",
              "        vertical-align: middle;\n",
              "    }\n",
              "\n",
              "    .dataframe tbody tr th {\n",
              "        vertical-align: top;\n",
              "    }\n",
              "\n",
              "    .dataframe thead th {\n",
              "        text-align: right;\n",
              "    }\n",
              "</style>\n",
              "<table border=\"1\" class=\"dataframe\">\n",
              "  <thead>\n",
              "    <tr style=\"text-align: right;\">\n",
              "      <th></th>\n",
              "      <th>Model</th>\n",
              "      <th>MAE</th>\n",
              "      <th>MSE</th>\n",
              "      <th>RMSE</th>\n",
              "      <th>R2</th>\n",
              "    </tr>\n",
              "  </thead>\n",
              "  <tbody>\n",
              "    <tr>\n",
              "      <th>0</th>\n",
              "      <td>RandomForest</td>\n",
              "      <td>27.855786</td>\n",
              "      <td>905.929008</td>\n",
              "      <td>30.098655</td>\n",
              "      <td>-6.638955</td>\n",
              "    </tr>\n",
              "    <tr>\n",
              "      <th>1</th>\n",
              "      <td>LSTM</td>\n",
              "      <td>50.295130</td>\n",
              "      <td>2647.982327</td>\n",
              "      <td>51.458550</td>\n",
              "      <td>-21.328260</td>\n",
              "    </tr>\n",
              "  </tbody>\n",
              "</table>\n",
              "</div>"
            ],
            "text/plain": [
              "          Model        MAE          MSE       RMSE         R2\n",
              "0  RandomForest  27.855786   905.929008  30.098655  -6.638955\n",
              "1          LSTM  50.295130  2647.982327  51.458550 -21.328260"
            ]
          },
          "metadata": {},
          "output_type": "display_data"
        },
        {
          "data": {
            "image/png": "[encoded data removed]",
            "text/plain": [
              "<Figure size 1200x500 with 1 Axes>"
            ]
          },
          "metadata": {},
          "output_type": "display_data"
        },
        {
          "data": {
            "image/png": "[encoded data removed]",
            "text/plain": [
              "<Figure size 800x400 with 1 Axes>"
            ]
          },
          "metadata": {},
          "output_type": "display_data"
        }
      ],
      "source": [
        "def regression_metrics(y_true, y_pred):\n",
        "    mae = mean_absolute_error(y_true, y_pred)\n",
        "    mse = mean_squared_error(y_true, y_pred)\n",
        "    rmse = np.sqrt(mse)\n",
        "    r2 = r2_score(y_true, y_pred)\n",
        "    return mae, mse, rmse, r2\n",
        "\n",
        "metrics = []\n",
        "for name, preds in [(\"RandomForest\", rf_preds), (\"LSTM\", lstm_preds)]:\n",
        "    mae, mse, rmse, r2 = regression_metrics(y_test, preds)\n",
        "    metrics.append({\"Model\": name, \"MAE\": mae, \"MSE\": mse, \"RMSE\": rmse, \"R2\": r2})\n",
        "\n",
        "metrics_df = pd.DataFrame(metrics).sort_values(\"RMSE\")\n",
        "display(metrics_df)\n",
        "\n",
        "metrics_df.to_csv(\"metrics/metrics_comparison.csv\", index=False)\n",
        "\n",
        "# Plot Actual vs Predicted (both models)\n",
        "test_dates = df[DATE_COL].iloc[len(df)-len(y_test):].values\n",
        "plt.figure(figsize=(12,5))\n",
        "plt.plot(test_dates, y_test, label=\"Actual\")\n",
        "plt.plot(test_dates, rf_preds, label=\"RF Predicted\", alpha=0.8)\n",
        "plt.plot(test_dates, lstm_preds, label=\"LSTM Predicted\", alpha=0.8)\n",
        "plt.title(f\"{SYMBOL} - Test Set: Actual vs Predicted Close\")\n",
        "plt.xlabel(\"Date\"); plt.ylabel(\"Price\")\n",
        "plt.legend(); plt.tight_layout()\n",
        "plt.savefig(\"figures/actual_vs_pred.png\", dpi=150)\n",
        "plt.show()\n",
        "\n",
        "# Error bar chart\n",
        "plt.figure(figsize=(8,4))\n",
        "plt.bar(metrics_df[\"Model\"], metrics_df[\"RMSE\"])\n",
        "plt.title(\"RMSE by Model\")\n",
        "plt.ylabel(\"RMSE\"); plt.tight_layout()\n",
        "plt.savefig(\"figures/rmse_bar.png\", dpi=150)\n",
        "plt.show()\n"
      ]
    },
    {
      "cell_type": "markdown",
      "metadata": {},
      "source": [
        "## 7) Forecast Specific Dates & Simulate Investment"
      ]
    },
    {
      "cell_type": "code",
      "execution_count": 89,
      "metadata": {},
      "outputs": [
        {
          "name": "stdout",
          "output_type": "stream",
          "text": [
            "Best model: RandomForest\n"
          ]
        },
        {
          "data": {
            "text/html": [
              "<div>\n",
              "<style scoped>\n",
              "    .dataframe tbody tr th:only-of-type {\n",
              "        vertical-align: middle;\n",
              "    }\n",
              "\n",
              "    .dataframe tbody tr th {\n",
              "        vertical-align: top;\n",
              "    }\n",
              "\n",
              "    .dataframe thead th {\n",
              "        text-align: right;\n",
              "    }\n",
              "</style>\n",
              "<table border=\"1\" class=\"dataframe\">\n",
              "  <thead>\n",
              "    <tr style=\"text-align: right;\">\n",
              "      <th></th>\n",
              "      <th>Date</th>\n",
              "      <th>Predicted_Close</th>\n",
              "    </tr>\n",
              "  </thead>\n",
              "  <tbody>\n",
              "    <tr>\n",
              "      <th>0</th>\n",
              "      <td>2025-06-01</td>\n",
              "      <td>161.491225</td>\n",
              "    </tr>\n",
              "    <tr>\n",
              "      <th>1</th>\n",
              "      <td>2025-09-01</td>\n",
              "      <td>158.237625</td>\n",
              "    </tr>\n",
              "    <tr>\n",
              "      <th>2</th>\n",
              "      <td>2025-12-01</td>\n",
              "      <td>158.185800</td>\n",
              "    </tr>\n",
              "    <tr>\n",
              "      <th>3</th>\n",
              "      <td>2026-06-01</td>\n",
              "      <td>158.185800</td>\n",
              "    </tr>\n",
              "  </tbody>\n",
              "</table>\n",
              "</div>"
            ],
            "text/plain": [
              "         Date  Predicted_Close\n",
              "0  2025-06-01       161.491225\n",
              "1  2025-09-01       158.237625\n",
              "2  2025-12-01       158.185800\n",
              "3  2026-06-01       158.185800"
            ]
          },
          "metadata": {},
          "output_type": "display_data"
        }
      ],
      "source": [
        "# Choose best model by RMSE (lower is better)\n",
        "best_model_name = metrics_df.iloc[0][\"Model\"]\n",
        "print(\"Best model:\", best_model_name)\n",
        "\n",
        "# Prepare last window from full series\n",
        "last_window = close_values[-WINDOW_SIZE:].astype(float)\n",
        "\n",
        "# We will advance day-by-day on business days until we hit each target date.\n",
        "# For ML model: rf expects shape (1, WINDOW_SIZE)\n",
        "# For LSTM: expects (1, WINDOW_SIZE, 1)\n",
        "\n",
        "# Build a business-day date range from last historical date + 1 to max target\n",
        "target_dates = [pd.to_datetime(d) for d in FORECAST_DATES_STR]\n",
        "start_date = df[DATE_COL].max() + pd.Timedelta(days=1)\n",
        "end_date = max(target_dates)\n",
        "future_bdays = pd.bdate_range(start=start_date, end=end_date)\n",
        "\n",
        "# Helper to predict next value from current window\n",
        "def predict_next(window, model_name):\n",
        "    if model_name == \"RandomForest\":\n",
        "        return rf.predict(window.reshape(1, -1))[0]\n",
        "    else:\n",
        "        return lstm.predict(window.reshape(1, WINDOW_SIZE, 1), verbose=0).flatten()[0]\n",
        "\n",
        "# Roll forward\n",
        "forecast_series = []\n",
        "cur_window = last_window.copy()\n",
        "cur_date_map = {}\n",
        "\n",
        "for d in future_bdays:\n",
        "    nxt = predict_next(cur_window if best_model_name==\"RandomForest\" else cur_window.reshape(-1),\n",
        "                       best_model_name)\n",
        "    forecast_series.append((d, float(nxt)))\n",
        "    # update window\n",
        "    cur_window = np.roll(cur_window, -1)\n",
        "    cur_window[-1] = nxt\n",
        "    # capture exact target dates if present as business days\n",
        "    cur_date_map[d.date()] = float(nxt)\n",
        "\n",
        "# For any target date that is not a business day, use previous business day forecast\n",
        "def get_forecast_for_date(target_dt):\n",
        "    if target_dt.date() in cur_date_map:\n",
        "        return cur_date_map[target_dt.date()]\n",
        "    # pick the last business day before target\n",
        "    prior = pd.bdate_range(end=target_dt, periods=1)[0].date()\n",
        "    return cur_date_map.get(prior, np.nan)\n",
        "\n",
        "forecast_table = []\n",
        "for ds in FORECAST_DATES_STR:\n",
        "    dt = pd.to_datetime(ds)\n",
        "    price = get_forecast_for_date(dt)\n",
        "    forecast_table.append({\"Date\": dt.date(), \"Predicted_Close\": price})\n",
        "\n",
        "forecast_df = pd.DataFrame(forecast_table)\n",
        "display(forecast_df)\n",
        "forecast_df.to_csv(\"forecasts/specific_date_forecasts.csv\", index=False)\n"
      ]
    },
    {
      "cell_type": "code",
      "execution_count": 90,
      "metadata": {},
      "outputs": [
        {
          "data": {
            "text/html": [
              "<div>\n",
              "<style scoped>\n",
              "    .dataframe tbody tr th:only-of-type {\n",
              "        vertical-align: middle;\n",
              "    }\n",
              "\n",
              "    .dataframe tbody tr th {\n",
              "        vertical-align: top;\n",
              "    }\n",
              "\n",
              "    .dataframe thead th {\n",
              "        text-align: right;\n",
              "    }\n",
              "</style>\n",
              "<table border=\"1\" class=\"dataframe\">\n",
              "  <thead>\n",
              "    <tr style=\"text-align: right;\">\n",
              "      <th></th>\n",
              "      <th>Date</th>\n",
              "      <th>Predicted_Close</th>\n",
              "      <th>Shares_Held</th>\n",
              "      <th>Investment_Value</th>\n",
              "      <th>Return_%</th>\n",
              "    </tr>\n",
              "  </thead>\n",
              "  <tbody>\n",
              "    <tr>\n",
              "      <th>0</th>\n",
              "      <td>2025-06-01</td>\n",
              "      <td>161.491225</td>\n",
              "      <td>61.922869</td>\n",
              "      <td>10000.000000</td>\n",
              "      <td>0.000000</td>\n",
              "    </tr>\n",
              "    <tr>\n",
              "      <th>1</th>\n",
              "      <td>2025-09-01</td>\n",
              "      <td>158.237625</td>\n",
              "      <td>61.922869</td>\n",
              "      <td>9798.527753</td>\n",
              "      <td>-2.014722</td>\n",
              "    </tr>\n",
              "    <tr>\n",
              "      <th>2</th>\n",
              "      <td>2025-12-01</td>\n",
              "      <td>158.185800</td>\n",
              "      <td>61.922869</td>\n",
              "      <td>9795.318600</td>\n",
              "      <td>-2.046814</td>\n",
              "    </tr>\n",
              "    <tr>\n",
              "      <th>3</th>\n",
              "      <td>2026-06-01</td>\n",
              "      <td>158.185800</td>\n",
              "      <td>61.922869</td>\n",
              "      <td>9795.318600</td>\n",
              "      <td>-2.046814</td>\n",
              "    </tr>\n",
              "  </tbody>\n",
              "</table>\n",
              "</div>"
            ],
            "text/plain": [
              "         Date  Predicted_Close  Shares_Held  Investment_Value  Return_%\n",
              "0  2025-06-01       161.491225    61.922869      10000.000000  0.000000\n",
              "1  2025-09-01       158.237625    61.922869       9798.527753 -2.014722\n",
              "2  2025-12-01       158.185800    61.922869       9795.318600 -2.046814\n",
              "3  2026-06-01       158.185800    61.922869       9795.318600 -2.046814"
            ]
          },
          "metadata": {},
          "output_type": "display_data"
        },
        {
          "data": {
            "image/png": "[encoded data removed]",
            "text/plain": [
              "<Figure size 1000x400 with 1 Axes>"
            ]
          },
          "metadata": {},
          "output_type": "display_data"
        }
      ],
      "source": [
        "# Simulate investment of INVEST_AMOUNT on INVEST_DATE_STR\n",
        "invest_dt = pd.to_datetime(INVEST_DATE_STR)\n",
        "invest_price = None\n",
        "\n",
        "# If invest date is in history, use actual Close; otherwise forecast\n",
        "if invest_dt <= df[DATE_COL].max():\n",
        "    # use previous business day close if invest date is non-business\n",
        "    if invest_dt not in df[DATE_COL].values:\n",
        "        invest_dt = pd.bdate_range(end=invest_dt, periods=1)[0]\n",
        "    invest_price = float(df.loc[df[DATE_COL]==invest_dt, CLOSE_COL].iloc[0])\n",
        "else:\n",
        "    # Use forecast for invest date (or nearest prior business day)\n",
        "    # Build a unified lookup from historical + forecast\n",
        "    # Use forecast for invest date (or nearest prior business day)\n",
        "    # Build a unified lookup from historical + forecast\n",
        "    hist_map = {d: float(p) for d, p in zip(df[DATE_COL].dt.date, df[CLOSE_COL])}\n",
        "\n",
        "# reuse cur_date_map from forecasts\n",
        "def get_price_for_date(dt):\n",
        "    if dt.date() in hist_map:\n",
        "        return hist_map[dt.date()]\n",
        "    if dt.date() in cur_date_map:\n",
        "        return cur_date_map[dt.date()]\n",
        "    prior = pd.bdate_range(end=dt, periods=1)[0].date()\n",
        "    return cur_date_map.get(prior, np.nan)\n",
        "\n",
        "invest_price = get_price_for_date(invest_dt)\n",
        "\n",
        "shares = INVEST_AMOUNT / invest_price if invest_price and invest_price>0 else np.nan\n",
        "\n",
        "sim_rows = []\n",
        "for _, row in forecast_df.iterrows():\n",
        "    d = pd.to_datetime(row[\"Date\"])\n",
        "    price = row[\"Predicted_Close\"]\n",
        "    value = shares * price if price and shares and shares>0 else np.nan\n",
        "    ret_pct = ((value - INVEST_AMOUNT)/INVEST_AMOUNT)*100 if value else np.nan\n",
        "    sim_rows.append({\"Date\": d.date(),\n",
        "                     \"Predicted_Close\": price,\n",
        "                     \"Shares_Held\": shares,\n",
        "                     \"Investment_Value\": value,\n",
        "                     \"Return_%\": ret_pct})\n",
        "\n",
        "sim_df = pd.DataFrame(sim_rows)\n",
        "display(sim_df)\n",
        "sim_df.to_csv(\"forecasts/investment_simulation.csv\", index=False)\n",
        "\n",
        "# Plot investment growth\n",
        "plt.figure(figsize=(10,4))\n",
        "plt.plot(pd.to_datetime(sim_df[\"Date\"]), sim_df[\"Investment_Value\"], marker=\"o\")\n",
        "plt.title(f\"Projected Investment Value (Invest {INVEST_AMOUNT} PKR on {INVEST_DATE_STR})\")\n",
        "plt.xlabel(\"Date\"); plt.ylabel(\"Value (PKR)\"); plt.tight_layout()\n",
        "plt.savefig(\"figures/investment_growth.png\", dpi=150)\n",
        "plt.show()\n"
      ]
    }
  ],
  "metadata": {
    "kernelspec": {
      "display_name": "Python 3",
      "language": "python",
      "name": "python3"
    },
    "language_info": {
      "codemirror_mode": {
        "name": "ipython",
        "version": 3
      },
      "file_extension": ".py",
      "mimetype": "text/x-python",
      "name": "python",
      "nbconvert_exporter": "python",
      "pygments_lexer": "ipython3",
      "version": "3.12.0"
    }
  },
  "nbformat": 4,
  "nbformat_minor": 5
}
